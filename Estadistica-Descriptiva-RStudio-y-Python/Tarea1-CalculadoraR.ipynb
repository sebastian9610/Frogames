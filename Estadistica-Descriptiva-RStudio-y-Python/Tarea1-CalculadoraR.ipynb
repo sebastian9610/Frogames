{
 "cells": [
  {
   "cell_type": "markdown",
   "metadata": {},
   "source": [
    "# Utilizando R como calculadora\n",
    "\n",
    "Dado que aún no se configura en local el entorno R con jupyter vscode, se exportará en un ipynb a PDF las solcuiones con el código probado en R"
   ]
  },
  {
   "cell_type": "markdown",
   "metadata": {},
   "source": [
    "### Pregunta 1\n",
    "Si hubiéramos empezado a contar segundos a partir de las 12 campanadas que marcan el inicio de 2018, ¿a\n",
    "qué hora de qué día de qué año llegaríamos a los 250 millones de segundos? ¡Cuidado con los años bisiestos!"
   ]
  },
  {
   "cell_type": "code",
   "execution_count": null,
   "metadata": {},
   "outputs": [],
   "source": [
    "# Función para verificar si un año es bisiesto\n",
    "es_bisiesto <- function(ano) {\n",
    "  return((ano %% 4 == 0 & ano %% 100 != 0) | (ano %% 400 == 0))\n",
    "}\n",
    "\n",
    "# Fecha de inicio\n",
    "inicio <- as.POSIXct(\"2018-01-01 00:00:00\", tz = \"UTC\")\n",
    "\n",
    "# Número total de segundos\n",
    "segundos_totales <- 250000000\n",
    "\n",
    "# Calcular la fecha y hora final\n",
    "fecha_hora_final <- inicio + segundos_totales\n",
    "\n",
    "# Iterar para encontrar la fecha y hora final teniendo en cuenta los años bisiestos\n",
    "while (segundos_totales > 0) {\n",
    "  # Aumentar la fecha y hora en un segundo\n",
    "  fecha_hora_final <- fecha_hora_final + 1\n",
    "  \n",
    "  # Verificar si el año actual es bisiesto\n",
    "  if (es_bisiesto(as.numeric(format(fecha_hora_final, \"%Y\")))) {\n",
    "    segundos_totales <- segundos_totales - 366\n",
    "  } else {\n",
    "    segundos_totales <- segundos_totales - 365\n",
    "  }\n",
    "}\n",
    "\n",
    "# Imprimir la fecha y hora final\n",
    "print(format(fecha_hora_final, \"%Y-%m-%d %H:%M:%S\"))"
   ]
  },
  {
   "cell_type": "markdown",
   "metadata": {},
   "source": [
    "### Pregunta 2\n",
    "Crea una función en R que resuelva una ecuación de primer grado (de la forma Ax + B = 0). Es decir, los\n",
    "parámetros deben ser los coeficientes (en orden) y la función tiene que devolver la solución. Por ejemplo, si\n",
    "la ecuación es 2x + 4 = 0, la función tendría que devolver -2.\n",
    "Una vez creada la función, utilízala para resolver las siguientes ecuaciones de primer grado:\n",
    "* 5x + 3 = 0\n",
    "* 7x + 4 = 18\n",
    "* x + 1 = 1"
   ]
  },
  {
   "cell_type": "code",
   "execution_count": null,
   "metadata": {},
   "outputs": [],
   "source": [
    "# Función para resolver ecuaciones de primer grado Ax + B = 0\n",
    "resolver_ecuacion_primer_grado <- function(A, B) {\n",
    "  if (A == 0) {\n",
    "    if (B == 0) {\n",
    "      return(\"Infinitas soluciones (identidad)\")\n",
    "    } else {\n",
    "      return(\"No tiene solución (contradicción)\")\n",
    "    }\n",
    "  } else {\n",
    "    solucion <- -B / A\n",
    "    return(solucion)\n",
    "  }\n",
    "}\n",
    "\n",
    "# Ejemplos de uso de la función\n",
    "solucion1 <- resolver_ecuacion_primer_grado(5, 3)\n",
    "solucion2 <- resolver_ecuacion_primer_grado(7, 4 - 18)\n",
    "solucion3 <- resolver_ecuacion_primer_grado(1, 1 - 1)\n",
    "\n",
    "# Imprimir las soluciones\n",
    "cat(\"Para la ecuación 5x + 3 = 0, la solución es:\", solucion1, \"\\n\")\n",
    "cat(\"Para la ecuación 7x + 4 = 18, la solución es:\", solucion2, \"\\n\")\n",
    "cat(\"Para la ecuación x + 1 = 1, la solución es:\", solucion3, \"\\n\")"
   ]
  },
  {
   "cell_type": "markdown",
   "metadata": {},
   "source": [
    "### Pregunta 3\n",
    "Da una expresión para calcular 3e−π con R y a continuación, da el resultado obtenido redondeado a 3 cifras\n",
    "decimales."
   ]
  },
  {
   "cell_type": "code",
   "execution_count": null,
   "metadata": {},
   "outputs": [],
   "source": [
    "# Calcular 3e^(-pi)\n",
    "resultado <- 3 * exp(1) -pi\n",
    "\n",
    "# Redondear el resultado a 3 cifras decimales\n",
    "resultado_redondeado <- round(resultado, 3)\n",
    "\n",
    "# Imprimir el resultado\n",
    "print(resultado_redondeado)"
   ]
  },
  {
   "cell_type": "markdown",
   "metadata": {},
   "source": [
    "### Pregunta 4\n",
    "Da una expresión para calcular el módulo del número complejo ((2 + 3i)^2) / (5 + 8i) y, a continuación, da el resultado obtenido redondeado a 3 cifras decimales."
   ]
  },
  {
   "cell_type": "code",
   "execution_count": null,
   "metadata": {},
   "outputs": [],
   "source": [
    "# Definir el número complejo\n",
    "numero_complejo <- ((2 + 3i)^2) / (5 + 8i)\n",
    "\n",
    "# Calcular el módulo del número complejo\n",
    "modulo_resultado <- Mod(numero_complejo)\n",
    "\n",
    "# Redondear el resultado a 3 cifras decimales\n",
    "modulo_resultado_redondeado <- round(modulo_resultado, 3)\n",
    "\n",
    "# Imprimir el resultado\n",
    "print(modulo_resultado_redondeado)\n"
   ]
  }
 ],
 "metadata": {
  "kernelspec": {
   "display_name": "Python 3",
   "language": "python",
   "name": "python3"
  },
  "language_info": {
   "codemirror_mode": {
    "name": "ipython",
    "version": 3
   },
   "file_extension": ".py",
   "mimetype": "text/x-python",
   "name": "python",
   "nbconvert_exporter": "python",
   "pygments_lexer": "ipython3",
   "version": "3.12.2"
  }
 },
 "nbformat": 4,
 "nbformat_minor": 2
}
