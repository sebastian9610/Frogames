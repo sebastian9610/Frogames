{
 "cells": [
  {
   "cell_type": "markdown",
   "metadata": {},
   "source": [
    "# Introducción a la Representación Gráfica"
   ]
  },
  {
   "cell_type": "code",
   "execution_count": null,
   "metadata": {},
   "outputs": [],
   "source": [
    "# Pregunta 1\n",
    "print('Pregunta 1')\n",
    "curve(x^2-3*x+30, -15, 15, main = \"Una parabola\",xlab =expression(x), ylab =expression(y = x^2-3*x+30))"
   ]
  },
  {
   "cell_type": "code",
   "execution_count": null,
   "metadata": {},
   "outputs": [],
   "source": [
    "#Pregunta 2\n",
    "print('Pregunta 2')\n",
    "f =function(x){ x^2-3*x+30}\n",
    "I =c(-15:15)\n",
    "plot(I,f(I), type = \"l\",  main = \"Una parabola\",xlab =expression(x), ylab =expression(y = x^2-3*x+30))"
   ]
  },
  {
   "cell_type": "code",
   "execution_count": null,
   "metadata": {},
   "outputs": [],
   "source": [
    "# Pregunta 3\n",
    "print('Pregunta 3')\n",
    "curve(5*2^x, -10, 25, log = \"y\", ylab =expression(y = 5%.%2^x), xlab = \"\")"
   ]
  },
  {
   "cell_type": "code",
   "execution_count": null,
   "metadata": {},
   "outputs": [],
   "source": [
    "# Pregunta 4\n",
    "print('Pregunta 4')\n",
    "curve(3*x, -10, 20, xlab = \"\", ylab = \"\",col = \"blue\", main = \"2 rectas\", sub = \"Dos rectas con pendiente opuesto\")\n",
    "curve(-3*x, col = \"green\", add = TRUE)\n",
    "legend(13, 10, legend =c(\"3x\",\"-3x\"), lty =c(1, 1), col =c(\"blue\", \"green\"))"
   ]
  },
  {
   "cell_type": "code",
   "execution_count": null,
   "metadata": {},
   "outputs": [],
   "source": [
    "#Pregunta 5\n",
    "print('Pregunta 5')\n",
    "abline(h = 0, col = \"red\", lwd = 5)"
   ]
  },
  {
   "cell_type": "code",
   "execution_count": null,
   "metadata": {},
   "outputs": [],
   "source": [
    "# Pregunta 6\n",
    "print('Pregunta 6')\n",
    "abline(7, 2, col = \"blue\", lwd = 2)"
   ]
  }
 ],
 "metadata": {
  "kernelspec": {
   "display_name": "Python 3",
   "language": "python",
   "name": "python3"
  },
  "language_info": {
   "name": "python",
   "version": "3.12.2"
  }
 },
 "nbformat": 4,
 "nbformat_minor": 2
}
