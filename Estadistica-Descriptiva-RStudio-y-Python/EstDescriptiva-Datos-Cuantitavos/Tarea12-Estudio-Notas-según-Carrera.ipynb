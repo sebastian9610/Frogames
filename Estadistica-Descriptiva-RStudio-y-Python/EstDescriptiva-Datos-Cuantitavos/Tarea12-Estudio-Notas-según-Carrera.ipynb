{
 "cells": [
  {
   "cell_type": "markdown",
   "metadata": {},
   "source": [
    "# Estudio de las Notas según la Carrera"
   ]
  },
  {
   "cell_type": "code",
   "execution_count": 1,
   "metadata": {},
   "outputs": [],
   "source": [
    "import pandas as pd\n",
    "import numpy as np\n",
    "import plotly.express as px\n",
    "from scipy import stats"
   ]
  },
  {
   "cell_type": "markdown",
   "metadata": {},
   "source": [
    "Carga el conjunto de datos de la carpeta data llamado grades.txt en R y responde a las siguientes preguntas:"
   ]
  },
  {
   "cell_type": "code",
   "execution_count": 2,
   "metadata": {},
   "outputs": [
    {
     "data": {
      "text/html": [
       "<div>\n",
       "<style scoped>\n",
       "    .dataframe tbody tr th:only-of-type {\n",
       "        vertical-align: middle;\n",
       "    }\n",
       "\n",
       "    .dataframe tbody tr th {\n",
       "        vertical-align: top;\n",
       "    }\n",
       "\n",
       "    .dataframe thead th {\n",
       "        text-align: right;\n",
       "    }\n",
       "</style>\n",
       "<table border=\"1\" class=\"dataframe\">\n",
       "  <thead>\n",
       "    <tr style=\"text-align: right;\">\n",
       "      <th></th>\n",
       "      <th>estudio</th>\n",
       "      <th>nota</th>\n",
       "    </tr>\n",
       "  </thead>\n",
       "  <tbody>\n",
       "    <tr>\n",
       "      <th>1</th>\n",
       "      <td>Industrial</td>\n",
       "      <td>4.811598</td>\n",
       "    </tr>\n",
       "    <tr>\n",
       "      <th>2</th>\n",
       "      <td>Telematica</td>\n",
       "      <td>3.825744</td>\n",
       "    </tr>\n",
       "    <tr>\n",
       "      <th>3</th>\n",
       "      <td>Telematica</td>\n",
       "      <td>3.518318</td>\n",
       "    </tr>\n",
       "    <tr>\n",
       "      <th>4</th>\n",
       "      <td>Mates</td>\n",
       "      <td>0.000000</td>\n",
       "    </tr>\n",
       "    <tr>\n",
       "      <th>5</th>\n",
       "      <td>Telematica</td>\n",
       "      <td>5.879675</td>\n",
       "    </tr>\n",
       "    <tr>\n",
       "      <th>...</th>\n",
       "      <td>...</td>\n",
       "      <td>...</td>\n",
       "    </tr>\n",
       "    <tr>\n",
       "      <th>196</th>\n",
       "      <td>Informatica</td>\n",
       "      <td>4.552850</td>\n",
       "    </tr>\n",
       "    <tr>\n",
       "      <th>197</th>\n",
       "      <td>Industrial</td>\n",
       "      <td>1.584758</td>\n",
       "    </tr>\n",
       "    <tr>\n",
       "      <th>198</th>\n",
       "      <td>Industrial</td>\n",
       "      <td>3.530643</td>\n",
       "    </tr>\n",
       "    <tr>\n",
       "      <th>199</th>\n",
       "      <td>Informatica</td>\n",
       "      <td>4.124979</td>\n",
       "    </tr>\n",
       "    <tr>\n",
       "      <th>200</th>\n",
       "      <td>Mates</td>\n",
       "      <td>7.868809</td>\n",
       "    </tr>\n",
       "  </tbody>\n",
       "</table>\n",
       "<p>200 rows × 2 columns</p>\n",
       "</div>"
      ],
      "text/plain": [
       "         estudio      nota\n",
       "1     Industrial  4.811598\n",
       "2     Telematica  3.825744\n",
       "3     Telematica  3.518318\n",
       "4          Mates  0.000000\n",
       "5     Telematica  5.879675\n",
       "..           ...       ...\n",
       "196  Informatica  4.552850\n",
       "197   Industrial  1.584758\n",
       "198   Industrial  3.530643\n",
       "199  Informatica  4.124979\n",
       "200        Mates  7.868809\n",
       "\n",
       "[200 rows x 2 columns]"
      ]
     },
     "execution_count": 2,
     "metadata": {},
     "output_type": "execute_result"
    }
   ],
   "source": [
    "df_grades = pd.read_csv('grades.txt', sep=\" \")\n",
    "df_grades"
   ]
  },
  {
   "cell_type": "markdown",
   "metadata": {},
   "source": [
    "## Pregunta 1\n",
    "\n",
    "Calcula la media, la mediana y la moda redondeada a dos cifras decimales de las notas numéricas de los\n",
    "exámenes tanto de forma conjunta como por estudio universitario. ¿En qué grupo observamos la nota más\n",
    "alta? ¿Qué grupo está por encima de la media de estudiantes?"
   ]
  },
  {
   "cell_type": "code",
   "execution_count": 3,
   "metadata": {},
   "outputs": [],
   "source": [
    "def moda(x):\n",
    "    return stats.mode(x)[0]"
   ]
  },
  {
   "cell_type": "markdown",
   "metadata": {},
   "source": [
    "### Por grupo universitario"
   ]
  },
  {
   "cell_type": "code",
   "execution_count": 4,
   "metadata": {},
   "outputs": [
    {
     "data": {
      "text/html": [
       "<div>\n",
       "<style scoped>\n",
       "    .dataframe tbody tr th:only-of-type {\n",
       "        vertical-align: middle;\n",
       "    }\n",
       "\n",
       "    .dataframe tbody tr th {\n",
       "        vertical-align: top;\n",
       "    }\n",
       "\n",
       "    .dataframe thead th {\n",
       "        text-align: right;\n",
       "    }\n",
       "</style>\n",
       "<table border=\"1\" class=\"dataframe\">\n",
       "  <thead>\n",
       "    <tr style=\"text-align: right;\">\n",
       "      <th></th>\n",
       "      <th>estudio</th>\n",
       "      <th>media</th>\n",
       "      <th>mediana</th>\n",
       "      <th>moda</th>\n",
       "      <th>nota_max</th>\n",
       "    </tr>\n",
       "  </thead>\n",
       "  <tbody>\n",
       "    <tr>\n",
       "      <th>0</th>\n",
       "      <td>Industrial</td>\n",
       "      <td>3.58</td>\n",
       "      <td>3.44</td>\n",
       "      <td>0.00</td>\n",
       "      <td>10.02</td>\n",
       "    </tr>\n",
       "    <tr>\n",
       "      <th>1</th>\n",
       "      <td>Informatica</td>\n",
       "      <td>3.95</td>\n",
       "      <td>3.48</td>\n",
       "      <td>1.85</td>\n",
       "      <td>8.52</td>\n",
       "    </tr>\n",
       "    <tr>\n",
       "      <th>2</th>\n",
       "      <td>Mates</td>\n",
       "      <td>4.22</td>\n",
       "      <td>4.10</td>\n",
       "      <td>0.00</td>\n",
       "      <td>8.54</td>\n",
       "    </tr>\n",
       "    <tr>\n",
       "      <th>3</th>\n",
       "      <td>Telematica</td>\n",
       "      <td>3.70</td>\n",
       "      <td>3.41</td>\n",
       "      <td>0.00</td>\n",
       "      <td>9.29</td>\n",
       "    </tr>\n",
       "  </tbody>\n",
       "</table>\n",
       "</div>"
      ],
      "text/plain": [
       "       estudio  media  mediana  moda  nota_max\n",
       "0   Industrial   3.58     3.44  0.00     10.02\n",
       "1  Informatica   3.95     3.48  1.85      8.52\n",
       "2        Mates   4.22     4.10  0.00      8.54\n",
       "3   Telematica   3.70     3.41  0.00      9.29"
      ]
     },
     "execution_count": 4,
     "metadata": {},
     "output_type": "execute_result"
    }
   ],
   "source": [
    "df_grades.groupby(['estudio'], as_index=False, dropna=False).agg(media=('nota','mean'), mediana=('nota','median'), moda=('nota', moda), nota_max=('nota','max')).round(2)"
   ]
  },
  {
   "cell_type": "markdown",
   "metadata": {},
   "source": [
    "* Industrial es la nota mas alta del grupo \n",
    "* El grupo de matematicas esta por encima de la media"
   ]
  },
  {
   "cell_type": "markdown",
   "metadata": {},
   "source": [
    "### Forma conjunta"
   ]
  },
  {
   "cell_type": "code",
   "execution_count": 5,
   "metadata": {},
   "outputs": [
    {
     "name": "stdout",
     "output_type": "stream",
     "text": [
      "la media conjunta es: 3.87\n",
      "la mediana conjunta es: 3.5\n",
      "la moda conjunta es: 0.0\n"
     ]
    }
   ],
   "source": [
    "print('la media conjunta es:', df_grades['nota'].mean().round(2))\n",
    "print('la mediana conjunta es:', df_grades['nota'].median().round(2))\n",
    "print('la moda conjunta es:', df_grades['nota'].mode()[0].round(2))"
   ]
  },
  {
   "cell_type": "markdown",
   "metadata": {},
   "source": [
    "## Pregunta 2\n",
    "¿En qué grupo observamos más variación de notas? Justifica tu respuesta"
   ]
  },
  {
   "cell_type": "code",
   "execution_count": 6,
   "metadata": {},
   "outputs": [
    {
     "data": {
      "text/html": [
       "<div>\n",
       "<style scoped>\n",
       "    .dataframe tbody tr th:only-of-type {\n",
       "        vertical-align: middle;\n",
       "    }\n",
       "\n",
       "    .dataframe tbody tr th {\n",
       "        vertical-align: top;\n",
       "    }\n",
       "\n",
       "    .dataframe thead th {\n",
       "        text-align: right;\n",
       "    }\n",
       "</style>\n",
       "<table border=\"1\" class=\"dataframe\">\n",
       "  <thead>\n",
       "    <tr style=\"text-align: right;\">\n",
       "      <th></th>\n",
       "      <th>estudio</th>\n",
       "      <th>media</th>\n",
       "    </tr>\n",
       "  </thead>\n",
       "  <tbody>\n",
       "    <tr>\n",
       "      <th>0</th>\n",
       "      <td>Industrial</td>\n",
       "      <td>4.04</td>\n",
       "    </tr>\n",
       "    <tr>\n",
       "      <th>1</th>\n",
       "      <td>Informatica</td>\n",
       "      <td>2.37</td>\n",
       "    </tr>\n",
       "    <tr>\n",
       "      <th>2</th>\n",
       "      <td>Mates</td>\n",
       "      <td>4.82</td>\n",
       "    </tr>\n",
       "    <tr>\n",
       "      <th>3</th>\n",
       "      <td>Telematica</td>\n",
       "      <td>3.65</td>\n",
       "    </tr>\n",
       "  </tbody>\n",
       "</table>\n",
       "</div>"
      ],
      "text/plain": [
       "       estudio  media\n",
       "0   Industrial   4.04\n",
       "1  Informatica   2.37\n",
       "2        Mates   4.82\n",
       "3   Telematica   3.65"
      ]
     },
     "execution_count": 6,
     "metadata": {},
     "output_type": "execute_result"
    }
   ],
   "source": [
    "df_grades.groupby(['estudio'], as_index=False, dropna=False).agg(media=('nota','var')).round(2)"
   ]
  },
  {
   "cell_type": "markdown",
   "metadata": {},
   "source": [
    "Matematicas es el grupo con mas variación de notas"
   ]
  },
  {
   "cell_type": "markdown",
   "metadata": {},
   "source": [
    "## Pregunta 3\n",
    "¿Hay mucha diferencia entre el grupo que has respondido en el ejercicio 1 y en el ejercicio 2? Intenta dar\n",
    "una explicación objetiva del suceso."
   ]
  },
  {
   "cell_type": "markdown",
   "metadata": {},
   "source": [
    "Matematicas ha sido el grupo en donde vemos el promedio mas alto pero también con mayor varianza. Por otro lado industrial es el grupo que saco la nota mas alta pero también esta por debajo del promedio en comparacion con matematicas"
   ]
  },
  {
   "cell_type": "markdown",
   "metadata": {},
   "source": [
    "## Pregunta 4\n",
    "Dibuja en un único gráfico los cuatro diagramas de caja, uno para cada grupo. Añade también la nota media,\n",
    "pon nombre, título y color al gráfico para documentarlo correctamente."
   ]
  },
  {
   "cell_type": "code",
   "execution_count": 7,
   "metadata": {},
   "outputs": [
    {
     "data": {
      "application/vnd.plotly.v1+json": {
       "config": {
        "plotlyServerURL": "https://plot.ly"
       },
       "data": [
        {
         "alignmentgroup": "True",
         "hovertemplate": "estudio=%{x}<br>nota=%{y}<extra></extra>",
         "legendgroup": "",
         "marker": {
          "color": "#636efa"
         },
         "name": "",
         "notched": false,
         "offsetgroup": "",
         "orientation": "v",
         "showlegend": false,
         "type": "box",
         "x": [
          "Industrial",
          "Telematica",
          "Telematica",
          "Mates",
          "Telematica",
          "Informatica",
          "Mates",
          "Informatica",
          "Telematica",
          "Telematica",
          "Industrial",
          "Industrial",
          "Informatica",
          "Industrial",
          "Informatica",
          "Industrial",
          "Informatica",
          "Telematica",
          "Industrial",
          "Telematica",
          "Mates",
          "Informatica",
          "Telematica",
          "Telematica",
          "Informatica",
          "Informatica",
          "Mates",
          "Mates",
          "Mates",
          "Mates",
          "Industrial",
          "Telematica",
          "Telematica",
          "Industrial",
          "Telematica",
          "Industrial",
          "Informatica",
          "Mates",
          "Telematica",
          "Informatica",
          "Industrial",
          "Telematica",
          "Telematica",
          "Mates",
          "Telematica",
          "Informatica",
          "Telematica",
          "Telematica",
          "Telematica",
          "Telematica",
          "Telematica",
          "Telematica",
          "Mates",
          "Industrial",
          "Mates",
          "Telematica",
          "Industrial",
          "Informatica",
          "Informatica",
          "Industrial",
          "Industrial",
          "Informatica",
          "Industrial",
          "Informatica",
          "Industrial",
          "Telematica",
          "Telematica",
          "Mates",
          "Industrial",
          "Mates",
          "Mates",
          "Mates",
          "Mates",
          "Mates",
          "Industrial",
          "Telematica",
          "Informatica",
          "Mates",
          "Industrial",
          "Informatica",
          "Mates",
          "Industrial",
          "Industrial",
          "Telematica",
          "Industrial",
          "Telematica",
          "Telematica",
          "Industrial",
          "Telematica",
          "Mates",
          "Mates",
          "Mates",
          "Mates",
          "Mates",
          "Informatica",
          "Industrial",
          "Telematica",
          "Telematica",
          "Informatica",
          "Industrial",
          "Telematica",
          "Industrial",
          "Industrial",
          "Mates",
          "Industrial",
          "Mates",
          "Telematica",
          "Informatica",
          "Mates",
          "Informatica",
          "Telematica",
          "Mates",
          "Telematica",
          "Telematica",
          "Telematica",
          "Informatica",
          "Mates",
          "Mates",
          "Telematica",
          "Telematica",
          "Industrial",
          "Mates",
          "Industrial",
          "Informatica",
          "Industrial",
          "Telematica",
          "Mates",
          "Industrial",
          "Mates",
          "Mates",
          "Informatica",
          "Industrial",
          "Informatica",
          "Mates",
          "Informatica",
          "Mates",
          "Telematica",
          "Informatica",
          "Telematica",
          "Mates",
          "Telematica",
          "Industrial",
          "Industrial",
          "Mates",
          "Telematica",
          "Mates",
          "Informatica",
          "Mates",
          "Industrial",
          "Telematica",
          "Mates",
          "Telematica",
          "Industrial",
          "Telematica",
          "Telematica",
          "Industrial",
          "Telematica",
          "Mates",
          "Industrial",
          "Mates",
          "Mates",
          "Mates",
          "Informatica",
          "Mates",
          "Mates",
          "Informatica",
          "Industrial",
          "Telematica",
          "Informatica",
          "Telematica",
          "Mates",
          "Industrial",
          "Mates",
          "Telematica",
          "Telematica",
          "Informatica",
          "Telematica",
          "Industrial",
          "Informatica",
          "Industrial",
          "Informatica",
          "Informatica",
          "Informatica",
          "Telematica",
          "Informatica",
          "Informatica",
          "Mates",
          "Mates",
          "Mates",
          "Telematica",
          "Informatica",
          "Mates",
          "Mates",
          "Telematica",
          "Mates",
          "Informatica",
          "Industrial",
          "Industrial",
          "Informatica",
          "Mates"
         ],
         "x0": " ",
         "xaxis": "x",
         "y": [
          4.81159836507903,
          3.82574415569256,
          3.51831768834237,
          0,
          5.87967502425185,
          3.55404885866992,
          2.22665402791722,
          3.36289057097655,
          7.11124147760377,
          3.03601350173657,
          6.81408502551886,
          3.00246754041805,
          3.13143752655172,
          2.96196588231769,
          5.90851376988285,
          2.37819347963426,
          5.1673463643563,
          4.77095641362674,
          2.84196385759315,
          4.18744992866066,
          3.03518040944924,
          2.33691483765559,
          6.53357446659177,
          2.01166026089759,
          2.99238263465194,
          3.32120745628156,
          3.0503471628377,
          4.96731426713914,
          3.48653717677638,
          1.68175150818808,
          2.73534893020918,
          2.25701682214221,
          3.79117507620223,
          1.43621975617936,
          1.40854270332445,
          4.22835812793005,
          2.78428294390766,
          5.9231459713601,
          3.65535451156166,
          4.99246319065393,
          4.34991895800549,
          5.44852370146803,
          5.79345868288916,
          3.85466008601639,
          2.056897279751,
          2.46977732999276,
          0,
          6.59555393136528,
          1.88360889747512,
          1.38173894846188,
          2.54946919449474,
          9.2904649734784,
          5.00811228928408,
          1.00743979841527,
          6.55505229373937,
          2.57832679867997,
          3.4354399607779,
          5.59213745962775,
          1.95634373649114,
          2.84368163181577,
          3.29108056115422,
          3.29611589430162,
          4.77471299614162,
          6.3954692784948,
          4.60025258737549,
          3.41096789197086,
          2.90545955157615,
          3.72742434684183,
          6.47118473941197,
          5.98462995813718,
          5.7468062868073,
          1.02079881420945,
          6.67812631397199,
          4.51352894828386,
          2.62241050273092,
          5.73683402714716,
          4.19620787575558,
          1.0511178420551,
          0.723105918995679,
          4.35972783547868,
          3.41364467071987,
          4.06439298596424,
          4.89801178308359,
          6.02031999720934,
          3.34075542504916,
          4.56923151488722,
          0.885011988196976,
          4.39856427107482,
          2.56500969125078,
          3.78331076255118,
          3.08631448248394,
          4.34807380660096,
          4.77791957273318,
          6.44947749650073,
          2.770846456437,
          3.14889609877931,
          3.63913834459697,
          5.39753663766002,
          2.96161424044004,
          5.38932814072366,
          4.83135606299913,
          4.7211022603788,
          0,
          1.98783298825089,
          4.44057713794352,
          2.61276475252197,
          4.75155899188028,
          2.3959890049128,
          6.72788670809691,
          3.73558523285317,
          3.51270297465574,
          2.70054679739821,
          5.21213281042705,
          2.95139593840455,
          2.9778022200735,
          3.42791643401683,
          1.83462966660254,
          1.27259442057857,
          2.99448218985543,
          3.40901720236509,
          5.12267624164895,
          6.5969452293527,
          10.0246869292132,
          6.10267532529504,
          2.78481435275926,
          6.28252317770612,
          3.47397544047161,
          4.95561985769829,
          8.53997935930595,
          3.29752848424022,
          3.31534562300242,
          1.30494242666158,
          3.23606256587571,
          3.43082496164387,
          5.12882454892306,
          3.52297801717722,
          1.63596430025344,
          1.93203060602611,
          3.09403000438194,
          5.75131940045016,
          7.85874334852727,
          1.42479351983727,
          4.63274585179656,
          4.58650593161768,
          3.97616530443252,
          1.9615499396446,
          3.48130938973158,
          5.96018669495123,
          0,
          2.27478658481792,
          1.08353252041335,
          2.72275136431046,
          3.05437614593682,
          6.36909670316074,
          4.6940934071047,
          6.04862819471752,
          1.22790584201786,
          0.607736230040969,
          3.4949519447839,
          8.23418745265892,
          1.7356666306075,
          5.24322848962466,
          8.51565330054043,
          5.67211436585958,
          4.50303440567883,
          4.14137113008385,
          6.6845900500241,
          3.70088148517372,
          3.76594711444843,
          2.39850566304357,
          6.0077021175687,
          5.10688849521508,
          2.29581323311069,
          0.657796929368746,
          2.86329727895358,
          5.83328072354144,
          2.40734051974477,
          1.0629152958273,
          1.84611621377545,
          0.435086255326922,
          2.45345333125247,
          3.2914262893134,
          7.82377855983302,
          3.36052704873433,
          2.82768506430028,
          5.17238419149593,
          6.26883306088147,
          4.62161287137601,
          1.17117696542932,
          3.01587886233283,
          3.47787001177313,
          7.95667332161424,
          8.45052000596236,
          0.976461859800684,
          5.7100920511507,
          4.55284999329957,
          1.58475791955996,
          3.53064340649519,
          4.12497889821652,
          7.86880887690839
         ],
         "y0": " ",
         "yaxis": "y"
        }
       ],
       "layout": {
        "boxmode": "group",
        "legend": {
         "tracegroupgap": 0
        },
        "margin": {
         "t": 60
        },
        "template": {
         "data": {
          "bar": [
           {
            "error_x": {
             "color": "#2a3f5f"
            },
            "error_y": {
             "color": "#2a3f5f"
            },
            "marker": {
             "line": {
              "color": "#E5ECF6",
              "width": 0.5
             },
             "pattern": {
              "fillmode": "overlay",
              "size": 10,
              "solidity": 0.2
             }
            },
            "type": "bar"
           }
          ],
          "barpolar": [
           {
            "marker": {
             "line": {
              "color": "#E5ECF6",
              "width": 0.5
             },
             "pattern": {
              "fillmode": "overlay",
              "size": 10,
              "solidity": 0.2
             }
            },
            "type": "barpolar"
           }
          ],
          "carpet": [
           {
            "aaxis": {
             "endlinecolor": "#2a3f5f",
             "gridcolor": "white",
             "linecolor": "white",
             "minorgridcolor": "white",
             "startlinecolor": "#2a3f5f"
            },
            "baxis": {
             "endlinecolor": "#2a3f5f",
             "gridcolor": "white",
             "linecolor": "white",
             "minorgridcolor": "white",
             "startlinecolor": "#2a3f5f"
            },
            "type": "carpet"
           }
          ],
          "choropleth": [
           {
            "colorbar": {
             "outlinewidth": 0,
             "ticks": ""
            },
            "type": "choropleth"
           }
          ],
          "contour": [
           {
            "colorbar": {
             "outlinewidth": 0,
             "ticks": ""
            },
            "colorscale": [
             [
              0,
              "#0d0887"
             ],
             [
              0.1111111111111111,
              "#46039f"
             ],
             [
              0.2222222222222222,
              "#7201a8"
             ],
             [
              0.3333333333333333,
              "#9c179e"
             ],
             [
              0.4444444444444444,
              "#bd3786"
             ],
             [
              0.5555555555555556,
              "#d8576b"
             ],
             [
              0.6666666666666666,
              "#ed7953"
             ],
             [
              0.7777777777777778,
              "#fb9f3a"
             ],
             [
              0.8888888888888888,
              "#fdca26"
             ],
             [
              1,
              "#f0f921"
             ]
            ],
            "type": "contour"
           }
          ],
          "contourcarpet": [
           {
            "colorbar": {
             "outlinewidth": 0,
             "ticks": ""
            },
            "type": "contourcarpet"
           }
          ],
          "heatmap": [
           {
            "colorbar": {
             "outlinewidth": 0,
             "ticks": ""
            },
            "colorscale": [
             [
              0,
              "#0d0887"
             ],
             [
              0.1111111111111111,
              "#46039f"
             ],
             [
              0.2222222222222222,
              "#7201a8"
             ],
             [
              0.3333333333333333,
              "#9c179e"
             ],
             [
              0.4444444444444444,
              "#bd3786"
             ],
             [
              0.5555555555555556,
              "#d8576b"
             ],
             [
              0.6666666666666666,
              "#ed7953"
             ],
             [
              0.7777777777777778,
              "#fb9f3a"
             ],
             [
              0.8888888888888888,
              "#fdca26"
             ],
             [
              1,
              "#f0f921"
             ]
            ],
            "type": "heatmap"
           }
          ],
          "heatmapgl": [
           {
            "colorbar": {
             "outlinewidth": 0,
             "ticks": ""
            },
            "colorscale": [
             [
              0,
              "#0d0887"
             ],
             [
              0.1111111111111111,
              "#46039f"
             ],
             [
              0.2222222222222222,
              "#7201a8"
             ],
             [
              0.3333333333333333,
              "#9c179e"
             ],
             [
              0.4444444444444444,
              "#bd3786"
             ],
             [
              0.5555555555555556,
              "#d8576b"
             ],
             [
              0.6666666666666666,
              "#ed7953"
             ],
             [
              0.7777777777777778,
              "#fb9f3a"
             ],
             [
              0.8888888888888888,
              "#fdca26"
             ],
             [
              1,
              "#f0f921"
             ]
            ],
            "type": "heatmapgl"
           }
          ],
          "histogram": [
           {
            "marker": {
             "pattern": {
              "fillmode": "overlay",
              "size": 10,
              "solidity": 0.2
             }
            },
            "type": "histogram"
           }
          ],
          "histogram2d": [
           {
            "colorbar": {
             "outlinewidth": 0,
             "ticks": ""
            },
            "colorscale": [
             [
              0,
              "#0d0887"
             ],
             [
              0.1111111111111111,
              "#46039f"
             ],
             [
              0.2222222222222222,
              "#7201a8"
             ],
             [
              0.3333333333333333,
              "#9c179e"
             ],
             [
              0.4444444444444444,
              "#bd3786"
             ],
             [
              0.5555555555555556,
              "#d8576b"
             ],
             [
              0.6666666666666666,
              "#ed7953"
             ],
             [
              0.7777777777777778,
              "#fb9f3a"
             ],
             [
              0.8888888888888888,
              "#fdca26"
             ],
             [
              1,
              "#f0f921"
             ]
            ],
            "type": "histogram2d"
           }
          ],
          "histogram2dcontour": [
           {
            "colorbar": {
             "outlinewidth": 0,
             "ticks": ""
            },
            "colorscale": [
             [
              0,
              "#0d0887"
             ],
             [
              0.1111111111111111,
              "#46039f"
             ],
             [
              0.2222222222222222,
              "#7201a8"
             ],
             [
              0.3333333333333333,
              "#9c179e"
             ],
             [
              0.4444444444444444,
              "#bd3786"
             ],
             [
              0.5555555555555556,
              "#d8576b"
             ],
             [
              0.6666666666666666,
              "#ed7953"
             ],
             [
              0.7777777777777778,
              "#fb9f3a"
             ],
             [
              0.8888888888888888,
              "#fdca26"
             ],
             [
              1,
              "#f0f921"
             ]
            ],
            "type": "histogram2dcontour"
           }
          ],
          "mesh3d": [
           {
            "colorbar": {
             "outlinewidth": 0,
             "ticks": ""
            },
            "type": "mesh3d"
           }
          ],
          "parcoords": [
           {
            "line": {
             "colorbar": {
              "outlinewidth": 0,
              "ticks": ""
             }
            },
            "type": "parcoords"
           }
          ],
          "pie": [
           {
            "automargin": true,
            "type": "pie"
           }
          ],
          "scatter": [
           {
            "fillpattern": {
             "fillmode": "overlay",
             "size": 10,
             "solidity": 0.2
            },
            "type": "scatter"
           }
          ],
          "scatter3d": [
           {
            "line": {
             "colorbar": {
              "outlinewidth": 0,
              "ticks": ""
             }
            },
            "marker": {
             "colorbar": {
              "outlinewidth": 0,
              "ticks": ""
             }
            },
            "type": "scatter3d"
           }
          ],
          "scattercarpet": [
           {
            "marker": {
             "colorbar": {
              "outlinewidth": 0,
              "ticks": ""
             }
            },
            "type": "scattercarpet"
           }
          ],
          "scattergeo": [
           {
            "marker": {
             "colorbar": {
              "outlinewidth": 0,
              "ticks": ""
             }
            },
            "type": "scattergeo"
           }
          ],
          "scattergl": [
           {
            "marker": {
             "colorbar": {
              "outlinewidth": 0,
              "ticks": ""
             }
            },
            "type": "scattergl"
           }
          ],
          "scattermapbox": [
           {
            "marker": {
             "colorbar": {
              "outlinewidth": 0,
              "ticks": ""
             }
            },
            "type": "scattermapbox"
           }
          ],
          "scatterpolar": [
           {
            "marker": {
             "colorbar": {
              "outlinewidth": 0,
              "ticks": ""
             }
            },
            "type": "scatterpolar"
           }
          ],
          "scatterpolargl": [
           {
            "marker": {
             "colorbar": {
              "outlinewidth": 0,
              "ticks": ""
             }
            },
            "type": "scatterpolargl"
           }
          ],
          "scatterternary": [
           {
            "marker": {
             "colorbar": {
              "outlinewidth": 0,
              "ticks": ""
             }
            },
            "type": "scatterternary"
           }
          ],
          "surface": [
           {
            "colorbar": {
             "outlinewidth": 0,
             "ticks": ""
            },
            "colorscale": [
             [
              0,
              "#0d0887"
             ],
             [
              0.1111111111111111,
              "#46039f"
             ],
             [
              0.2222222222222222,
              "#7201a8"
             ],
             [
              0.3333333333333333,
              "#9c179e"
             ],
             [
              0.4444444444444444,
              "#bd3786"
             ],
             [
              0.5555555555555556,
              "#d8576b"
             ],
             [
              0.6666666666666666,
              "#ed7953"
             ],
             [
              0.7777777777777778,
              "#fb9f3a"
             ],
             [
              0.8888888888888888,
              "#fdca26"
             ],
             [
              1,
              "#f0f921"
             ]
            ],
            "type": "surface"
           }
          ],
          "table": [
           {
            "cells": {
             "fill": {
              "color": "#EBF0F8"
             },
             "line": {
              "color": "white"
             }
            },
            "header": {
             "fill": {
              "color": "#C8D4E3"
             },
             "line": {
              "color": "white"
             }
            },
            "type": "table"
           }
          ]
         },
         "layout": {
          "annotationdefaults": {
           "arrowcolor": "#2a3f5f",
           "arrowhead": 0,
           "arrowwidth": 1
          },
          "autotypenumbers": "strict",
          "coloraxis": {
           "colorbar": {
            "outlinewidth": 0,
            "ticks": ""
           }
          },
          "colorscale": {
           "diverging": [
            [
             0,
             "#8e0152"
            ],
            [
             0.1,
             "#c51b7d"
            ],
            [
             0.2,
             "#de77ae"
            ],
            [
             0.3,
             "#f1b6da"
            ],
            [
             0.4,
             "#fde0ef"
            ],
            [
             0.5,
             "#f7f7f7"
            ],
            [
             0.6,
             "#e6f5d0"
            ],
            [
             0.7,
             "#b8e186"
            ],
            [
             0.8,
             "#7fbc41"
            ],
            [
             0.9,
             "#4d9221"
            ],
            [
             1,
             "#276419"
            ]
           ],
           "sequential": [
            [
             0,
             "#0d0887"
            ],
            [
             0.1111111111111111,
             "#46039f"
            ],
            [
             0.2222222222222222,
             "#7201a8"
            ],
            [
             0.3333333333333333,
             "#9c179e"
            ],
            [
             0.4444444444444444,
             "#bd3786"
            ],
            [
             0.5555555555555556,
             "#d8576b"
            ],
            [
             0.6666666666666666,
             "#ed7953"
            ],
            [
             0.7777777777777778,
             "#fb9f3a"
            ],
            [
             0.8888888888888888,
             "#fdca26"
            ],
            [
             1,
             "#f0f921"
            ]
           ],
           "sequentialminus": [
            [
             0,
             "#0d0887"
            ],
            [
             0.1111111111111111,
             "#46039f"
            ],
            [
             0.2222222222222222,
             "#7201a8"
            ],
            [
             0.3333333333333333,
             "#9c179e"
            ],
            [
             0.4444444444444444,
             "#bd3786"
            ],
            [
             0.5555555555555556,
             "#d8576b"
            ],
            [
             0.6666666666666666,
             "#ed7953"
            ],
            [
             0.7777777777777778,
             "#fb9f3a"
            ],
            [
             0.8888888888888888,
             "#fdca26"
            ],
            [
             1,
             "#f0f921"
            ]
           ]
          },
          "colorway": [
           "#636efa",
           "#EF553B",
           "#00cc96",
           "#ab63fa",
           "#FFA15A",
           "#19d3f3",
           "#FF6692",
           "#B6E880",
           "#FF97FF",
           "#FECB52"
          ],
          "font": {
           "color": "#2a3f5f"
          },
          "geo": {
           "bgcolor": "white",
           "lakecolor": "white",
           "landcolor": "#E5ECF6",
           "showlakes": true,
           "showland": true,
           "subunitcolor": "white"
          },
          "hoverlabel": {
           "align": "left"
          },
          "hovermode": "closest",
          "mapbox": {
           "style": "light"
          },
          "paper_bgcolor": "white",
          "plot_bgcolor": "#E5ECF6",
          "polar": {
           "angularaxis": {
            "gridcolor": "white",
            "linecolor": "white",
            "ticks": ""
           },
           "bgcolor": "#E5ECF6",
           "radialaxis": {
            "gridcolor": "white",
            "linecolor": "white",
            "ticks": ""
           }
          },
          "scene": {
           "xaxis": {
            "backgroundcolor": "#E5ECF6",
            "gridcolor": "white",
            "gridwidth": 2,
            "linecolor": "white",
            "showbackground": true,
            "ticks": "",
            "zerolinecolor": "white"
           },
           "yaxis": {
            "backgroundcolor": "#E5ECF6",
            "gridcolor": "white",
            "gridwidth": 2,
            "linecolor": "white",
            "showbackground": true,
            "ticks": "",
            "zerolinecolor": "white"
           },
           "zaxis": {
            "backgroundcolor": "#E5ECF6",
            "gridcolor": "white",
            "gridwidth": 2,
            "linecolor": "white",
            "showbackground": true,
            "ticks": "",
            "zerolinecolor": "white"
           }
          },
          "shapedefaults": {
           "line": {
            "color": "#2a3f5f"
           }
          },
          "ternary": {
           "aaxis": {
            "gridcolor": "white",
            "linecolor": "white",
            "ticks": ""
           },
           "baxis": {
            "gridcolor": "white",
            "linecolor": "white",
            "ticks": ""
           },
           "bgcolor": "#E5ECF6",
           "caxis": {
            "gridcolor": "white",
            "linecolor": "white",
            "ticks": ""
           }
          },
          "title": {
           "x": 0.05
          },
          "xaxis": {
           "automargin": true,
           "gridcolor": "white",
           "linecolor": "white",
           "ticks": "",
           "title": {
            "standoff": 15
           },
           "zerolinecolor": "white",
           "zerolinewidth": 2
          },
          "yaxis": {
           "automargin": true,
           "gridcolor": "white",
           "linecolor": "white",
           "ticks": "",
           "title": {
            "standoff": 15
           },
           "zerolinecolor": "white",
           "zerolinewidth": 2
          }
         }
        },
        "xaxis": {
         "anchor": "y",
         "domain": [
          0,
          1
         ],
         "title": {
          "text": "estudio"
         }
        },
        "yaxis": {
         "anchor": "x",
         "domain": [
          0,
          1
         ],
         "title": {
          "text": "nota"
         }
        }
       }
      }
     },
     "metadata": {},
     "output_type": "display_data"
    }
   ],
   "source": [
    "fig = px.box(df_grades, x='estudio', y='nota',)\n",
    "fig.show()"
   ]
  },
  {
   "cell_type": "markdown",
   "metadata": {},
   "source": [
    "## Pregunta 5\n",
    "¿Observas algunos valores atípicos en el boxplot anterior? ¿A qué grupo pertence?"
   ]
  },
  {
   "cell_type": "markdown",
   "metadata": {},
   "source": [
    "Tres de los cuatros grupos poseen valores atipicos, el grupo que no posee outliners es matematicas"
   ]
  },
  {
   "cell_type": "markdown",
   "metadata": {},
   "source": [
    "## Pregunta 6\n",
    "Indica a partir del boxplot anterior en qué grupo observamos más variedad de notas"
   ]
  },
  {
   "cell_type": "markdown",
   "metadata": {},
   "source": [
    "Mirando el boxplot se deduce que es matematicas el grupo con más variedad de notas "
   ]
  },
  {
   "cell_type": "markdown",
   "metadata": {},
   "source": [
    "## Pregunta 7\n",
    "En base a todo lo anterior, ¿puedes afirmar de forma estadística que el examen de carrera ha ido mejor en\n",
    "algún estudio que en los demás?"
   ]
  },
  {
   "cell_type": "markdown",
   "metadata": {},
   "source": [
    "Matematicas es el grupo con la media y mediana mas alta, y aunque también es el grupo con la mayor varianza podemos decir que es el grupo al que mejor le ha ido "
   ]
  }
 ],
 "metadata": {
  "kernelspec": {
   "display_name": "Python 3",
   "language": "python",
   "name": "python3"
  },
  "language_info": {
   "codemirror_mode": {
    "name": "ipython",
    "version": 3
   },
   "file_extension": ".py",
   "mimetype": "text/x-python",
   "name": "python",
   "nbconvert_exporter": "python",
   "pygments_lexer": "ipython3",
   "version": "3.12.2"
  }
 },
 "nbformat": 4,
 "nbformat_minor": 2
}
