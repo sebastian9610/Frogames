{
 "cells": [
  {
   "cell_type": "markdown",
   "metadata": {},
   "source": [
    "# LaTex y RMarkdown\n",
    "\n",
    "Esta tarea se ha trabajado en un entorno de vscode"
   ]
  },
  {
   "cell_type": "markdown",
   "metadata": {},
   "source": [
    "### Pregunta 1\n",
    "Realiza los siguientes productos de matrices siguiente en R:"
   ]
  },
  {
   "cell_type": "markdown",
   "metadata": {},
   "source": [
    "Producto punto $A . B$"
   ]
  },
  {
   "cell_type": "code",
   "execution_count": null,
   "metadata": {},
   "outputs": [],
   "source": [
    "# Definir las matrices A y B\n",
    "A <- matrix(c(4, 2, 3, 4, 3, 2, 2, 0, 1, 0, 2, 0, 1, 0, 4, 0), nrow = 4, ncol = 4, byrow = TRUE)\n",
    "B <- matrix(c(4, 3, 2, 1, 3, 2, 0, 1, 2, 1, 3, 1, 1, 0, 1, 2), nrow = 4, ncol = 4, byrow = TRUE)\n",
    "\n",
    "# A * B\n",
    "A_B <- A %*% B\n",
    "print('A * B')\n",
    "print(A_B)"
   ]
  },
  {
   "cell_type": "markdown",
   "metadata": {},
   "source": [
    "Producto punto $B . A$"
   ]
  },
  {
   "cell_type": "code",
   "execution_count": null,
   "metadata": {},
   "outputs": [],
   "source": [
    "# B * A\n",
    "B_A <- B %*% A\n",
    "print('B * A')\n",
    "print(B_A)"
   ]
  },
  {
   "cell_type": "markdown",
   "metadata": {},
   "source": [
    "Transpuesta $t$ del resultado del producto punto $A . B$"
   ]
  },
  {
   "cell_type": "code",
   "execution_count": null,
   "metadata": {},
   "outputs": [],
   "source": [
    "# (A * B)^t\n",
    "A_B_t <- t(A_B)\n",
    "print('(A * B)^t')\n",
    "print(A_B_t)"
   ]
  },
  {
   "cell_type": "markdown",
   "metadata": {},
   "source": [
    "Resultado de $B^t . A$"
   ]
  },
  {
   "cell_type": "code",
   "execution_count": 2,
   "metadata": {},
   "outputs": [],
   "source": [
    "# B^t * A\n",
    "B_t_A <- t(B) %*% A\n",
    "print('B^t * A')\n",
    "print(B_t_A)\n"
   ]
  },
  {
   "cell_type": "markdown",
   "metadata": {},
   "source": [
    "Resultado de $(A.B)^{-1}$"
   ]
  },
  {
   "cell_type": "code",
   "execution_count": null,
   "metadata": {},
   "outputs": [],
   "source": [
    "# (A * B)^-1 (si existe)\n",
    "print('(A * B)^-1 (si existe)')\n",
    "A_B_inv <- try(solve(A_B), silent = TRUE)\n",
    "if (is.matrix(A_B_inv)) {\n",
    "  print(A_B_inv)\n",
    "} else {\n",
    "  cat(\"La matriz (A * B) no es invertible.\\n\")\n",
    "}"
   ]
  },
  {
   "cell_type": "markdown",
   "metadata": {},
   "source": [
    "Resultado de $(A^{-1}) . B^t$"
   ]
  },
  {
   "cell_type": "code",
   "execution_count": null,
   "metadata": {},
   "outputs": [],
   "source": [
    "\n",
    "# A^-1 * B^t (si existe)\n",
    "print('A^-1 * B^t (si existe)')\n",
    "A_inv <- try(solve(A), silent = TRUE)\n",
    "B_t <- t(B)\n",
    "if (is.matrix(A_inv)) {\n",
    "  A_inv_B_t <- A_inv %*% B_t\n",
    "  print(A_inv_B_t)\n",
    "} else {\n",
    "  cat(\"La matriz A no es invertible.\\n\")\n",
    "}"
   ]
  },
  {
   "cell_type": "markdown",
   "metadata": {},
   "source": [
    "### Pregunta 2"
   ]
  },
  {
   "cell_type": "markdown",
   "metadata": {},
   "source": [
    "Definimos el vector *dni* con los números aleatorios **DNI:**"
   ]
  },
  {
   "cell_type": "markdown",
   "metadata": {},
   "source": [
    "dni <- c(5, 4, 2, 0, 1, 5, 6, 7)"
   ]
  },
  {
   "cell_type": "markdown",
   "metadata": {},
   "source": [
    "Ahora, para calcular el vector dni al cuadrado, usamos operaciones vectorizadas en **$R$:**"
   ]
  },
  {
   "cell_type": "code",
   "execution_count": null,
   "metadata": {},
   "outputs": [],
   "source": [
    "dni_cuadrado <- dni^2"
   ]
  },
  {
   "cell_type": "markdown",
   "metadata": {},
   "source": [
    "Para calcular la raíz cuadrada del vector dni, utilizamos la función $sqrt{}$:"
   ]
  },
  {
   "cell_type": "code",
   "execution_count": null,
   "metadata": {},
   "outputs": [],
   "source": [
    "sqrt(dni)"
   ]
  },
  {
   "cell_type": "markdown",
   "metadata": {},
   "source": [
    "Por último, para calcular la suma de todas las cifras del vector dni, podemos usar la función $sum{}$:"
   ]
  },
  {
   "cell_type": "markdown",
   "metadata": {},
   "source": [
    "sum(dni)"
   ]
  },
  {
   "cell_type": "markdown",
   "metadata": {},
   "source": [
    "### Pregunta 3"
   ]
  },
  {
   "cell_type": "markdown",
   "metadata": {},
   "source": [
    "Primero, definimos el vector name con las letras de tu nombre y apellido:"
   ]
  },
  {
   "cell_type": "code",
   "execution_count": null,
   "metadata": {},
   "outputs": [],
   "source": [
    "name <- c(\"S\", \"E\", \"B\", \"A\", \"S\", \"T\", \"I\", \"A\", \"N\", \"M\", \"U\", \"Ñ\", \"O\", \"Z\")"
   ]
  },
  {
   "cell_type": "markdown",
   "metadata": {},
   "source": [
    "Ahora, para calcular el subvector que contenga solo tu nombre, podemos usar la indexación en $R:$"
   ]
  },
  {
   "cell_type": "code",
   "execution_count": null,
   "metadata": {},
   "outputs": [],
   "source": [
    "nombre <- name[1:9]"
   ]
  },
  {
   "cell_type": "markdown",
   "metadata": {},
   "source": [
    "Para calcular el subvector que contenga solo tu apellido, también usamos indexación:"
   ]
  },
  {
   "cell_type": "code",
   "execution_count": null,
   "metadata": {},
   "outputs": [],
   "source": [
    "apellido <- name[10:14]"
   ]
  },
  {
   "cell_type": "markdown",
   "metadata": {},
   "source": [
    "Ahora, para ordenar alfabéticamente el vector apellido, utilizamos la función $sort{}$:"
   ]
  },
  {
   "cell_type": "code",
   "execution_count": null,
   "metadata": {},
   "outputs": [],
   "source": [
    "apellido_ordenado <- sort(apellido)\n",
    "print(apellido_ordenado)"
   ]
  },
  {
   "cell_type": "markdown",
   "metadata": {},
   "source": [
    "Por último, para crear una matriz con el vector $name$, utilizamos la función $matrix{}$:"
   ]
  },
  {
   "cell_type": "code",
   "execution_count": null,
   "metadata": {},
   "outputs": [],
   "source": [
    "matriz_name <- matrix(name, nrow = 3, byrow = TRUE)\n",
    "print(matriz_name)"
   ]
  }
 ],
 "metadata": {
  "kernelspec": {
   "display_name": "Python 3",
   "language": "python",
   "name": "python3"
  },
  "language_info": {
   "codemirror_mode": {
    "name": "ipython",
    "version": 3
   },
   "file_extension": ".py",
   "mimetype": "text/x-python",
   "name": "python",
   "nbconvert_exporter": "python",
   "pygments_lexer": "ipython3",
   "version": "3.12.2"
  }
 },
 "nbformat": 4,
 "nbformat_minor": 2
}
