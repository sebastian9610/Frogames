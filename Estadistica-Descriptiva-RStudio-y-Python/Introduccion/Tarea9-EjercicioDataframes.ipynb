{
 "cells": [
  {
   "cell_type": "markdown",
   "metadata": {},
   "source": [
    "# Ejercicio completo de Data Frames\n",
    "Carga en Python el CSV llamado run.csv que encontrarás en el repositorio del curso."
   ]
  },
  {
   "cell_type": "code",
   "execution_count": 1,
   "metadata": {},
   "outputs": [
    {
     "data": {
      "text/html": [
       "<div>\n",
       "<style scoped>\n",
       "    .dataframe tbody tr th:only-of-type {\n",
       "        vertical-align: middle;\n",
       "    }\n",
       "\n",
       "    .dataframe tbody tr th {\n",
       "        vertical-align: top;\n",
       "    }\n",
       "\n",
       "    .dataframe thead th {\n",
       "        text-align: right;\n",
       "    }\n",
       "</style>\n",
       "<table border=\"1\" class=\"dataframe\">\n",
       "  <thead>\n",
       "    <tr style=\"text-align: right;\">\n",
       "      <th></th>\n",
       "      <th>pulso.antes</th>\n",
       "      <th>pulso.despues</th>\n",
       "      <th>hace.deporte</th>\n",
       "      <th>fuma</th>\n",
       "      <th>genero</th>\n",
       "      <th>altura</th>\n",
       "      <th>peso</th>\n",
       "      <th>tipo.actividad</th>\n",
       "    </tr>\n",
       "  </thead>\n",
       "  <tbody>\n",
       "    <tr>\n",
       "      <th>0</th>\n",
       "      <td>48</td>\n",
       "      <td>54</td>\n",
       "      <td>no</td>\n",
       "      <td>si</td>\n",
       "      <td>H</td>\n",
       "      <td>68.0</td>\n",
       "      <td>150</td>\n",
       "      <td>nula</td>\n",
       "    </tr>\n",
       "    <tr>\n",
       "      <th>1</th>\n",
       "      <td>54</td>\n",
       "      <td>56</td>\n",
       "      <td>no</td>\n",
       "      <td>si</td>\n",
       "      <td>H</td>\n",
       "      <td>69.0</td>\n",
       "      <td>145</td>\n",
       "      <td>moderada</td>\n",
       "    </tr>\n",
       "    <tr>\n",
       "      <th>2</th>\n",
       "      <td>54</td>\n",
       "      <td>50</td>\n",
       "      <td>no</td>\n",
       "      <td>no</td>\n",
       "      <td>H</td>\n",
       "      <td>69.0</td>\n",
       "      <td>160</td>\n",
       "      <td>moderada</td>\n",
       "    </tr>\n",
       "    <tr>\n",
       "      <th>3</th>\n",
       "      <td>58</td>\n",
       "      <td>70</td>\n",
       "      <td>si</td>\n",
       "      <td>no</td>\n",
       "      <td>H</td>\n",
       "      <td>72.0</td>\n",
       "      <td>145</td>\n",
       "      <td>moderada</td>\n",
       "    </tr>\n",
       "    <tr>\n",
       "      <th>4</th>\n",
       "      <td>58</td>\n",
       "      <td>58</td>\n",
       "      <td>no</td>\n",
       "      <td>no</td>\n",
       "      <td>H</td>\n",
       "      <td>66.0</td>\n",
       "      <td>135</td>\n",
       "      <td>intensa</td>\n",
       "    </tr>\n",
       "    <tr>\n",
       "      <th>...</th>\n",
       "      <td>...</td>\n",
       "      <td>...</td>\n",
       "      <td>...</td>\n",
       "      <td>...</td>\n",
       "      <td>...</td>\n",
       "      <td>...</td>\n",
       "      <td>...</td>\n",
       "      <td>...</td>\n",
       "    </tr>\n",
       "    <tr>\n",
       "      <th>87</th>\n",
       "      <td>92</td>\n",
       "      <td>94</td>\n",
       "      <td>no</td>\n",
       "      <td>si</td>\n",
       "      <td>H</td>\n",
       "      <td>69.0</td>\n",
       "      <td>150</td>\n",
       "      <td>moderada</td>\n",
       "    </tr>\n",
       "    <tr>\n",
       "      <th>88</th>\n",
       "      <td>94</td>\n",
       "      <td>92</td>\n",
       "      <td>no</td>\n",
       "      <td>si</td>\n",
       "      <td>M</td>\n",
       "      <td>62.0</td>\n",
       "      <td>131</td>\n",
       "      <td>moderada</td>\n",
       "    </tr>\n",
       "    <tr>\n",
       "      <th>89</th>\n",
       "      <td>96</td>\n",
       "      <td>140</td>\n",
       "      <td>si</td>\n",
       "      <td>no</td>\n",
       "      <td>M</td>\n",
       "      <td>61.0</td>\n",
       "      <td>140</td>\n",
       "      <td>moderada</td>\n",
       "    </tr>\n",
       "    <tr>\n",
       "      <th>90</th>\n",
       "      <td>96</td>\n",
       "      <td>116</td>\n",
       "      <td>si</td>\n",
       "      <td>no</td>\n",
       "      <td>M</td>\n",
       "      <td>68.0</td>\n",
       "      <td>116</td>\n",
       "      <td>moderada</td>\n",
       "    </tr>\n",
       "    <tr>\n",
       "      <th>91</th>\n",
       "      <td>100</td>\n",
       "      <td>115</td>\n",
       "      <td>si</td>\n",
       "      <td>si</td>\n",
       "      <td>M</td>\n",
       "      <td>63.0</td>\n",
       "      <td>121</td>\n",
       "      <td>moderada</td>\n",
       "    </tr>\n",
       "  </tbody>\n",
       "</table>\n",
       "<p>92 rows × 8 columns</p>\n",
       "</div>"
      ],
      "text/plain": [
       "    pulso.antes  pulso.despues hace.deporte fuma genero  altura  peso  \\\n",
       "0            48             54           no   si      H    68.0   150   \n",
       "1            54             56           no   si      H    69.0   145   \n",
       "2            54             50           no   no      H    69.0   160   \n",
       "3            58             70           si   no      H    72.0   145   \n",
       "4            58             58           no   no      H    66.0   135   \n",
       "..          ...            ...          ...  ...    ...     ...   ...   \n",
       "87           92             94           no   si      H    69.0   150   \n",
       "88           94             92           no   si      M    62.0   131   \n",
       "89           96            140           si   no      M    61.0   140   \n",
       "90           96            116           si   no      M    68.0   116   \n",
       "91          100            115           si   si      M    63.0   121   \n",
       "\n",
       "   tipo.actividad  \n",
       "0            nula  \n",
       "1        moderada  \n",
       "2        moderada  \n",
       "3        moderada  \n",
       "4         intensa  \n",
       "..            ...  \n",
       "87       moderada  \n",
       "88       moderada  \n",
       "89       moderada  \n",
       "90       moderada  \n",
       "91       moderada  \n",
       "\n",
       "[92 rows x 8 columns]"
      ]
     },
     "execution_count": 1,
     "metadata": {},
     "output_type": "execute_result"
    }
   ],
   "source": [
    "import pandas as pd\n",
    "import numpy as np\n",
    "import duckdb\n",
    "\n",
    "url = 'run.csv'\n",
    "data = pd.read_csv(url, sep=',')\n",
    "data.drop(['Unnamed: 0'], axis=1, inplace=True)\n",
    "data"
   ]
  },
  {
   "cell_type": "markdown",
   "metadata": {},
   "source": [
    "### Pregunta 1\n",
    "Indica cuántos estudiantes formaron parte del estudio de deporte."
   ]
  },
  {
   "cell_type": "code",
   "execution_count": 2,
   "metadata": {},
   "outputs": [
    {
     "data": {
      "text/plain": [
       "92"
      ]
     },
     "execution_count": 2,
     "metadata": {},
     "output_type": "execute_result"
    }
   ],
   "source": [
    "data.shape[0]"
   ]
  },
  {
   "cell_type": "markdown",
   "metadata": {},
   "source": [
    "### Pregunta 2\n",
    "Indica cuántos individuos son hombres y cuántos son mujeres."
   ]
  },
  {
   "cell_type": "code",
   "execution_count": 3,
   "metadata": {},
   "outputs": [
    {
     "data": {
      "text/plain": [
       "genero\n",
       "H    57\n",
       "M    35\n",
       "Name: count, dtype: int64"
      ]
     },
     "execution_count": 3,
     "metadata": {},
     "output_type": "execute_result"
    }
   ],
   "source": [
    "data['genero'].value_counts()"
   ]
  },
  {
   "cell_type": "markdown",
   "metadata": {},
   "source": [
    "### Pregunta 3\n",
    "Calcula el porcentaje medio de variación del pulso por minuto entre antes y después de hacer ejercicio y\n",
    "compara el valor de los que hacen ejercicio habitualmente y los que no. ¿Observas mucha diferencia?"
   ]
  },
  {
   "cell_type": "code",
   "execution_count": 4,
   "metadata": {},
   "outputs": [
    {
     "data": {
      "text/html": [
       "<div>\n",
       "<style scoped>\n",
       "    .dataframe tbody tr th:only-of-type {\n",
       "        vertical-align: middle;\n",
       "    }\n",
       "\n",
       "    .dataframe tbody tr th {\n",
       "        vertical-align: top;\n",
       "    }\n",
       "\n",
       "    .dataframe thead th {\n",
       "        text-align: right;\n",
       "    }\n",
       "</style>\n",
       "<table border=\"1\" class=\"dataframe\">\n",
       "  <thead>\n",
       "    <tr style=\"text-align: right;\">\n",
       "      <th></th>\n",
       "      <th>hace.deporte</th>\n",
       "      <th>mean_pulso</th>\n",
       "    </tr>\n",
       "  </thead>\n",
       "  <tbody>\n",
       "    <tr>\n",
       "      <th>0</th>\n",
       "      <td>no</td>\n",
       "      <td>0.002095</td>\n",
       "    </tr>\n",
       "    <tr>\n",
       "      <th>1</th>\n",
       "      <td>si</td>\n",
       "      <td>0.262154</td>\n",
       "    </tr>\n",
       "  </tbody>\n",
       "</table>\n",
       "</div>"
      ],
      "text/plain": [
       "  hace.deporte  mean_pulso\n",
       "0           no    0.002095\n",
       "1           si    0.262154"
      ]
     },
     "execution_count": 4,
     "metadata": {},
     "output_type": "execute_result"
    }
   ],
   "source": [
    "data['pulso_diff'] = (data['pulso.despues'] - data['pulso.antes']) / data['pulso.antes']\n",
    "data.groupby(['hace.deporte'], as_index=False, dropna=False).agg(mean_pulso=('pulso_diff', 'mean'))"
   ]
  },
  {
   "cell_type": "markdown",
   "metadata": {},
   "source": [
    "La variación entre los que si hacen con respecto a los que no hacen es realmente alta la diferencia"
   ]
  },
  {
   "cell_type": "markdown",
   "metadata": {},
   "source": [
    "### Pregunta 4\n",
    "Calcula el porcentaje medio de variación del pulso por minuto entre antes y después de hacer ejercicio para\n",
    "los estudiantes que hacen ejercicio habitualmente y compara el valor de los hombres con el de las mujeres.\n",
    "¿Observas mucha diferencia?"
   ]
  },
  {
   "cell_type": "code",
   "execution_count": 5,
   "metadata": {},
   "outputs": [
    {
     "data": {
      "text/html": [
       "<div>\n",
       "<style scoped>\n",
       "    .dataframe tbody tr th:only-of-type {\n",
       "        vertical-align: middle;\n",
       "    }\n",
       "\n",
       "    .dataframe tbody tr th {\n",
       "        vertical-align: top;\n",
       "    }\n",
       "\n",
       "    .dataframe thead th {\n",
       "        text-align: right;\n",
       "    }\n",
       "</style>\n",
       "<table border=\"1\" class=\"dataframe\">\n",
       "  <thead>\n",
       "    <tr style=\"text-align: right;\">\n",
       "      <th></th>\n",
       "      <th>genero</th>\n",
       "      <th>mean_pulso</th>\n",
       "    </tr>\n",
       "  </thead>\n",
       "  <tbody>\n",
       "    <tr>\n",
       "      <th>0</th>\n",
       "      <td>H</td>\n",
       "      <td>0.191769</td>\n",
       "    </tr>\n",
       "    <tr>\n",
       "      <th>1</th>\n",
       "      <td>M</td>\n",
       "      <td>0.415722</td>\n",
       "    </tr>\n",
       "  </tbody>\n",
       "</table>\n",
       "</div>"
      ],
      "text/plain": [
       "  genero  mean_pulso\n",
       "0      H    0.191769\n",
       "1      M    0.415722"
      ]
     },
     "execution_count": 5,
     "metadata": {},
     "output_type": "execute_result"
    }
   ],
   "source": [
    "data1 = data[data['hace.deporte'] == 'si'].copy()\n",
    "data1.groupby(['genero'], as_index=False, dropna=False).agg(mean_pulso=('pulso_diff', 'mean'))"
   ]
  },
  {
   "cell_type": "markdown",
   "metadata": {},
   "source": [
    "Como podemos observar, entre las personas que si hacen deporte la diferenica de hombres y mujeres es relativamente más alta en comparación con sus homologos que no hacen deporte."
   ]
  },
  {
   "cell_type": "markdown",
   "metadata": {},
   "source": [
    "### Pregunta 5\n",
    "Calcula el porcentaje medio de variación del pulso por minuto entre antes y después de hacer ejercicio para los\n",
    "estudiantes que no hacen ejercicio habitualmente y compara el valor de los fumadores con los no fumadores.\n",
    "¿Observas mucha diferencia?"
   ]
  },
  {
   "cell_type": "code",
   "execution_count": 10,
   "metadata": {},
   "outputs": [
    {
     "data": {
      "text/html": [
       "<div>\n",
       "<style scoped>\n",
       "    .dataframe tbody tr th:only-of-type {\n",
       "        vertical-align: middle;\n",
       "    }\n",
       "\n",
       "    .dataframe tbody tr th {\n",
       "        vertical-align: top;\n",
       "    }\n",
       "\n",
       "    .dataframe thead th {\n",
       "        text-align: right;\n",
       "    }\n",
       "</style>\n",
       "<table border=\"1\" class=\"dataframe\">\n",
       "  <thead>\n",
       "    <tr style=\"text-align: right;\">\n",
       "      <th></th>\n",
       "      <th>fuma</th>\n",
       "      <th>mean_pulso</th>\n",
       "    </tr>\n",
       "  </thead>\n",
       "  <tbody>\n",
       "    <tr>\n",
       "      <th>0</th>\n",
       "      <td>no</td>\n",
       "      <td>-0.000648</td>\n",
       "    </tr>\n",
       "    <tr>\n",
       "      <th>1</th>\n",
       "      <td>si</td>\n",
       "      <td>0.009122</td>\n",
       "    </tr>\n",
       "  </tbody>\n",
       "</table>\n",
       "</div>"
      ],
      "text/plain": [
       "  fuma  mean_pulso\n",
       "0   no   -0.000648\n",
       "1   si    0.009122"
      ]
     },
     "execution_count": 10,
     "metadata": {},
     "output_type": "execute_result"
    }
   ],
   "source": [
    "data2 = data[data['hace.deporte'] == 'no'].copy()\n",
    "data2 = data2.groupby(['fuma'], as_index=False, dropna=False).agg(mean_pulso=('pulso_diff', 'mean'))\n",
    "data2"
   ]
  },
  {
   "cell_type": "code",
   "execution_count": 12,
   "metadata": {},
   "outputs": [
    {
     "data": {
      "text/plain": [
       "array([0.00976979])"
      ]
     },
     "execution_count": 12,
     "metadata": {},
     "output_type": "execute_result"
    }
   ],
   "source": [
    "np.diff(data2['mean_pulso'])"
   ]
  },
  {
   "cell_type": "markdown",
   "metadata": {},
   "source": [
    "### Pregunta 6\n",
    "Calcula el porcentaje medio de variación del pulso por minuto entre antes y después de hacer ejercicio de\n",
    "todos los estudiantes según el tipo de actividad física que realizan. ¿Observas alguna diferencia?\n"
   ]
  },
  {
   "cell_type": "code",
   "execution_count": 15,
   "metadata": {},
   "outputs": [
    {
     "data": {
      "text/html": [
       "<div>\n",
       "<style scoped>\n",
       "    .dataframe tbody tr th:only-of-type {\n",
       "        vertical-align: middle;\n",
       "    }\n",
       "\n",
       "    .dataframe tbody tr th {\n",
       "        vertical-align: top;\n",
       "    }\n",
       "\n",
       "    .dataframe thead th {\n",
       "        text-align: right;\n",
       "    }\n",
       "</style>\n",
       "<table border=\"1\" class=\"dataframe\">\n",
       "  <thead>\n",
       "    <tr style=\"text-align: right;\">\n",
       "      <th></th>\n",
       "      <th>tipo.actividad</th>\n",
       "      <th>mean_pulso</th>\n",
       "    </tr>\n",
       "  </thead>\n",
       "  <tbody>\n",
       "    <tr>\n",
       "      <th>0</th>\n",
       "      <td>intensa</td>\n",
       "      <td>0.013475</td>\n",
       "    </tr>\n",
       "    <tr>\n",
       "      <th>1</th>\n",
       "      <td>moderada</td>\n",
       "      <td>0.140157</td>\n",
       "    </tr>\n",
       "    <tr>\n",
       "      <th>2</th>\n",
       "      <td>nula</td>\n",
       "      <td>0.125000</td>\n",
       "    </tr>\n",
       "    <tr>\n",
       "      <th>3</th>\n",
       "      <td>suave</td>\n",
       "      <td>0.037472</td>\n",
       "    </tr>\n",
       "  </tbody>\n",
       "</table>\n",
       "</div>"
      ],
      "text/plain": [
       "  tipo.actividad  mean_pulso\n",
       "0        intensa    0.013475\n",
       "1       moderada    0.140157\n",
       "2           nula    0.125000\n",
       "3          suave    0.037472"
      ]
     },
     "execution_count": 15,
     "metadata": {},
     "output_type": "execute_result"
    }
   ],
   "source": [
    "data3 = data.copy()\n",
    "data3 = data3.groupby(['tipo.actividad'], as_index=False, dropna=False).agg(mean_pulso=('pulso_diff', 'mean'))\n",
    "data3"
   ]
  }
 ],
 "metadata": {
  "kernelspec": {
   "display_name": "Python 3",
   "language": "python",
   "name": "python3"
  },
  "language_info": {
   "codemirror_mode": {
    "name": "ipython",
    "version": 3
   },
   "file_extension": ".py",
   "mimetype": "text/x-python",
   "name": "python",
   "nbconvert_exporter": "python",
   "pygments_lexer": "ipython3",
   "version": "3.12.2"
  }
 },
 "nbformat": 4,
 "nbformat_minor": 2
}
