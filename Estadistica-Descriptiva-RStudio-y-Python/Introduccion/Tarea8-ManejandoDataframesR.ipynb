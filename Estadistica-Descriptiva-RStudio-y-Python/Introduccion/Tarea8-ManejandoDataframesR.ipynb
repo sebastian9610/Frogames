{
 "cells": [
  {
   "cell_type": "markdown",
   "metadata": {},
   "source": [
    "# Manejando Data Frames con R\n",
    "Carga en R el CSV de la web http://winterolympicsmedals.com/medals.csv y responde a las siguientes\n",
    "preguntas."
   ]
  },
  {
   "cell_type": "markdown",
   "metadata": {},
   "source": [
    "### Pregunta 1\n",
    "¿Cuántos deportistas aparecen en el data frame?"
   ]
  },
  {
   "cell_type": "code",
   "execution_count": null,
   "metadata": {},
   "outputs": [],
   "source": [
    "medals = read.csv(\"http://winterolympicsmedals.com/medals.csv\", header = TRUE)\n",
    "dim(medals)[1]"
   ]
  },
  {
   "cell_type": "markdown",
   "metadata": {},
   "source": [
    "### Pregunta 2\n",
    "¿Cuántos deportistas han ganado medallas de oro? ¿Cuántos han ganado medallas de plata? ¿Y cuántos debronce?"
   ]
  },
  {
   "cell_type": "code",
   "execution_count": null,
   "metadata": {},
   "outputs": [],
   "source": [
    "dim(medals[medals$Medal==\"Gold\",])[1]"
   ]
  },
  {
   "cell_type": "code",
   "execution_count": null,
   "metadata": {},
   "outputs": [],
   "source": [
    "dim(medals[medals$Medal==\"Silver\",])[1]"
   ]
  },
  {
   "cell_type": "code",
   "execution_count": null,
   "metadata": {},
   "outputs": [],
   "source": [
    "dim(medals[medals$Medal==\"Bronze\",])[1]"
   ]
  },
  {
   "cell_type": "markdown",
   "metadata": {},
   "source": [
    "### Pregunta 3\n",
    "¿En cuántos lugares se han hecho olimpiadas de invierno?"
   ]
  },
  {
   "cell_type": "code",
   "execution_count": null,
   "metadata": {},
   "outputs": [],
   "source": [
    "length(levels(medals$City))"
   ]
  },
  {
   "cell_type": "markdown",
   "metadata": {},
   "source": [
    "### Pregunta 4\n",
    "¿Cuántos hombres y cuántas mujeres hay?"
   ]
  },
  {
   "cell_type": "code",
   "execution_count": null,
   "metadata": {},
   "outputs": [],
   "source": [
    "dim(medals[medals$Event.gender==\"M\",])[1]"
   ]
  },
  {
   "cell_type": "markdown",
   "metadata": {},
   "source": [
    "dim(medals[medals$Event.gender==\"W\",])[1]"
   ]
  },
  {
   "cell_type": "markdown",
   "metadata": {},
   "source": [
    "### Pregunta 5\n",
    "¿En qué año participaron más deportistas?"
   ]
  },
  {
   "cell_type": "code",
   "execution_count": null,
   "metadata": {},
   "outputs": [],
   "source": [
    "years =unique(medals$Year)\n",
    "\n",
    "athletesInYear =function(year){\n",
    "    sum(medals$Year==year)}\n",
    "\n",
    "athletes =sapply(years, athletesInYear)\n",
    "\n",
    "index =which.max(athletes)\n",
    "years[index]"
   ]
  },
  {
   "cell_type": "markdown",
   "metadata": {},
   "source": [
    "### Pregunta 6\n",
    "El campoNOCindica el país del ganador de la medalla. ¿Qué país puede presumir de haber ganado másmedallas de oro en los juegos de invierno entre 1960 y 1996?"
   ]
  },
  {
   "cell_type": "code",
   "execution_count": null,
   "metadata": {},
   "outputs": [],
   "source": [
    "medals1960_1996 = medals[medals$Year>=1960&medals$Year<=1996&medals$Medal==\"Gold\",]\n",
    "\n",
    "countries =levels(medals1960_1996$NOC)\n",
    "\n",
    "victoriesPerCountry =function(country){sum(medals1960_1996$NOC==country)}\n",
    "\n",
    "victories =sapply(countries, victoriesPerCountry)\n",
    "which(victories== max(victories))"
   ]
  }
 ],
 "metadata": {
  "kernelspec": {
   "display_name": "Python 3",
   "language": "python",
   "name": "python3"
  },
  "language_info": {
   "codemirror_mode": {
    "name": "ipython",
    "version": 3
   },
   "file_extension": ".py",
   "mimetype": "text/x-python",
   "name": "python",
   "nbconvert_exporter": "python",
   "pygments_lexer": "ipython3",
   "version": "3.12.2"
  }
 },
 "nbformat": 4,
 "nbformat_minor": 2
}
