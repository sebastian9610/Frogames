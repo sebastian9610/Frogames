{
 "cells": [
  {
   "cell_type": "markdown",
   "metadata": {},
   "source": [
    "# Programando con Python"
   ]
  },
  {
   "cell_type": "markdown",
   "metadata": {},
   "source": [
    "### Pregunta 1\n",
    "Crea una función que reciba los tres coeficientes a, b y c para resolver una ecuación de segundo grado.\n",
    "Muestra la solución por pantalla y ayúdate de la librería math para acceder a la función raíz cuadrada.\n"
   ]
  },
  {
   "cell_type": "markdown",
   "metadata": {},
   "source": [
    "Para resolver la ecucaión de segundo grado nos apoyaremos en la formula:\n",
    "$$x = \\frac{-b \\pm \\sqrt{b^2 - 4ac}}{2a}$$\n",
    "donde $a \\neq 0$. Esto nos devolverá dos posibles soluciones a nuestra ecuación"
   ]
  },
  {
   "cell_type": "code",
   "execution_count": 2,
   "metadata": {},
   "outputs": [
    {
     "data": {
      "text/plain": [
       "(1.434258545910665, 0.2324081207560018)"
      ]
     },
     "execution_count": 2,
     "metadata": {},
     "output_type": "execute_result"
    }
   ],
   "source": [
    "import math\n",
    "def ecuacion_seg_grado(a, b, c):\n",
    "    if a != 0:\n",
    "        x1 = (-b + math.sqrt(b**2 - (4*a*c)))/(2*a)\n",
    "        x2 = (-b - math.sqrt(b**2 - (4*a*c)))/(2*a)\n",
    "    else:\n",
    "        print('El valor de a no puede ser cero')\n",
    "    return x1, x2\n",
    "\n",
    "a = float(input('Ingrese el valor de a: '))\n",
    "b = float(input('Ingrese el valor de b: '))\n",
    "c = float(input('Ingrese el valor de c: '))\n",
    "ecuacion_seg_grado(a, b, c )"
   ]
  },
  {
   "cell_type": "markdown",
   "metadata": {},
   "source": [
    "### Pregunta 2\n",
    "Crea una función que lea una frase de teclado y nos diga si es o no un palíndromo (frase que se lee igual de\n",
    "izquierda a derecha o al revés como por ejemplo “La ruta nos aportó otro paso natural”)"
   ]
  },
  {
   "cell_type": "code",
   "execution_count": 4,
   "metadata": {},
   "outputs": [
    {
     "name": "stdout",
     "output_type": "stream",
     "text": [
      "La frase 'Sebastian' no es un palíndromo.\n"
     ]
    }
   ],
   "source": [
    "def es_palindromo(frase):\n",
    "  frase_sin_espacios = frase.lower().replace(\" \", \"\")\n",
    "\n",
    "  # Invertir la frase.\n",
    "  frase_invertida = frase_sin_espacios[::-1]\n",
    "\n",
    "  # Comparar la frase original con la invertida.\n",
    "  return frase_sin_espacios == frase_invertida\n",
    "\n",
    "# Ejemplo de uso\n",
    "frase = input(\"Introduce una frase: \")\n",
    "\n",
    "if es_palindromo(frase):\n",
    "  print(f\"La frase '{frase}' es un palíndromo.\")\n",
    "else:\n",
    "  print(f\"La frase '{frase}' no es un palíndromo.\")"
   ]
  },
  {
   "cell_type": "markdown",
   "metadata": {},
   "source": [
    "### Pregunta 3\n",
    "Crea un diccionario que tenga por claves los números del 1 al 10 y como valores sus raíces cuadradas."
   ]
  },
  {
   "cell_type": "code",
   "execution_count": 15,
   "metadata": {},
   "outputs": [
    {
     "data": {
      "text/plain": [
       "{1: {1: 1.0},\n",
       " 2: {2: 1.4142135623730951},\n",
       " 3: {3: 1.7320508075688772},\n",
       " 4: {4: 2.0},\n",
       " 5: {5: 2.23606797749979},\n",
       " 6: {6: 2.449489742783178},\n",
       " 7: {7: 2.6457513110645907},\n",
       " 8: {8: 2.8284271247461903},\n",
       " 9: {9: 3.0},\n",
       " 10: {10: 3.1622776601683795}}"
      ]
     },
     "execution_count": 15,
     "metadata": {},
     "output_type": "execute_result"
    }
   ],
   "source": [
    "diccionario = {}\n",
    "for i in range(1, 11):\n",
    "    diccionario[i] = {i:math.sqrt(i)}\n",
    "diccionario"
   ]
  },
  {
   "cell_type": "markdown",
   "metadata": {},
   "source": [
    "### Pregunta 4\n",
    "Crea un diccionario que tenga como claves las letras del alfabeto castellano y como valores los símbolos del\n",
    "código morse (los tienes todos en la Wikipedia). A continuación crea una función que lea una frase del\n",
    "teclado y te la convierta a morse utilizando el diccionario anterior."
   ]
  },
  {
   "cell_type": "code",
   "execution_count": 16,
   "metadata": {},
   "outputs": [
    {
     "name": "stdout",
     "output_type": "stream",
     "text": [
      "La frase 'El jefe maestro escapo' en código morse es: . .-..   .--- . ..-. .   -- .- . ... - .-. ---   . ... -.-. .- .--. --- \n"
     ]
    }
   ],
   "source": [
    "MORSE_ALFABETO = {\n",
    "  \"a\": \".-\",\n",
    "  \"b\": \"-...\",\n",
    "  \"c\": \"-.-.\",\n",
    "  \"d\": \"-..\",\n",
    "  \"e\": \".\",\n",
    "  \"f\": \"..-.\",\n",
    "  \"g\": \"--.\",\n",
    "  \"h\": \"....\",\n",
    "  \"i\": \"..\",\n",
    "  \"j\": \".---\",\n",
    "  \"k\": \"-.-\",\n",
    "  \"l\": \".-..\",\n",
    "  \"m\": \"--\",\n",
    "  \"n\": \"-.\",\n",
    "  \"ñ\": \"--.--\",\n",
    "  \"o\": \"---\",\n",
    "  \"p\": \".--.\",\n",
    "  \"q\": \"--.-\",\n",
    "  \"r\": \".-.\",\n",
    "  \"s\": \"...\",\n",
    "  \"t\": \"-\",\n",
    "  \"u\": \"..-\",\n",
    "  \"v\": \"...-\",\n",
    "  \"w\": \".--\",\n",
    "  \"x\": \"-..-\",\n",
    "  \"y\": \"-.--\",\n",
    "  \"z\": \"--..\",\n",
    "  \"á\": \".--.-\",\n",
    "  \"é\": \"..-..\",\n",
    "  \"í\": \"..--\",\n",
    "  \"ó\": \"---.\",\n",
    "  \"ú\": \"....-\",\n",
    "}\n",
    "\n",
    "def convertir_a_morse(frase):\n",
    "  frase_morse = \"\"\n",
    "  for letra in frase.lower():\n",
    "    if letra in MORSE_ALFABETO:\n",
    "      frase_morse += MORSE_ALFABETO[letra] + \" \"\n",
    "    else:\n",
    "      frase_morse += letra + \" \"\n",
    "  return frase_morse\n",
    "\n",
    "frase = input(\"Introduce una frase: \")\n",
    "\n",
    "frase_morse = convertir_a_morse(frase)\n",
    "\n",
    "print(f\"La frase '{frase}' en código morse es: {frase_morse}\")\n"
   ]
  },
  {
   "cell_type": "markdown",
   "metadata": {},
   "source": [
    "### Pregunta 5\n",
    "Crea una función que dados dos diccionarios nos diga qué claves están presentes en ambos"
   ]
  },
  {
   "cell_type": "code",
   "execution_count": 17,
   "metadata": {},
   "outputs": [
    {
     "name": "stdout",
     "output_type": "stream",
     "text": [
      "Las claves presentes en ambos diccionarios son: {'c', 'b'}\n"
     ]
    }
   ],
   "source": [
    "def claves_en_ambos(diccionario1, diccionario2):\n",
    "  claves_comunes = set(diccionario1.keys()) & set(diccionario2.keys())\n",
    "  return claves_comunes\n",
    "\n",
    "diccionario1 = {\"a\": 1, \"b\": 2, \"c\": 3}\n",
    "diccionario2 = {\"b\": 2, \"c\": 4, \"d\": 5}\n",
    "\n",
    "claves_comunes = claves_en_ambos(diccionario1, diccionario2)\n",
    "\n",
    "print(f\"Las claves presentes en ambos diccionarios son: {claves_comunes}\")"
   ]
  },
  {
   "cell_type": "markdown",
   "metadata": {},
   "source": [
    "### Pregunta 6\n",
    "Crea una función que dado un número N nos diga si es primo o no (tiene que ir dividiendo por todos los\n",
    "números x comprendidos entre 2 y el número N − 1 y ver si la división de N\n",
    "x\n",
    "tiene resto cero o no)."
   ]
  },
  {
   "cell_type": "code",
   "execution_count": 22,
   "metadata": {},
   "outputs": [
    {
     "name": "stdout",
     "output_type": "stream",
     "text": [
      "El número 113 es primo.\n"
     ]
    }
   ],
   "source": [
    "def es_primo(numero):\n",
    "  if numero <= 1:\n",
    "    return False\n",
    "\n",
    "  for i in range(2, numero):\n",
    "    if numero % i == 0:\n",
    "      return False\n",
    "\n",
    "  return True\n",
    "\n",
    "numero = int(input(\"Introduce un número: \"))\n",
    "\n",
    "if es_primo(numero):\n",
    "  print(f\"El número {numero} es primo.\")\n",
    "else:\n",
    "  print(f\"El número {numero} no es primo.\")"
   ]
  },
  {
   "cell_type": "markdown",
   "metadata": {},
   "source": [
    "### Pregunta 7\n",
    "Investiga la documentación de la clase string y crea un método que lea una frase del teclado y escriba la\n",
    "primera letra de cada palabra en Mayúscula"
   ]
  },
  {
   "cell_type": "code",
   "execution_count": 25,
   "metadata": {},
   "outputs": [
    {
     "name": "stdout",
     "output_type": "stream",
     "text": [
      "cortana esta manipulando al jefe maestro\n",
      "\n",
      "Cortana Esta Manipulando Al Jefe Maestro\n"
     ]
    }
   ],
   "source": [
    "frase = input('Ingresa una frase: ').strip()\n",
    "print(frase)\n",
    "print()\n",
    "print(frase.title())"
   ]
  },
  {
   "cell_type": "markdown",
   "metadata": {},
   "source": [
    "### Pregunta 8\n",
    "Crea una función que calcule el máximo común divisor de dos números introducidos por el usuario por\n",
    "teclado."
   ]
  },
  {
   "cell_type": "code",
   "execution_count": 26,
   "metadata": {},
   "outputs": [
    {
     "name": "stdout",
     "output_type": "stream",
     "text": [
      "El máximo común divisor de 12 y 18 es: 6\n"
     ]
    }
   ],
   "source": [
    "def mcd(a, b):\n",
    "  while b:\n",
    "    a, b = b, a % b\n",
    "  return a\n",
    "\n",
    "a = int(input(\"Introduce el primer número: \"))\n",
    "b = int(input(\"Introduce el segundo número: \"))\n",
    "\n",
    "mcd_ab = mcd(a, b)\n",
    "\n",
    "print(f\"El máximo común divisor de {a} y {b} es: {mcd_ab}\")"
   ]
  },
  {
   "cell_type": "markdown",
   "metadata": {},
   "source": [
    "### Pregunta 9\n",
    "Investiga el Cifrado del César y crea una función que lo reproduzca en Python. Cada letra del mensaje\n",
    "original se desplaza tres posiciones en el alfabeto estándar. La A se convierte en la D, la B se convierte en la\n",
    "E, la C se convierte en la F. . . y cuando se acaba el alfabeto se le vuelve a dar la vuelta: la X se convierte\n",
    "en la A, la Y en la B y la X en la C. Los números no sufren ninguna modificación"
   ]
  },
  {
   "cell_type": "markdown",
   "metadata": {},
   "source": [
    "El cifrado del César es un método de cifrado simple que consiste en sustituir cada letra del mensaje original por otra que se encuentra a un número fijo de posiciones en el alfabeto. En este caso, el desplazamiento es de 3 posiciones."
   ]
  },
  {
   "cell_type": "code",
   "execution_count": 27,
   "metadata": {},
   "outputs": [
    {
     "name": "stdout",
     "output_type": "stream",
     "text": [
      "Mensaje original: Hola mundo!\n",
      "Mensaje cifrado: Hrñd oxpgr!\n"
     ]
    }
   ],
   "source": [
    "def cifrar_cesar(mensaje):\n",
    "  alfabeto = \"abcdefghijklmnñopqrstuvwxyzáéíóú\"\n",
    "  mensaje_cifrado = \"\"\n",
    "\n",
    "  for letra in mensaje:\n",
    "    if letra in alfabeto:\n",
    "      posicion = alfabeto.find(letra)\n",
    "      nueva_posicion = (posicion + 3) % len(alfabeto)\n",
    "      nueva_letra = alfabeto[nueva_posicion]\n",
    "      mensaje_cifrado += nueva_letra\n",
    "    else:\n",
    "      mensaje_cifrado += letra\n",
    "\n",
    "  return mensaje_cifrado\n",
    "\n",
    "mensaje = \"Hola mundo!\"\n",
    "mensaje_cifrado = cifrar_cesar(mensaje)\n",
    "\n",
    "print(f\"Mensaje original: {mensaje}\")\n",
    "print(f\"Mensaje cifrado: {mensaje_cifrado}\")"
   ]
  },
  {
   "cell_type": "markdown",
   "metadata": {},
   "source": [
    "### Pregunta 10\n",
    "Dado una lista de nombres de persona, escribe una función que los ordene de tres formas diferentes:\n",
    "* De forma alfabética\n",
    "* De forma alfabética invertida\n",
    "* De nombre más corto al más largo."
   ]
  },
  {
   "cell_type": "code",
   "execution_count": 31,
   "metadata": {},
   "outputs": [
    {
     "name": "stdout",
     "output_type": "stream",
     "text": [
      "Nombres ordenados alfabéticamente: ['Ana', 'Juan', 'Laura', 'María', 'Pedro', 'Sebastian']\n",
      "Nombres ordenados alfabéticamente invertida: ['Sebastian', 'Pedro', 'María', 'Laura', 'Juan', 'Ana']\n",
      "Nombres ordenados por longitud: ['Ana', 'Juan', 'María', 'Pedro', 'Laura', 'Sebastian']\n"
     ]
    }
   ],
   "source": [
    "def ordenar_alfabetico(nombres):\n",
    "    return sorted(nombres)\n",
    "\n",
    "def ordenar_alfabetico_invertido(nombres):\n",
    "    return sorted(nombres, reverse=True)\n",
    "\n",
    "def ordenar_por_longitud(nombres):\n",
    "    return sorted(nombres, key=len)\n",
    "\n",
    "nombres = [\"Ana\", \"Juan\", \"María\", \"Pedro\", \"Laura\",\"Sebastian\"]\n",
    "nombres_ordenados_alfabetico = ordenar_alfabetico(nombres)\n",
    "nombres_ordenados_alfabetico_invertido = ordenar_alfabetico_invertido(nombres)\n",
    "nombres_ordenados_por_longitud = ordenar_por_longitud(nombres)\n",
    "\n",
    "print(f\"Nombres ordenados alfabéticamente: {nombres_ordenados_alfabetico}\")\n",
    "print(f\"Nombres ordenados alfabéticamente invertida: {nombres_ordenados_alfabetico_invertido}\")\n",
    "print(f\"Nombres ordenados por longitud: {nombres_ordenados_por_longitud}\")"
   ]
  }
 ],
 "metadata": {
  "kernelspec": {
   "display_name": "Python 3",
   "language": "python",
   "name": "python3"
  },
  "language_info": {
   "codemirror_mode": {
    "name": "ipython",
    "version": 3
   },
   "file_extension": ".py",
   "mimetype": "text/x-python",
   "name": "python",
   "nbconvert_exporter": "python",
   "pygments_lexer": "ipython3",
   "version": "3.12.2"
  }
 },
 "nbformat": 4,
 "nbformat_minor": 2
}
