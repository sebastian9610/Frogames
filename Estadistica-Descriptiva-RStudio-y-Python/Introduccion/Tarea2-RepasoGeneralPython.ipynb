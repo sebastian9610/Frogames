{
 "cells": [
  {
   "cell_type": "markdown",
   "metadata": {},
   "source": [
    "# Repaso general de Python"
   ]
  },
  {
   "cell_type": "markdown",
   "metadata": {},
   "source": [
    "### Pregunta 1\n",
    "Escribe una secuencia de instrucciones que permitan leer un número real por pantalla y que muestre si el\n",
    "número es positivo o no."
   ]
  },
  {
   "cell_type": "code",
   "execution_count": 1,
   "metadata": {},
   "outputs": [
    {
     "name": "stdout",
     "output_type": "stream",
     "text": [
      "El numero ingresado -12.3 es negativo\n"
     ]
    }
   ],
   "source": [
    "numero = float(input('Por favor ingrese un numero: '))\n",
    "if numero >= 0:\n",
    "    print(f'El numero ingresado {numero} es positivo')\n",
    "else:\n",
    "    print(f'El numero ingresado {numero} es negativo')"
   ]
  },
  {
   "cell_type": "markdown",
   "metadata": {},
   "source": [
    "### Pregunta 2\n",
    "Escribe una secuencia de instrucciones que permitan leer un número real por pantalla y que muestre si el\n",
    "número está en el rango entre −5 y 5, ambos incluidos."
   ]
  },
  {
   "cell_type": "code",
   "execution_count": 7,
   "metadata": {},
   "outputs": [
    {
     "name": "stdout",
     "output_type": "stream",
     "text": [
      "El numero -9.0 ingresado no esta en el rango -5 y 5\n"
     ]
    }
   ],
   "source": [
    "numero = float(input('Por favor ingrese un numero: '))\n",
    "if numero >= -5 and numero <= 5:\n",
    "    print(f'El numero {numero} esta en el rango -5 y 5')\n",
    "else:\n",
    "    print(f'El numero {numero} no esta en el rango -5 y 5')"
   ]
  },
  {
   "cell_type": "markdown",
   "metadata": {},
   "source": [
    "### Pregunta 3\n",
    "Escribe una secuencia de instrucciones que permitan leer las coordenadas de un punto (x, y) e indique en\n",
    "cuál de los cuatro cuadrantes se encuentra dicho punto.\n",
    "* Si x = 0, deberás indicar que el punto se encuentra sobre el eje vertical.\n",
    "* Si y = 0, deberás indicar que el punto se encuentra sobre el eje horizontal.\n",
    "* Si tanto x = 0 como y = 0, entonces deberás indicar que el punto se trata del origen de coordenadas.\n"
   ]
  },
  {
   "cell_type": "code",
   "execution_count": 8,
   "metadata": {},
   "outputs": [
    {
     "name": "stdout",
     "output_type": "stream",
     "text": [
      "El punto se encuentra en el Cuadrante 1\n"
     ]
    }
   ],
   "source": [
    "def determinar_cuadrante(x, y):\n",
    "  if x == 0 and y == 0:\n",
    "    return \"Origen\"\n",
    "  elif x == 0:\n",
    "    return \"Eje vertical\"\n",
    "  elif y == 0:\n",
    "    return \"Eje horizontal\"\n",
    "  elif x > 0 and y > 0:\n",
    "    return \"Cuadrante 1\"\n",
    "  elif x < 0 and y > 0:\n",
    "    return \"Cuadrante 2\"\n",
    "  elif x < 0 and y < 0:\n",
    "    return \"Cuadrante 3\"\n",
    "  else:\n",
    "    return \"Cuadrante 4\"\n",
    "\n",
    "# Pedir las coordenadas al usuario\n",
    "x = float(input(\"Introduzca la coordenada x: \"))\n",
    "y = float(input(\"Introduzca la coordenada y: \"))\n",
    "\n",
    "# Determinar el cuadrante\n",
    "cuadrante = determinar_cuadrante(x, y)\n",
    "\n",
    "# Imprimir el resultado\n",
    "print(f\"El punto se encuentra en el {cuadrante}\")"
   ]
  },
  {
   "cell_type": "markdown",
   "metadata": {},
   "source": [
    "### Pregunta 4\n",
    "Escribe una secuencia de instrucciones que permitan leer dos números enteros y muestre el cociente de la\n",
    "división entera y el resto de la división entera.\n"
   ]
  },
  {
   "cell_type": "code",
   "execution_count": 10,
   "metadata": {},
   "outputs": [
    {
     "name": "stdout",
     "output_type": "stream",
     "text": [
      "El cociente de la division entera es: 2.0\n",
      "El cociente del resto de la division entera es: 3.0\n"
     ]
    }
   ],
   "source": [
    "a = float(input('Ingrese el primer numero'))\n",
    "b = float(input('Ingrese el segundo numero'))\n",
    "c = a // b\n",
    "d = a % b\n",
    "print(f'El cociente de la division entera es: {c}')\n",
    "print(f'El cociente del resto de la division entera es: {d}')"
   ]
  },
  {
   "cell_type": "markdown",
   "metadata": {},
   "source": [
    "### Pregunta 5\n",
    "Escribe una secuencia de instrucciones que permitan leer un número entero y determinar si es cuadrado\n",
    "perfecto o no (piensa la mejor forma de hacerlo con lo que has aprendido hasta ahora)"
   ]
  },
  {
   "cell_type": "code",
   "execution_count": 13,
   "metadata": {},
   "outputs": [
    {
     "name": "stdout",
     "output_type": "stream",
     "text": [
      "El número 25 es un cuadrado perfecto\n"
     ]
    }
   ],
   "source": [
    "def es_cuadrado_perfecto(numero):\n",
    "  if numero < 0:\n",
    "    return False\n",
    "  \n",
    "  # Buscar la raíz cuadrada del número\n",
    "  raiz_cuadrada = numero ** 0.5\n",
    "  \n",
    "  # Comprobar si la raíz cuadrada es un número entero\n",
    "  return raiz_cuadrada.is_integer()\n",
    "\n",
    "# Pedir un número al usuario\n",
    "numero = int(input(\"Introduzca un número: \"))\n",
    "\n",
    "# Determinar si el número es cuadrado perfecto\n",
    "es_cuadrado = es_cuadrado_perfecto(numero)\n",
    "\n",
    "if es_cuadrado:\n",
    "  print(f\"El número {numero} es un cuadrado perfecto\")\n",
    "else:\n",
    "  print(f\"El número {numero} no es un cuadrado perfecto\")"
   ]
  },
  {
   "cell_type": "markdown",
   "metadata": {},
   "source": [
    "### Pregunta 6\n",
    "Escribe una expresión que permita determinar si un número entero positivo puede corresponder a un año\n",
    "bisiesto o no. Se consideran años bisiestos aquellos cuyo número es divisible por cuatro excepto los años que\n",
    "son múltiplos de 100, a no ser que lo sean de 400 (por ejemplo el año 2000 fue bisiesto pero el 2100 no lo\n",
    "será)."
   ]
  },
  {
   "cell_type": "code",
   "execution_count": 15,
   "metadata": {},
   "outputs": [
    {
     "name": "stdout",
     "output_type": "stream",
     "text": [
      "El año 2100 no es bisiesto\n"
     ]
    }
   ],
   "source": [
    "numero = int(input('Ingresa un año:'))\n",
    "\n",
    "if (numero % 4 == 0 and (numero % 100 != 0 or numero % 400 == 0)):\n",
    "  print(f\"El año {numero} es bisiesto\")\n",
    "else:\n",
    "  print(f\"El año {numero} no es bisiesto\")"
   ]
  },
  {
   "cell_type": "markdown",
   "metadata": {},
   "source": [
    "### Pregunta 7\n",
    "Busca la imagen de un tablero de ajedrez en Google y fíjate en la nomenclatura de las casillas. Escribe una\n",
    "secuencia que lea una letra y un número de teclado correspondiente a una casilla de un tablero de ajedrez y\n",
    "que indique si esta casilla es negra o blanca.\n"
   ]
  },
  {
   "cell_type": "code",
   "execution_count": 17,
   "metadata": {},
   "outputs": [
    {
     "name": "stdout",
     "output_type": "stream",
     "text": [
      "La casilla d3 es blanca\n"
     ]
    }
   ],
   "source": [
    "import string\n",
    "\n",
    "def es_casilla_negra(letra, numero):\n",
    "  # Convertir la letra a minúscula\n",
    "  letra = letra.lower()\n",
    "\n",
    "  # Validar la letra\n",
    "  if letra not in string.ascii_lowercase:\n",
    "    return False\n",
    "\n",
    "  # Validar el número\n",
    "  if not 1 <= numero <= 8:\n",
    "    return False\n",
    "\n",
    "  # Calcular la posición de la casilla\n",
    "  posicion = (numero - 1) * 8 + ord(letra) - ord('a')\n",
    "\n",
    "  # Devolver True si la posición es par\n",
    "  return posicion % 2 == 0\n",
    "\n",
    "letra = input(\"Introduzca la letra de la columna: \")\n",
    "numero = int(input(\"Introduzca el número de la fila: \"))\n",
    "\n",
    "es_negra = es_casilla_negra(letra, numero)\n",
    "\n",
    "if es_negra:\n",
    "  print(f\"La casilla {letra}{numero} es negra\")\n",
    "else:\n",
    "  print(f\"La casilla {letra}{numero} es blanca\")\n"
   ]
  }
 ],
 "metadata": {
  "kernelspec": {
   "display_name": "Python 3",
   "language": "python",
   "name": "python3"
  },
  "language_info": {
   "codemirror_mode": {
    "name": "ipython",
    "version": 3
   },
   "file_extension": ".py",
   "mimetype": "text/x-python",
   "name": "python",
   "nbconvert_exporter": "python",
   "pygments_lexer": "ipython3",
   "version": "3.12.2"
  }
 },
 "nbformat": 4,
 "nbformat_minor": 2
}
