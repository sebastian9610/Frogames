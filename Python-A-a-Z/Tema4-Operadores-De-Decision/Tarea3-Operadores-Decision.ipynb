{
 "cells": [
  {
   "cell_type": "markdown",
   "metadata": {},
   "source": [
    "# Tarea 3 - Operadores de decisión"
   ]
  },
  {
   "cell_type": "markdown",
   "metadata": {},
   "source": [
    "### Ejercicio 1\n",
    "Haz que un usuario introduzca un número real y evalúa si dicho número es positivo, negativo o cero. Devuelve\n",
    "por pantalla el resultado en cada caso."
   ]
  },
  {
   "cell_type": "code",
   "execution_count": 3,
   "metadata": {},
   "outputs": [
    {
     "name": "stdout",
     "output_type": "stream",
     "text": [
      "El numero cero\n"
     ]
    }
   ],
   "source": [
    "numero = float(input('Introduzca un numero:'))\n",
    "if numero > 0:\n",
    "    print(f'El numero {numero} es positivo')\n",
    "elif numero < 0:\n",
    "    print(f'El numero {numero} es negativo')\n",
    "else:\n",
    "    print(f'El numero es cero')"
   ]
  },
  {
   "cell_type": "markdown",
   "metadata": {},
   "source": [
    "### Ejercicio 2\n",
    "Haz que un usuario introduzca su nombre y evalúa con operadores if y else si dicho nombre tiene una\n",
    "longitud mayor a 10 caracteres o no. Devuelve por pantalla el resultado en cada caso."
   ]
  },
  {
   "cell_type": "code",
   "execution_count": 8,
   "metadata": {},
   "outputs": [
    {
     "name": "stdout",
     "output_type": "stream",
     "text": [
      "EL nombre Spartan  John 117 tiene una longitud mayor a 10 caracteres\n"
     ]
    }
   ],
   "source": [
    "nombre = input('Ingrese su nombre:').strip()\n",
    "if len(nombre) > 10:\n",
    "    print(f'EL nombre {nombre} tiene una longitud mayor a 10 caracteres')\n",
    "else:\n",
    "    print(f'EL nombre {nombre} tiene una longitud menor o igual a 10 caracteres')"
   ]
  },
  {
   "cell_type": "markdown",
   "metadata": {},
   "source": [
    "### Ejercicio 3\n",
    "Realiza el ejercicio anterior con el uso del operador ternario."
   ]
  },
  {
   "cell_type": "code",
   "execution_count": 9,
   "metadata": {},
   "outputs": [
    {
     "name": "stdout",
     "output_type": "stream",
     "text": [
      "EL nombre Sebastian tiene una longitud menor o igual a 10 caracteres\n"
     ]
    }
   ],
   "source": [
    "nombre = input('Ingrese su nombre:').strip()\n",
    "print(f'EL nombre {nombre} tiene una longitud mayor a 10 caracteres') if len(nombre) > 10 else print(f'EL nombre {nombre} tiene una longitud menor o igual a 10 caracteres')"
   ]
  },
  {
   "cell_type": "markdown",
   "metadata": {},
   "source": [
    "### Ejercicio 4\n",
    "Haz que un usuario introduzca dos números enteros positivos. Comprueba si el primer número introducido\n",
    "por el usuario es mayor o igual que el segundo número introducido por el usuario. Devuelve por pantalla el\n",
    "resultado en cada caso.\n",
    "PISTA: Asegúrate de hacer uso de la función int() donde pertoque."
   ]
  },
  {
   "cell_type": "code",
   "execution_count": 14,
   "metadata": {},
   "outputs": [
    {
     "name": "stdout",
     "output_type": "stream",
     "text": [
      "El primer numero 3 ingresado es mayor o igual al segundo numero 2 ingresado\n"
     ]
    }
   ],
   "source": [
    "a = int(input('Introduzca un numero entero positivo: '))\n",
    "b = int(input('Introduzca un numero entero positivo: '))\n",
    "if a >= 0 and b >= 0:\n",
    "    if a >= b:\n",
    "        print(f'El primer numero {a} ingresado es mayor o igual al segundo numero {b} ingresado')\n",
    "    else:\n",
    "        print(f'El primer numero {a} ingresado es menor al segundo numero {b} ingresado')\n",
    "else:\n",
    "    if a < 0 and b < 0:\n",
    "        print(f'Los numeros {a} y {b} no son positivos')\n",
    "    elif a < 0:\n",
    "        print(f'el numero {a} no es positivo')\n",
    "    else:\n",
    "        print(f'el numero {b} no es positivo')"
   ]
  },
  {
   "cell_type": "markdown",
   "metadata": {},
   "source": [
    "### Ejercicio 5\n",
    "Haz que un usuario introduzca dos números enteros positivos. Suponiendo que el primer número introducido\n",
    "por el usuario es mayor o igual al segundo número introducido por el usuario, comprueba que la división del\n",
    "primer número entre el segundo número es exacta.\n",
    "En caso de la división ser exacta, devuelve el cociente por pantalla e indica que la división en efecto es exacta.\n",
    "En caso de la división no ser exacta, devuelve el cociente y el resto por pantalla e indica que la división entre\n",
    "los dos números no es exacta"
   ]
  },
  {
   "cell_type": "code",
   "execution_count": 16,
   "metadata": {},
   "outputs": [
    {
     "name": "stdout",
     "output_type": "stream",
     "text": [
      "La division entre 8 / 4 es igual a 2.0 y es exacta\n"
     ]
    }
   ],
   "source": [
    "a = int(input('Introduzca un numero entero positivo: '))\n",
    "b = int(input('Introduzca un numero entero positivo: '))\n",
    "if a >= 0 and b >= 0:\n",
    "    if a >= b:\n",
    "        if (a % b == 0): \n",
    "            print(f'La division entre {a} / {b} es igual a {a/b} y es exacta')\n",
    "        else:\n",
    "            print(f'La division entre {a} / {b} es igual al cociente {a//b} y su resto es {a%b} y no es exacta')\n",
    "    else:\n",
    "        print(f'El primer numero {a} ingresado es menor al segundo numero {b} ingresado, su resultado es {a/b}')\n",
    "else:\n",
    "    if a < 0 and b < 0:\n",
    "        print(f'Los numeros {a} y {b} no son positivos')\n",
    "    elif a < 0:\n",
    "        print(f'el numero {a} no es positivo')\n",
    "    else:\n",
    "        print(f'el numero {b} no es positivo')"
   ]
  },
  {
   "cell_type": "markdown",
   "metadata": {},
   "source": [
    "### Ejercicio 6\n",
    "Fusiona lo hecho en los ejercicios 4 y 5 para que\n",
    "1. Un usuario introduzca dos números enteros por pantalla.\n",
    "2. Comprobar si el primer número es mayor o igual al segundo número introducido por el usuario. Devolver\n",
    "por pantalla en que caso nos encontramos.\n",
    "3. Hacer la división entera pertinente en cada caso.\n",
    "4. Si la división es exacta, entonces devolver por pantalla el cociente e indicar que la división es exacta.\n",
    "Si la división no es exacta, entonces devolver por pantalla el cociente y el resto e indicar que la división\n",
    "realizada no es exacta.\n"
   ]
  },
  {
   "cell_type": "code",
   "execution_count": 19,
   "metadata": {},
   "outputs": [
    {
     "name": "stdout",
     "output_type": "stream",
     "text": [
      "El primer numero 7 es menor al segundo numero 8\n",
      "\n",
      "La division no es exacta entre 7/8 y su resultado entero es 0 y su resto es 7\n"
     ]
    }
   ],
   "source": [
    "a = int(input('Introduzca un numero entero: '))\n",
    "b = int(input('Introduzca un numero entero: '))\n",
    "print(f'El primer numero {a} es mayor o igual al segundo numero {b}') if a >= b else print(f'El primer numero {a} es menor al segundo numero {b}')\n",
    "print()\n",
    "if (a % b) == 0:\n",
    "    print(f'La division es exacta entre {a}/{b} y su resultado es {a/b}')\n",
    "else:\n",
    "    print(f'La division no es exacta entre {a}/{b} y su resultado entero es {a//b} y su resto es {a%b}')"
   ]
  },
  {
   "cell_type": "markdown",
   "metadata": {},
   "source": [
    "### Ejercicio 7\n",
    "Haz que un usuario introduzca dos números enteros positivos. Comprueba si el mayor es múltiplo del menor.\n",
    "Devuelve por pantalla el resultado en cada caso."
   ]
  },
  {
   "cell_type": "code",
   "execution_count": 21,
   "metadata": {},
   "outputs": [
    {
     "name": "stdout",
     "output_type": "stream",
     "text": [
      "12 es múltiplo de 3.\n"
     ]
    }
   ],
   "source": [
    "def es_multiplo(mayor, menor):\n",
    "    return mayor % menor == 0\n",
    "\n",
    "try:\n",
    "    num1 = int(input(\"Introduce el primer número entero positivo: \"))\n",
    "    num2 = int(input(\"Introduce el segundo número entero positivo: \"))\n",
    "\n",
    "    mayor = max(num1, num2)\n",
    "    menor = min(num1, num2)\n",
    "\n",
    "    if es_multiplo(mayor, menor):\n",
    "        print(f\"{mayor} es múltiplo de {menor}.\")\n",
    "    else:\n",
    "        print(f\"{mayor} no es múltiplo de {menor}.\")\n",
    "\n",
    "except ValueError:\n",
    "    print(\"Error: Debes introducir números enteros positivos.\")\n"
   ]
  },
  {
   "cell_type": "markdown",
   "metadata": {},
   "source": [
    "### Ejercicio 8\n",
    "Haz que un usuario introduzca una palabra y comprueba si dicha palabra empieza por mayúscula. Devuelve\n",
    "por pantalla el resultado en cada caso."
   ]
  },
  {
   "cell_type": "code",
   "execution_count": 23,
   "metadata": {},
   "outputs": [
    {
     "name": "stdout",
     "output_type": "stream",
     "text": [
      "False\n"
     ]
    }
   ],
   "source": [
    "palabra = input('Ingrese una palabra: ')\n",
    "print(palabra.istitle())"
   ]
  },
  {
   "cell_type": "markdown",
   "metadata": {},
   "source": [
    "### Ejercicio 9\n",
    "Haz un usuario introduza una letra y comprueba si se trata de una vocal. Si el usuario introduce un string\n",
    "de más de un carácter, infórmale de que no se puede procesar el dato, pues debe tener como máximo tamaño\n",
    "1.\n",
    "\n",
    "PISTA: Convierte la letra introducida a minúsculas para tener que realizar menos comprobaciones"
   ]
  },
  {
   "cell_type": "code",
   "execution_count": 28,
   "metadata": {},
   "outputs": [
    {
     "name": "stdout",
     "output_type": "stream",
     "text": [
      "La letra ingresada es u\n",
      "u es una vocal.\n"
     ]
    }
   ],
   "source": [
    "letra = input('Ingrese una letra: ').strip().lower()\n",
    "if len(letra) == 1:\n",
    "    print(f'La letra ingresada es {letra}')\n",
    "    print(f\"{letra} es una vocal.\") if letra in ['a', 'e', 'i', 'o', 'u'] else print(f\"{letra} no es una vocal.\")\n",
    "else:\n",
    "    print('Error, por favor ingrese una letra nuevamente')"
   ]
  },
  {
   "cell_type": "markdown",
   "metadata": {},
   "source": [
    "### Ejercicio 10\n",
    "Dada una ecuación de segundo grado $ax2 + bx + c = 0$, sabemos que las soluciones vienen dadas por \n",
    "$$x = \\frac{−b ±√(b^2 − 4ac)}{2a}$$\n",
    "siempre y cuando a != 0.\n",
    "El número de soluciones dentro del conjunto de los números reales *R* viene dado en función del signo que tome el discriminante $\\Delta = b^2 - 4ac$ Si $\\Delta$ > 0, entonces tendremos dos soluciones diferentes en *R*\n",
    "\n",
    "$(x = \\frac{−b+√\\Delta}{2a} y  x = \\frac{−b−√\\Delta}{2a})$. Si $\\Delta = 0$, entonces tendremos dos soluciones que serán iguales $(x = \\frac{-b}{2a})$. Si $\\Delta < 0$, entonces no existe solución dentro del conjunto de los números reales para esta ecuación de segundo\n",
    "grado.\n",
    "Con toda esta información, haz que el usuario introduzca los valores de los coeficientes a, b, c. Con ello,\n",
    "1. Comprueba que el coeficiente a es distinto de 0\n",
    "2. En función del discriminante, calcula cuántas soluciones va a tener la ecuación de segundo grado\n",
    "$ax2 + bx + c = 0.$\n",
    "3. Devuelve por pantalla el resultado en cada caso (tanto el número de soluciones en los números reales\n",
    "como el valor de éstas).\n",
    "\n",
    "**PISTA:** Para calcular la raíz cuadrada, vas a necesitar la función math.sqrt() de la librería math."
   ]
  },
  {
   "cell_type": "code",
   "execution_count": 32,
   "metadata": {},
   "outputs": [
    {
     "name": "stdout",
     "output_type": "stream",
     "text": [
      "Número de soluciones: 2\n",
      "Soluciones:\n",
      "\t- 0.30277563773199456\n",
      "\t- -3.302775637731995\n"
     ]
    }
   ],
   "source": [
    "import math\n",
    "\n",
    "def resolver_ecuacion_segundo_grado(a, b, c):\n",
    "  if a == 0:\n",
    "    raise ValueError(\"El coeficiente a no puede ser 0.\")\n",
    "\n",
    "  discriminante = b**2 - 4*a*c\n",
    "\n",
    "  numero_soluciones = 1 if discriminante == 0 else 2 if discriminante > 0 else 0\n",
    "\n",
    "  # Soluciones\n",
    "  soluciones = []\n",
    "  if numero_soluciones > 0:\n",
    "    raiz_discriminante = math.sqrt(discriminante)\n",
    "    x1 = (-b + raiz_discriminante) / (2*a)\n",
    "    x2 = (-b - raiz_discriminante) / (2*a)\n",
    "    soluciones.append(x1)\n",
    "    if numero_soluciones == 2:\n",
    "      soluciones.append(x2)\n",
    "\n",
    "  return {'numero_soluciones': numero_soluciones,\n",
    "    'soluciones': soluciones,}\n",
    "\n",
    "a = float(input(\"Introduce el coeficiente a: \"))\n",
    "b = float(input(\"Introduce el coeficiente b: \"))\n",
    "c = float(input(\"Introduce el coeficiente c: \"))\n",
    "\n",
    "resultado = resolver_ecuacion_segundo_grado(a, b, c)\n",
    "\n",
    "print(f\"Número de soluciones: {resultado['numero_soluciones']}\")\n",
    "if resultado['numero_soluciones'] > 0:\n",
    "  print(\"Soluciones:\")\n",
    "  for solucion in resultado['soluciones']:\n",
    "    print(f\"\\t- {solucion}\")\n"
   ]
  }
 ],
 "metadata": {
  "kernelspec": {
   "display_name": "Python 3",
   "language": "python",
   "name": "python3"
  },
  "language_info": {
   "codemirror_mode": {
    "name": "ipython",
    "version": 3
   },
   "file_extension": ".py",
   "mimetype": "text/x-python",
   "name": "python",
   "nbconvert_exporter": "python",
   "pygments_lexer": "ipython3",
   "version": "3.12.2"
  }
 },
 "nbformat": 4,
 "nbformat_minor": 2
}
