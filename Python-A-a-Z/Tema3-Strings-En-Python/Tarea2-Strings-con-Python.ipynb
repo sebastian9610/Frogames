{
 "cells": [
  {
   "cell_type": "markdown",
   "metadata": {},
   "source": [
    "# Tarea 2 - Strings con Python"
   ]
  },
  {
   "cell_type": "markdown",
   "metadata": {},
   "source": [
    "### Ejercicio 1\n",
    "Utiliza las funciones de concatenar, + y repetir strings, *, junto con la función print() para dados los siguientes strings s1, s2, s3 y s4, conseguir el resultado siguiente: Había una vez, un barquito chiquitito\n",
    "Había una vez, un barquito chiquitito que no podía, que no podía, que no podía navegar.\n",
    "* s1 = \"Había una vez, \"\n",
    "* s2 = \"un barquito chiquitito \"\n",
    "* s3 = \"que no podía, \"\n",
    "* s4 = \"que no podía navegar.\""
   ]
  },
  {
   "cell_type": "code",
   "execution_count": 2,
   "metadata": {},
   "outputs": [
    {
     "name": "stdout",
     "output_type": "stream",
     "text": [
      "Había una vez, un barquito chiquitito Había una vez, un barquito chiquitito que no podía, que no podía, que no podía navegar.\n"
     ]
    }
   ],
   "source": [
    "s1 = \"Había una vez, \"\n",
    "s2 = \"un barquito chiquitito \"\n",
    "s3 = \"que no podía, \"\n",
    "s4 = \"que no podía navegar.\"\n",
    "\n",
    "s5 = ((s1 + s2) * 2) + (s3 * 2) + s4\n",
    "print(s5)"
   ]
  },
  {
   "cell_type": "markdown",
   "metadata": {},
   "source": [
    "### Ejercicio 2\n",
    "Utiliza la función print() y el comando de salto de línea, \\n, para reproducir exactamente el siguiente texto:\n",
    "* Érase un hombre a una nariz pegado,\n",
    "* Érase una nariz superlativa,\n",
    "* Érase una alquitara medio viva,\n",
    "* Érase un peje espada mal barbado;"
   ]
  },
  {
   "cell_type": "code",
   "execution_count": 3,
   "metadata": {},
   "outputs": [
    {
     "name": "stdout",
     "output_type": "stream",
     "text": [
      "Érase un hombre a una nariz pegado,\n",
      "Érase una nariz superlativa,\n",
      "Érase una alquitara medio viva,\n",
      "Érase un peje espada mal barbado;\n"
     ]
    }
   ],
   "source": [
    "a = 'Érase un hombre a una nariz pegado,'\n",
    "b = 'Érase una nariz superlativa,'\n",
    "c = 'Érase una alquitara medio viva,'\n",
    "d = 'Érase un peje espada mal barbado;'\n",
    "\n",
    "print(f'{a}\\n{b}\\n{c}\\n{d}')"
   ]
  },
  {
   "cell_type": "markdown",
   "metadata": {},
   "source": [
    "### Ejercicio 3\n",
    "Transforma el siguiente string s a mayúsculas y muéstralo por pantalla con la función print():\n",
    "* s = \"me encantan las matemáticas\""
   ]
  },
  {
   "cell_type": "code",
   "execution_count": 4,
   "metadata": {},
   "outputs": [
    {
     "name": "stdout",
     "output_type": "stream",
     "text": [
      "ME ENCANTAN LAS MATEMÁTICAS\n"
     ]
    }
   ],
   "source": [
    "s = \"me encantan las matemáticas\"\n",
    "S = s.upper()\n",
    "print(S)"
   ]
  },
  {
   "cell_type": "markdown",
   "metadata": {},
   "source": [
    "### Ejercicio 4\n",
    "Calcula la longitud del string s:\n",
    "* s = \"Mi pasión por el chocolate es superior a mis fuerzas\""
   ]
  },
  {
   "cell_type": "code",
   "execution_count": 5,
   "metadata": {},
   "outputs": [
    {
     "data": {
      "text/plain": [
       "52"
      ]
     },
     "execution_count": 5,
     "metadata": {},
     "output_type": "execute_result"
    }
   ],
   "source": [
    "s = \"Mi pasión por el chocolate es superior a mis fuerzas\"\n",
    "len(s)"
   ]
  },
  {
   "cell_type": "markdown",
   "metadata": {},
   "source": [
    "### Ejercicio 5\n",
    "Del string s del ejercicio anterior, obtén el substring chocolate y guárdalo en una variable llamada s_sub.\n",
    "No vale contar, deberás hallar los índices del substring con el método .find() (o el que mejor consideres) y\n",
    "la función len().\n",
    "Finalmente, imprime tu resultado por pantalla"
   ]
  },
  {
   "cell_type": "code",
   "execution_count": 6,
   "metadata": {},
   "outputs": [
    {
     "name": "stdout",
     "output_type": "stream",
     "text": [
      "chocolate\n"
     ]
    }
   ],
   "source": [
    "s_sub = s.find('chocolate')\n",
    "print(s[s_sub:s_sub + len('chocolate')])"
   ]
  },
  {
   "cell_type": "markdown",
   "metadata": {},
   "source": [
    "### Ejercicio 6\n",
    "Con la función input(), indícale al usuario que introduzca su nombre y guárdalo en la variable llamada\n",
    "nombre"
   ]
  },
  {
   "cell_type": "code",
   "execution_count": 7,
   "metadata": {},
   "outputs": [],
   "source": [
    "nombre = input('Por favor ingrese su nombre')"
   ]
  },
  {
   "cell_type": "markdown",
   "metadata": {},
   "source": [
    "### Ejercicio 7\n",
    "Con la función input(), indícale al usuario que introduzca su apellido y guárdalo en la variable llamada\n",
    "apellido"
   ]
  },
  {
   "cell_type": "code",
   "execution_count": 8,
   "metadata": {},
   "outputs": [],
   "source": [
    "apellido = input('Por favor ingrese su apellido')"
   ]
  },
  {
   "cell_type": "markdown",
   "metadata": {},
   "source": [
    "### Ejercicio 8\n",
    "Con la función input(), indícale al usuario que introduzca su edad y guárdala en la variable llamada edad.\n",
    "¡Ojo con el tipo de dato"
   ]
  },
  {
   "cell_type": "code",
   "execution_count": 10,
   "metadata": {},
   "outputs": [],
   "source": [
    "edad = int(input('Por favor ingrese su edad'))"
   ]
  },
  {
   "cell_type": "markdown",
   "metadata": {},
   "source": [
    "### Ejercicio 9\n",
    "Con la función input(), indícale al usuario que introduzca la ciudad en la que vive y guárdala en la variable\n",
    "llamada ciudad"
   ]
  },
  {
   "cell_type": "code",
   "execution_count": 11,
   "metadata": {},
   "outputs": [],
   "source": [
    "ciudad = input('Por favor ingrese su ciudad')"
   ]
  },
  {
   "cell_type": "markdown",
   "metadata": {},
   "source": [
    "### Ejercicio 10\n",
    "Con lo hecho en los ejercicios 6, 7, 8 y 9, imprime por pantalla todos los datos introducidos por el usuario\n",
    "tal y como se muestra en el siguiente ejemplo, donde el usuario ha indicado que su nombre es María; su\n",
    "apellido, Santos; su edad, 21; y su ciudad, Palma de Mallorca.\n",
    "Su nombre es María Santos, tiene 21 años y actualmente vive en Palma de Mallorca."
   ]
  },
  {
   "cell_type": "code",
   "execution_count": 12,
   "metadata": {},
   "outputs": [
    {
     "name": "stdout",
     "output_type": "stream",
     "text": [
      "Su nombre es Sebastian Muñoz, tiene 27 años y actualmente vive en Pasto.\n"
     ]
    }
   ],
   "source": [
    "print(f'Su nombre es {nombre} {apellido}, tiene {edad} años y actualmente vive en {ciudad}.')"
   ]
  }
 ],
 "metadata": {
  "kernelspec": {
   "display_name": "Python 3",
   "language": "python",
   "name": "python3"
  },
  "language_info": {
   "codemirror_mode": {
    "name": "ipython",
    "version": 3
   },
   "file_extension": ".py",
   "mimetype": "text/x-python",
   "name": "python",
   "nbconvert_exporter": "python",
   "pygments_lexer": "ipython3",
   "version": "3.12.2"
  }
 },
 "nbformat": 4,
 "nbformat_minor": 2
}
