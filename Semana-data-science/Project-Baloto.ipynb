{
 "cells": [
  {
   "cell_type": "markdown",
   "metadata": {},
   "source": [
    "# Baloto"
   ]
  },
  {
   "cell_type": "markdown",
   "metadata": {},
   "source": [
    "Diseñar un método basado en machine learning para tratar de predecir los resultados del Baloto es un ejercicio interesante desde un punto de vista académico y práctico. Aunque las probabilidades de ganar el premio mayor son extremadamente bajas, podemos explorar diferentes enfoques y ver qué tan bien funcionan.\n",
    "\n",
    "Aquí hay un posible enfoque que podríamos seguir:\n",
    "\n",
    "1. Recopilar datos históricos: Obtendremos los resultados de los sorteos anteriores del Baloto, incluyendo los números ganadores principales y la balota adicional. Cuantos más datos tengamos, mejor podremos entrenar nuestro modelo.\n",
    "\n",
    "2. Preprocesamiento de datos: Los datos históricos podrían requerir algún preprocesamiento, como el manejo de valores faltantes o la normalización de los valores numéricos.\n",
    "\n",
    "3. Selección de características: Aquí es donde podemos aplicar nuestra creatividad. Podríamos considerar características como la frecuencia de aparición de cada número, la suma de los números ganadores, la diferencia entre los números consecutivos, las combinaciones de números \"fríos\" y \"calientes\", entre otras.\n",
    "\n",
    "4. Dividir los datos: Dividiremos nuestros datos en conjuntos de entrenamiento y prueba. El conjunto de entrenamiento se utilizará para entrenar el modelo, mientras que el conjunto de prueba se utilizará para evaluar su rendimiento.\n",
    "\n",
    "5. Selección del modelo: Exploraremos diferentes algoritmos de machine learning, como redes neuronales, árboles de decisión, bosques aleatorios, etc. Cada algoritmo tiene sus propias fortalezas y debilidades, por lo que es recomendable probar varios.\n",
    "\n",
    "6. Entrenamiento del modelo: Entrenaremos nuestro modelo utilizando el conjunto de datos de entrenamiento y las características seleccionadas.\n",
    "\n",
    "7. Evaluación del modelo: Utilizaremos el conjunto de datos de prueba para evaluar el rendimiento de nuestro modelo. Podemos calcular métricas como la precisión, el recall y la puntuación F1 para medir qué tan bien está funcionando.\n",
    "\n",
    "8. Ajuste de hiperparámetros: Si el rendimiento del modelo no es satisfactorio, podemos ajustar los hiperparámetros del algoritmo o probar diferentes combinaciones de características para mejorar los resultados.\n",
    "\n",
    "9. Predicción: Una vez que tengamos un modelo entrenado y evaluado, podemos utilizarlo para hacer predicciones sobre los próximos sorteos del Baloto.\n",
    "\n",
    "Es importante tener en cuenta que, aunque el machine learning puede encontrar patrones interesantes en los datos históricos, no hay garantía de que estos patrones se mantengan en el futuro debido a la naturaleza aleatoria del juego. Sin embargo, este ejercicio puede ser valioso para comprender mejor los conceptos de machine learning y explorar sus capacidades y limitaciones."
   ]
  },
  {
   "cell_type": "markdown",
   "metadata": {},
   "source": [
    "## **1. Recopilar datos históricos**"
   ]
  },
  {
   "cell_type": "code",
   "execution_count": 1,
   "metadata": {},
   "outputs": [],
   "source": [
    "import requests\n",
    "from bs4 import BeautifulSoup\n",
    "import pandas as pd\n",
    "import sqlite3\n",
    "import pyarrow"
   ]
  },
  {
   "cell_type": "code",
   "execution_count": 2,
   "metadata": {},
   "outputs": [],
   "source": [
    "connection = sqlite3.connect('my_database.db')\n",
    "cursor = connection.cursor()"
   ]
  },
  {
   "cell_type": "code",
   "execution_count": 3,
   "metadata": {},
   "outputs": [],
   "source": [
    "#Pendiente de optimizar\n",
    "# Función que corrije el mes de la fecha\n",
    "def correccion_fecha(fecha_sorteo):\n",
    "    if fecha_sorteo.split('de')[1] == ' Enero ':\n",
    "        fecha_sorteo = fecha_sorteo.split('de')[0] + 'January' + fecha_sorteo.split('de')[2]\n",
    "    elif fecha_sorteo.split('de')[1] == ' Febrero ':\n",
    "        fecha_sorteo = fecha_sorteo.split('de')[0] + 'February' + fecha_sorteo.split('de')[2]\n",
    "    elif fecha_sorteo.split('de')[1] == ' Marzo ':\n",
    "        fecha_sorteo = fecha_sorteo.split('de')[0] + 'March' + fecha_sorteo.split('de')[2]\n",
    "    elif fecha_sorteo.split('de')[1] == ' Abril ':\n",
    "        fecha_sorteo = fecha_sorteo.split('de')[0] + 'April' + fecha_sorteo.split('de')[2]\n",
    "    elif fecha_sorteo.split('de')[1] == ' Mayo ':\n",
    "        fecha_sorteo = fecha_sorteo.split('de')[0] + 'May' + fecha_sorteo.split('de')[2]\n",
    "    elif fecha_sorteo.split('de')[1] == ' Junio ':\n",
    "        fecha_sorteo = fecha_sorteo.split('de')[0] + 'June' + fecha_sorteo.split('de')[2]\n",
    "    elif fecha_sorteo.split('de')[1] == ' Julio ':\n",
    "        fecha_sorteo = fecha_sorteo.split('de')[0] + 'July' + fecha_sorteo.split('de')[2]\n",
    "    elif fecha_sorteo.split('de')[1] == ' Agosto ':\n",
    "        fecha_sorteo = fecha_sorteo.split('de')[0] + 'August' + fecha_sorteo.split('de')[2]\n",
    "    elif fecha_sorteo.split('de')[1] == ' Septiembre ':\n",
    "        fecha_sorteo = fecha_sorteo.split('de')[0] + 'September' + fecha_sorteo.split('de')[2]\n",
    "    elif fecha_sorteo.split('de')[1] == ' Octubre ':\n",
    "        fecha_sorteo = fecha_sorteo.split('de')[0] + 'October' + fecha_sorteo.split('de')[2]\n",
    "    elif fecha_sorteo.split('de')[1] == ' Noviembre ':\n",
    "        fecha_sorteo = fecha_sorteo.split('de')[0] + 'November' + fecha_sorteo.split('de')[2]\n",
    "    else:\n",
    "        fecha_sorteo = fecha_sorteo.split('de')[0] + 'December' + fecha_sorteo.split('de')[2]\n",
    "    \n",
    "    return fecha_sorteo"
   ]
  },
  {
   "cell_type": "code",
   "execution_count": 4,
   "metadata": {},
   "outputs": [],
   "source": [
    "# El primer sorteo con este formato fue el 2081\n",
    "def historico_revancha(numero_sorteo):\n",
    "    # URL de la página que deseas escrapear\n",
    "    url = f\"https://baloto.com/resultados-revancha/{numero_sorteo}\"\n",
    "\n",
    "    # Realiza una solicitud GET a la página\n",
    "    response = requests.get(url)\n",
    "\n",
    "    # Comprueba que la solicitud fue exitosa\n",
    "    if response.status_code == 200:\n",
    "        # Parsea el contenido HTML de la página\n",
    "        soup = BeautifulSoup(response.content, 'html.parser')\n",
    "        \n",
    "        # Extrae la fecha del sorteo\n",
    "        #fecha_sorteo = soup.find('div', string='Sábado').find_next_sibling('div').string.strip() #gotham-medium dark-blue\n",
    "        fecha_sorteo = soup.find('div', class_='gotham-medium dark-blue').string.strip()\n",
    "        fecha_sorteo = correccion_fecha(fecha_sorteo)\n",
    "\n",
    "        # Extrae los números ganadores\n",
    "        numeros_ganadores = soup.find('div', class_='container-balls-results').text.strip() #container-balls-results\n",
    "        balota1 = int(soup.find('div', class_='yellow-ball').text.strip())\n",
    "        balota2 = int(numeros_ganadores.split('\\n')[7].strip())\n",
    "        balota3 = int(numeros_ganadores.split('\\n')[14].strip())\n",
    "        balota4 = int(numeros_ganadores.split('\\n')[21].strip())\n",
    "        balota5 = int(numeros_ganadores.split('\\n')[28].strip())\n",
    "        balota6 = int(soup.find('div', class_='red-ball').text.strip())\n",
    "\n",
    "    else:\n",
    "        print(f\"Error al acceder a la página: {response.status_code}\")\n",
    "    return balota1, balota2, balota3, balota4, balota5, balota6, fecha_sorteo"
   ]
  },
  {
   "cell_type": "code",
   "execution_count": 5,
   "metadata": {},
   "outputs": [],
   "source": [
    "# El primer sorteo con este formato fue el 2081\n",
    "def historico_baloto(numero_sorteo):\n",
    "    # URL de la página que deseas escrapear\n",
    "    url = f\"https://baloto.com/resultados-baloto/{numero_sorteo}\"\n",
    "\n",
    "    # Realiza una solicitud GET a la página\n",
    "    response = requests.get(url)\n",
    "\n",
    "    # Comprueba que la solicitud fue exitosa\n",
    "    if response.status_code == 200:\n",
    "        # Parsea el contenido HTML de la página\n",
    "        soup = BeautifulSoup(response.content, 'html.parser')\n",
    "        \n",
    "        # Extrae la fecha del sorteo\n",
    "        #fecha_sorteo = soup.find('div', string='Sábado').find_next_sibling('div').string.strip() #gotham-medium dark-blue\n",
    "        fecha_sorteo = soup.find('div', class_='gotham-medium dark-blue').string.strip()\n",
    "        fecha_sorteo = correccion_fecha(fecha_sorteo)\n",
    "\n",
    "        # Extrae los números ganadores\n",
    "        numeros_ganadores = soup.find('div', class_='container-balls-results').text.strip() #container-balls-results\n",
    "        balota1 = int(soup.find('div', class_='yellow-ball').text.strip())\n",
    "        balota2 = int(numeros_ganadores.split('\\n')[7].strip())\n",
    "        balota3 = int(numeros_ganadores.split('\\n')[14].strip())\n",
    "        balota4 = int(numeros_ganadores.split('\\n')[21].strip())\n",
    "        balota5 = int(numeros_ganadores.split('\\n')[28].strip())\n",
    "        balota6 = int(soup.find('div', class_='red-ball').text.strip())\n",
    "\n",
    "    else:\n",
    "        print(f\"Error al acceder a la página: {response.status_code}\")\n",
    "    return balota1, balota2, balota3, balota4, balota5, balota6, fecha_sorteo"
   ]
  },
  {
   "cell_type": "code",
   "execution_count": 6,
   "metadata": {},
   "outputs": [],
   "source": [
    "for i in range(2081, 2406):\n",
    "    df_resultados_baloto_revancha = pd.DataFrame({historico_revancha(i)})\n",
    "    df_resultados_baloto_revancha.rename(columns={0:'B1', 1:'B2', 2:'B3', 3:'B4', 4:'B5', 5:'SB', 6:'fecha_sorteo'}, inplace=True)\n",
    "    df_resultados_baloto_revancha['fecha_sorteo'] = pd.to_datetime(df_resultados_baloto_revancha['fecha_sorteo'], format=\"%d %B %Y\", dayfirst=True)\n",
    "    df_resultados_baloto_revancha['tipo_sorteo'] = 'revancha'\n",
    "    df_resultados_baloto_revancha['numero_sorteo'] = i\n",
    "    df_resultados_baloto_revancha.to_sql('historico_baloto_revancha', connection, if_exists='append', index=False)\n",
    "    del df_resultados_baloto_revancha\n",
    "\n",
    "    df_resultados_baloto_revancha = pd.DataFrame({historico_baloto(i)})\n",
    "    df_resultados_baloto_revancha.rename(columns={0:'B1', 1:'B2', 2:'B3', 3:'B4', 4:'B5', 5:'SB', 6:'fecha_sorteo'}, inplace=True)\n",
    "    df_resultados_baloto_revancha['fecha_sorteo'] = pd.to_datetime(df_resultados_baloto_revancha['fecha_sorteo'], format=\"%d %B %Y\", dayfirst=True)\n",
    "    df_resultados_baloto_revancha['tipo_sorteo'] = 'baloto'\n",
    "    df_resultados_baloto_revancha['numero_sorteo'] = i\n",
    "    df_resultados_baloto_revancha.to_sql('historico_baloto_revancha', connection, if_exists='append', index=False)\n",
    "    del df_resultados_baloto_revancha"
   ]
  },
  {
   "cell_type": "code",
   "execution_count": 7,
   "metadata": {},
   "outputs": [],
   "source": [
    "#connection.execute('drop table if exists historico_baloto_revancha')"
   ]
  },
  {
   "cell_type": "code",
   "execution_count": 8,
   "metadata": {},
   "outputs": [
    {
     "data": {
      "text/html": [
       "<div>\n",
       "<style scoped>\n",
       "    .dataframe tbody tr th:only-of-type {\n",
       "        vertical-align: middle;\n",
       "    }\n",
       "\n",
       "    .dataframe tbody tr th {\n",
       "        vertical-align: top;\n",
       "    }\n",
       "\n",
       "    .dataframe thead th {\n",
       "        text-align: right;\n",
       "    }\n",
       "</style>\n",
       "<table border=\"1\" class=\"dataframe\">\n",
       "  <thead>\n",
       "    <tr style=\"text-align: right;\">\n",
       "      <th></th>\n",
       "      <th>B1</th>\n",
       "      <th>B2</th>\n",
       "      <th>B3</th>\n",
       "      <th>B4</th>\n",
       "      <th>B5</th>\n",
       "      <th>SB</th>\n",
       "      <th>fecha_sorteo</th>\n",
       "      <th>tipo_sorteo</th>\n",
       "      <th>numero_sorteo</th>\n",
       "    </tr>\n",
       "  </thead>\n",
       "  <tbody>\n",
       "    <tr>\n",
       "      <th>0</th>\n",
       "      <td>1</td>\n",
       "      <td>16</td>\n",
       "      <td>34</td>\n",
       "      <td>41</td>\n",
       "      <td>43</td>\n",
       "      <td>2</td>\n",
       "      <td>2021-05-01 00:00:00</td>\n",
       "      <td>revancha</td>\n",
       "      <td>2081</td>\n",
       "    </tr>\n",
       "    <tr>\n",
       "      <th>1</th>\n",
       "      <td>22</td>\n",
       "      <td>23</td>\n",
       "      <td>27</td>\n",
       "      <td>28</td>\n",
       "      <td>30</td>\n",
       "      <td>3</td>\n",
       "      <td>2021-05-01 00:00:00</td>\n",
       "      <td>baloto</td>\n",
       "      <td>2081</td>\n",
       "    </tr>\n",
       "    <tr>\n",
       "      <th>2</th>\n",
       "      <td>3</td>\n",
       "      <td>15</td>\n",
       "      <td>17</td>\n",
       "      <td>29</td>\n",
       "      <td>32</td>\n",
       "      <td>16</td>\n",
       "      <td>2021-05-05 00:00:00</td>\n",
       "      <td>revancha</td>\n",
       "      <td>2082</td>\n",
       "    </tr>\n",
       "    <tr>\n",
       "      <th>3</th>\n",
       "      <td>2</td>\n",
       "      <td>5</td>\n",
       "      <td>10</td>\n",
       "      <td>23</td>\n",
       "      <td>34</td>\n",
       "      <td>7</td>\n",
       "      <td>2021-05-05 00:00:00</td>\n",
       "      <td>baloto</td>\n",
       "      <td>2082</td>\n",
       "    </tr>\n",
       "    <tr>\n",
       "      <th>4</th>\n",
       "      <td>5</td>\n",
       "      <td>10</td>\n",
       "      <td>24</td>\n",
       "      <td>29</td>\n",
       "      <td>41</td>\n",
       "      <td>11</td>\n",
       "      <td>2021-05-08 00:00:00</td>\n",
       "      <td>revancha</td>\n",
       "      <td>2083</td>\n",
       "    </tr>\n",
       "    <tr>\n",
       "      <th>...</th>\n",
       "      <td>...</td>\n",
       "      <td>...</td>\n",
       "      <td>...</td>\n",
       "      <td>...</td>\n",
       "      <td>...</td>\n",
       "      <td>...</td>\n",
       "      <td>...</td>\n",
       "      <td>...</td>\n",
       "      <td>...</td>\n",
       "    </tr>\n",
       "    <tr>\n",
       "      <th>645</th>\n",
       "      <td>16</td>\n",
       "      <td>22</td>\n",
       "      <td>26</td>\n",
       "      <td>27</td>\n",
       "      <td>37</td>\n",
       "      <td>9</td>\n",
       "      <td>2024-06-01 00:00:00</td>\n",
       "      <td>baloto</td>\n",
       "      <td>2403</td>\n",
       "    </tr>\n",
       "    <tr>\n",
       "      <th>646</th>\n",
       "      <td>8</td>\n",
       "      <td>18</td>\n",
       "      <td>20</td>\n",
       "      <td>28</td>\n",
       "      <td>41</td>\n",
       "      <td>4</td>\n",
       "      <td>2024-06-05 00:00:00</td>\n",
       "      <td>revancha</td>\n",
       "      <td>2404</td>\n",
       "    </tr>\n",
       "    <tr>\n",
       "      <th>647</th>\n",
       "      <td>3</td>\n",
       "      <td>19</td>\n",
       "      <td>24</td>\n",
       "      <td>38</td>\n",
       "      <td>39</td>\n",
       "      <td>5</td>\n",
       "      <td>2024-06-05 00:00:00</td>\n",
       "      <td>baloto</td>\n",
       "      <td>2404</td>\n",
       "    </tr>\n",
       "    <tr>\n",
       "      <th>648</th>\n",
       "      <td>7</td>\n",
       "      <td>25</td>\n",
       "      <td>28</td>\n",
       "      <td>39</td>\n",
       "      <td>41</td>\n",
       "      <td>7</td>\n",
       "      <td>2024-06-08 00:00:00</td>\n",
       "      <td>revancha</td>\n",
       "      <td>2405</td>\n",
       "    </tr>\n",
       "    <tr>\n",
       "      <th>649</th>\n",
       "      <td>5</td>\n",
       "      <td>16</td>\n",
       "      <td>17</td>\n",
       "      <td>29</td>\n",
       "      <td>38</td>\n",
       "      <td>7</td>\n",
       "      <td>2024-06-08 00:00:00</td>\n",
       "      <td>baloto</td>\n",
       "      <td>2405</td>\n",
       "    </tr>\n",
       "  </tbody>\n",
       "</table>\n",
       "<p>650 rows × 9 columns</p>\n",
       "</div>"
      ],
      "text/plain": [
       "     B1  B2  B3  B4  B5  SB         fecha_sorteo tipo_sorteo  numero_sorteo\n",
       "0     1  16  34  41  43   2  2021-05-01 00:00:00    revancha           2081\n",
       "1    22  23  27  28  30   3  2021-05-01 00:00:00      baloto           2081\n",
       "2     3  15  17  29  32  16  2021-05-05 00:00:00    revancha           2082\n",
       "3     2   5  10  23  34   7  2021-05-05 00:00:00      baloto           2082\n",
       "4     5  10  24  29  41  11  2021-05-08 00:00:00    revancha           2083\n",
       "..   ..  ..  ..  ..  ..  ..                  ...         ...            ...\n",
       "645  16  22  26  27  37   9  2024-06-01 00:00:00      baloto           2403\n",
       "646   8  18  20  28  41   4  2024-06-05 00:00:00    revancha           2404\n",
       "647   3  19  24  38  39   5  2024-06-05 00:00:00      baloto           2404\n",
       "648   7  25  28  39  41   7  2024-06-08 00:00:00    revancha           2405\n",
       "649   5  16  17  29  38   7  2024-06-08 00:00:00      baloto           2405\n",
       "\n",
       "[650 rows x 9 columns]"
      ]
     },
     "execution_count": 8,
     "metadata": {},
     "output_type": "execute_result"
    }
   ],
   "source": [
    "data = pd.read_sql('SELECT * FROM historico_baloto_revancha', connection)\n",
    "data"
   ]
  },
  {
   "cell_type": "code",
   "execution_count": 9,
   "metadata": {},
   "outputs": [],
   "source": [
    "data[data['tipo_sorteo'] == 'revancha'].to_parquet('historico_revancha.gzip', index=False, compression='gzip')\n",
    "data[data['tipo_sorteo'] == 'revancha'].to_csv('historico_revancha.csv', index=False)"
   ]
  },
  {
   "cell_type": "code",
   "execution_count": 10,
   "metadata": {},
   "outputs": [],
   "source": [
    "data[data['tipo_sorteo'] != 'revancha'].to_parquet('historico_baloto.gzip', index=False, compression='gzip')\n",
    "data[data['tipo_sorteo'] != 'revancha'].to_csv('historico_baloto.csv', index=False)"
   ]
  },
  {
   "cell_type": "code",
   "execution_count": 11,
   "metadata": {},
   "outputs": [],
   "source": [
    "data.to_parquet('historico_baloto_revancha.gzip', index=False, compression='gzip')\n",
    "data.to_csv('historico_baloto_revancha.csv', index=False)"
   ]
  },
  {
   "cell_type": "markdown",
   "metadata": {},
   "source": [
    "## EDA"
   ]
  },
  {
   "cell_type": "markdown",
   "metadata": {},
   "source": [
    "Entendido, con los datos históricos de los resultados del Baloto, podemos explorar diferentes características para entrenar nuestro modelo de machine learning. Aquí hay algunas ideas de características que podríamos considerar:\n",
    "\n",
    "1. **Frecuencia de aparición de cada número**:\n",
    "   - Podemos contar la cantidad de veces que cada número del 1 al 43 (balotas principales) y del 1 al 16 (balota adicional) ha salido en los sorteos históricos.\n",
    "   - Esta característica podría ayudarnos a identificar patrones de números \"calientes\" (que salen con frecuencia) y \"fríos\" (que no han salido en mucho tiempo).\n",
    "\n",
    "2. **Suma de los números ganadores**:\n",
    "   - Calcular la suma de los 5 números principales y la balota adicional para cada sorteo.\n",
    "   - Esta característica podría revelar patrones relacionados con la magnitud de los números ganadores.\n",
    "\n",
    "3. **Diferencia entre números consecutivos**:\n",
    "   - Calcular la diferencia entre cada par de números principales consecutivos (por ejemplo, B2 - B1, B3 - B2, B4 - B3, B5 - B4).\n",
    "   - Esta característica podría ayudarnos a identificar patrones en la distribución de los números ganadores.\n",
    "\n",
    "4. **Combinaciones de números \"fríos\" y \"calientes\"**:\n",
    "   - Definir umbrales para determinar si un número es \"frío\" o \"caliente\" basado en su frecuencia de aparición.\n",
    "   - Contar la cantidad de números \"fríos\" y \"calientes\" en cada sorteo.\n",
    "   - Esta característica podría revelar patrones relacionados con la combinación de números que han salido recientemente y los que no han salido en mucho tiempo.\n",
    "\n",
    "5. **Diferencia con el sorteo anterior**:\n",
    "   - Calcular la diferencia entre los números ganadores de un sorteo y los del sorteo anterior.\n",
    "   - Esta característica podría ayudarnos a identificar patrones de continuidad o cambio en los números ganadores.\n",
    "\n",
    "6. **Números repetidos**:\n",
    "   - Contar la cantidad de números que se repiten en cada sorteo (tanto en los números principales como en la balota adicional).\n",
    "   - Esta característica podría revelar patrones relacionados con la repetición de números en los sorteos.\n",
    "\n",
    "7. **Características temporales**:\n",
    "   - Incluir información sobre el día de la semana, el mes o la época del año en la que se realiza el sorteo.\n",
    "   - Estas características podrían ayudarnos a identificar patrones estacionales o relacionados con días específicos.\n",
    "\n",
    "Estas son solo algunas ideas de características que podríamos explorar. Además, podrías combinar estas características de diferentes maneras o crear nuevas características más complejas. La selección y combinación adecuada de características será crucial para que el modelo de machine learning pueda encontrar patrones útiles en los datos."
   ]
  },
  {
   "cell_type": "code",
   "execution_count": 1,
   "metadata": {},
   "outputs": [],
   "source": [
    "import pandas as pd\n",
    "import numpy as np\n",
    "import duckdb as db\n",
    "import pyarrow\n",
    "import matplotlib.pyplot as plt\n",
    "import seaborn as sns\n",
    "import plotly.express as px\n",
    "from plotly.subplots import make_subplots\n",
    "from collections import defaultdict"
   ]
  },
  {
   "cell_type": "code",
   "execution_count": 26,
   "metadata": {},
   "outputs": [],
   "source": [
    "pd.set_option('display.max_columns', None)"
   ]
  },
  {
   "cell_type": "code",
   "execution_count": 3,
   "metadata": {},
   "outputs": [
    {
     "data": {
      "text/html": [
       "<div>\n",
       "<style scoped>\n",
       "    .dataframe tbody tr th:only-of-type {\n",
       "        vertical-align: middle;\n",
       "    }\n",
       "\n",
       "    .dataframe tbody tr th {\n",
       "        vertical-align: top;\n",
       "    }\n",
       "\n",
       "    .dataframe thead th {\n",
       "        text-align: right;\n",
       "    }\n",
       "</style>\n",
       "<table border=\"1\" class=\"dataframe\">\n",
       "  <thead>\n",
       "    <tr style=\"text-align: right;\">\n",
       "      <th></th>\n",
       "      <th>B1</th>\n",
       "      <th>B2</th>\n",
       "      <th>B3</th>\n",
       "      <th>B4</th>\n",
       "      <th>B5</th>\n",
       "      <th>SB</th>\n",
       "      <th>fecha_sorteo</th>\n",
       "      <th>tipo_sorteo</th>\n",
       "      <th>numero_sorteo</th>\n",
       "      <th>dia_semana</th>\n",
       "      <th>mes</th>\n",
       "      <th>trimestre</th>\n",
       "    </tr>\n",
       "  </thead>\n",
       "  <tbody>\n",
       "    <tr>\n",
       "      <th>0</th>\n",
       "      <td>1</td>\n",
       "      <td>16</td>\n",
       "      <td>34</td>\n",
       "      <td>41</td>\n",
       "      <td>43</td>\n",
       "      <td>2</td>\n",
       "      <td>2021-05-01</td>\n",
       "      <td>revancha</td>\n",
       "      <td>2081</td>\n",
       "      <td>Saturday</td>\n",
       "      <td>5</td>\n",
       "      <td>2</td>\n",
       "    </tr>\n",
       "    <tr>\n",
       "      <th>1</th>\n",
       "      <td>22</td>\n",
       "      <td>23</td>\n",
       "      <td>27</td>\n",
       "      <td>28</td>\n",
       "      <td>30</td>\n",
       "      <td>3</td>\n",
       "      <td>2021-05-01</td>\n",
       "      <td>baloto</td>\n",
       "      <td>2081</td>\n",
       "      <td>Saturday</td>\n",
       "      <td>5</td>\n",
       "      <td>2</td>\n",
       "    </tr>\n",
       "    <tr>\n",
       "      <th>2</th>\n",
       "      <td>3</td>\n",
       "      <td>15</td>\n",
       "      <td>17</td>\n",
       "      <td>29</td>\n",
       "      <td>32</td>\n",
       "      <td>16</td>\n",
       "      <td>2021-05-05</td>\n",
       "      <td>revancha</td>\n",
       "      <td>2082</td>\n",
       "      <td>Wednesday</td>\n",
       "      <td>5</td>\n",
       "      <td>2</td>\n",
       "    </tr>\n",
       "    <tr>\n",
       "      <th>3</th>\n",
       "      <td>2</td>\n",
       "      <td>5</td>\n",
       "      <td>10</td>\n",
       "      <td>23</td>\n",
       "      <td>34</td>\n",
       "      <td>7</td>\n",
       "      <td>2021-05-05</td>\n",
       "      <td>baloto</td>\n",
       "      <td>2082</td>\n",
       "      <td>Wednesday</td>\n",
       "      <td>5</td>\n",
       "      <td>2</td>\n",
       "    </tr>\n",
       "    <tr>\n",
       "      <th>4</th>\n",
       "      <td>5</td>\n",
       "      <td>10</td>\n",
       "      <td>24</td>\n",
       "      <td>29</td>\n",
       "      <td>41</td>\n",
       "      <td>11</td>\n",
       "      <td>2021-05-08</td>\n",
       "      <td>revancha</td>\n",
       "      <td>2083</td>\n",
       "      <td>Saturday</td>\n",
       "      <td>5</td>\n",
       "      <td>2</td>\n",
       "    </tr>\n",
       "    <tr>\n",
       "      <th>...</th>\n",
       "      <td>...</td>\n",
       "      <td>...</td>\n",
       "      <td>...</td>\n",
       "      <td>...</td>\n",
       "      <td>...</td>\n",
       "      <td>...</td>\n",
       "      <td>...</td>\n",
       "      <td>...</td>\n",
       "      <td>...</td>\n",
       "      <td>...</td>\n",
       "      <td>...</td>\n",
       "      <td>...</td>\n",
       "    </tr>\n",
       "    <tr>\n",
       "      <th>645</th>\n",
       "      <td>16</td>\n",
       "      <td>22</td>\n",
       "      <td>26</td>\n",
       "      <td>27</td>\n",
       "      <td>37</td>\n",
       "      <td>9</td>\n",
       "      <td>2024-06-01</td>\n",
       "      <td>baloto</td>\n",
       "      <td>2403</td>\n",
       "      <td>Saturday</td>\n",
       "      <td>6</td>\n",
       "      <td>3</td>\n",
       "    </tr>\n",
       "    <tr>\n",
       "      <th>646</th>\n",
       "      <td>8</td>\n",
       "      <td>18</td>\n",
       "      <td>20</td>\n",
       "      <td>28</td>\n",
       "      <td>41</td>\n",
       "      <td>4</td>\n",
       "      <td>2024-06-05</td>\n",
       "      <td>revancha</td>\n",
       "      <td>2404</td>\n",
       "      <td>Wednesday</td>\n",
       "      <td>6</td>\n",
       "      <td>3</td>\n",
       "    </tr>\n",
       "    <tr>\n",
       "      <th>647</th>\n",
       "      <td>3</td>\n",
       "      <td>19</td>\n",
       "      <td>24</td>\n",
       "      <td>38</td>\n",
       "      <td>39</td>\n",
       "      <td>5</td>\n",
       "      <td>2024-06-05</td>\n",
       "      <td>baloto</td>\n",
       "      <td>2404</td>\n",
       "      <td>Wednesday</td>\n",
       "      <td>6</td>\n",
       "      <td>3</td>\n",
       "    </tr>\n",
       "    <tr>\n",
       "      <th>648</th>\n",
       "      <td>7</td>\n",
       "      <td>25</td>\n",
       "      <td>28</td>\n",
       "      <td>39</td>\n",
       "      <td>41</td>\n",
       "      <td>7</td>\n",
       "      <td>2024-06-08</td>\n",
       "      <td>revancha</td>\n",
       "      <td>2405</td>\n",
       "      <td>Saturday</td>\n",
       "      <td>6</td>\n",
       "      <td>3</td>\n",
       "    </tr>\n",
       "    <tr>\n",
       "      <th>649</th>\n",
       "      <td>5</td>\n",
       "      <td>16</td>\n",
       "      <td>17</td>\n",
       "      <td>29</td>\n",
       "      <td>38</td>\n",
       "      <td>7</td>\n",
       "      <td>2024-06-08</td>\n",
       "      <td>baloto</td>\n",
       "      <td>2405</td>\n",
       "      <td>Saturday</td>\n",
       "      <td>6</td>\n",
       "      <td>3</td>\n",
       "    </tr>\n",
       "  </tbody>\n",
       "</table>\n",
       "<p>650 rows × 12 columns</p>\n",
       "</div>"
      ],
      "text/plain": [
       "     B1  B2  B3  B4  B5  SB fecha_sorteo tipo_sorteo  numero_sorteo  \\\n",
       "0     1  16  34  41  43   2   2021-05-01    revancha           2081   \n",
       "1    22  23  27  28  30   3   2021-05-01      baloto           2081   \n",
       "2     3  15  17  29  32  16   2021-05-05    revancha           2082   \n",
       "3     2   5  10  23  34   7   2021-05-05      baloto           2082   \n",
       "4     5  10  24  29  41  11   2021-05-08    revancha           2083   \n",
       "..   ..  ..  ..  ..  ..  ..          ...         ...            ...   \n",
       "645  16  22  26  27  37   9   2024-06-01      baloto           2403   \n",
       "646   8  18  20  28  41   4   2024-06-05    revancha           2404   \n",
       "647   3  19  24  38  39   5   2024-06-05      baloto           2404   \n",
       "648   7  25  28  39  41   7   2024-06-08    revancha           2405   \n",
       "649   5  16  17  29  38   7   2024-06-08      baloto           2405   \n",
       "\n",
       "    dia_semana  mes  trimestre  \n",
       "0     Saturday    5          2  \n",
       "1     Saturday    5          2  \n",
       "2    Wednesday    5          2  \n",
       "3    Wednesday    5          2  \n",
       "4     Saturday    5          2  \n",
       "..         ...  ...        ...  \n",
       "645   Saturday    6          3  \n",
       "646  Wednesday    6          3  \n",
       "647  Wednesday    6          3  \n",
       "648   Saturday    6          3  \n",
       "649   Saturday    6          3  \n",
       "\n",
       "[650 rows x 12 columns]"
      ]
     },
     "execution_count": 3,
     "metadata": {},
     "output_type": "execute_result"
    }
   ],
   "source": [
    "df_baloto_revancha = pd.read_parquet('historico_baloto_revancha.gzip')\n",
    "df_baloto_revancha['fecha_sorteo'] = pd.to_datetime(df_baloto_revancha['fecha_sorteo'])\n",
    "df_baloto_revancha['dia_semana'] = df_baloto_revancha['fecha_sorteo'].dt.day_name()\n",
    "df_baloto_revancha['mes'] = df_baloto_revancha['fecha_sorteo'].dt.month\n",
    "df_baloto_revancha['trimestre'] = df_baloto_revancha['fecha_sorteo'].apply(lambda x: (x.month%12 + 3)//3)\n",
    "\n",
    "df_baloto_revancha"
   ]
  },
  {
   "cell_type": "markdown",
   "metadata": {},
   "source": [
    "Como sabemos de entrada que no hay valores nulos nos saltaremos esa parte"
   ]
  },
  {
   "cell_type": "code",
   "execution_count": 5,
   "metadata": {},
   "outputs": [
    {
     "data": {
      "text/html": [
       "<div>\n",
       "<style scoped>\n",
       "    .dataframe tbody tr th:only-of-type {\n",
       "        vertical-align: middle;\n",
       "    }\n",
       "\n",
       "    .dataframe tbody tr th {\n",
       "        vertical-align: top;\n",
       "    }\n",
       "\n",
       "    .dataframe thead th {\n",
       "        text-align: right;\n",
       "    }\n",
       "</style>\n",
       "<table border=\"1\" class=\"dataframe\">\n",
       "  <thead>\n",
       "    <tr style=\"text-align: right;\">\n",
       "      <th></th>\n",
       "      <th>B1</th>\n",
       "      <th>B2</th>\n",
       "      <th>B3</th>\n",
       "      <th>B4</th>\n",
       "      <th>B5</th>\n",
       "      <th>SB</th>\n",
       "      <th>fecha_sorteo</th>\n",
       "      <th>numero_sorteo</th>\n",
       "      <th>mes</th>\n",
       "      <th>trimestre</th>\n",
       "    </tr>\n",
       "  </thead>\n",
       "  <tbody>\n",
       "    <tr>\n",
       "      <th>count</th>\n",
       "      <td>325.0</td>\n",
       "      <td>325.0</td>\n",
       "      <td>325.0</td>\n",
       "      <td>325.0</td>\n",
       "      <td>325.0</td>\n",
       "      <td>325.0</td>\n",
       "      <td>325</td>\n",
       "      <td>325.0</td>\n",
       "      <td>325.0</td>\n",
       "      <td>325.0</td>\n",
       "    </tr>\n",
       "    <tr>\n",
       "      <th>mean</th>\n",
       "      <td>8.0</td>\n",
       "      <td>14.0</td>\n",
       "      <td>22.0</td>\n",
       "      <td>30.0</td>\n",
       "      <td>37.0</td>\n",
       "      <td>8.0</td>\n",
       "      <td>2022-11-19 05:58:53.538461440</td>\n",
       "      <td>2243.0</td>\n",
       "      <td>6.0</td>\n",
       "      <td>2.0</td>\n",
       "    </tr>\n",
       "    <tr>\n",
       "      <th>min</th>\n",
       "      <td>1.0</td>\n",
       "      <td>2.0</td>\n",
       "      <td>5.0</td>\n",
       "      <td>9.0</td>\n",
       "      <td>19.0</td>\n",
       "      <td>1.0</td>\n",
       "      <td>2021-05-01 00:00:00</td>\n",
       "      <td>2081.0</td>\n",
       "      <td>1.0</td>\n",
       "      <td>1.0</td>\n",
       "    </tr>\n",
       "    <tr>\n",
       "      <th>25%</th>\n",
       "      <td>3.0</td>\n",
       "      <td>9.0</td>\n",
       "      <td>16.0</td>\n",
       "      <td>25.0</td>\n",
       "      <td>33.0</td>\n",
       "      <td>4.0</td>\n",
       "      <td>2022-02-09 00:00:00</td>\n",
       "      <td>2162.0</td>\n",
       "      <td>4.0</td>\n",
       "      <td>2.0</td>\n",
       "    </tr>\n",
       "    <tr>\n",
       "      <th>50%</th>\n",
       "      <td>6.0</td>\n",
       "      <td>14.0</td>\n",
       "      <td>22.0</td>\n",
       "      <td>30.0</td>\n",
       "      <td>38.0</td>\n",
       "      <td>8.0</td>\n",
       "      <td>2022-11-19 00:00:00</td>\n",
       "      <td>2243.0</td>\n",
       "      <td>6.0</td>\n",
       "      <td>2.0</td>\n",
       "    </tr>\n",
       "    <tr>\n",
       "      <th>75%</th>\n",
       "      <td>12.0</td>\n",
       "      <td>20.0</td>\n",
       "      <td>28.0</td>\n",
       "      <td>35.0</td>\n",
       "      <td>42.0</td>\n",
       "      <td>12.0</td>\n",
       "      <td>2023-08-30 00:00:00</td>\n",
       "      <td>2324.0</td>\n",
       "      <td>9.0</td>\n",
       "      <td>3.0</td>\n",
       "    </tr>\n",
       "    <tr>\n",
       "      <th>max</th>\n",
       "      <td>26.0</td>\n",
       "      <td>35.0</td>\n",
       "      <td>40.0</td>\n",
       "      <td>42.0</td>\n",
       "      <td>43.0</td>\n",
       "      <td>16.0</td>\n",
       "      <td>2024-06-08 00:00:00</td>\n",
       "      <td>2405.0</td>\n",
       "      <td>12.0</td>\n",
       "      <td>4.0</td>\n",
       "    </tr>\n",
       "    <tr>\n",
       "      <th>std</th>\n",
       "      <td>6.0</td>\n",
       "      <td>7.0</td>\n",
       "      <td>8.0</td>\n",
       "      <td>7.0</td>\n",
       "      <td>6.0</td>\n",
       "      <td>5.0</td>\n",
       "      <td>NaN</td>\n",
       "      <td>94.0</td>\n",
       "      <td>3.0</td>\n",
       "      <td>1.0</td>\n",
       "    </tr>\n",
       "  </tbody>\n",
       "</table>\n",
       "</div>"
      ],
      "text/plain": [
       "          B1     B2     B3     B4     B5     SB  \\\n",
       "count  325.0  325.0  325.0  325.0  325.0  325.0   \n",
       "mean     8.0   14.0   22.0   30.0   37.0    8.0   \n",
       "min      1.0    2.0    5.0    9.0   19.0    1.0   \n",
       "25%      3.0    9.0   16.0   25.0   33.0    4.0   \n",
       "50%      6.0   14.0   22.0   30.0   38.0    8.0   \n",
       "75%     12.0   20.0   28.0   35.0   42.0   12.0   \n",
       "max     26.0   35.0   40.0   42.0   43.0   16.0   \n",
       "std      6.0    7.0    8.0    7.0    6.0    5.0   \n",
       "\n",
       "                        fecha_sorteo  numero_sorteo    mes  trimestre  \n",
       "count                            325          325.0  325.0      325.0  \n",
       "mean   2022-11-19 05:58:53.538461440         2243.0    6.0        2.0  \n",
       "min              2021-05-01 00:00:00         2081.0    1.0        1.0  \n",
       "25%              2022-02-09 00:00:00         2162.0    4.0        2.0  \n",
       "50%              2022-11-19 00:00:00         2243.0    6.0        2.0  \n",
       "75%              2023-08-30 00:00:00         2324.0    9.0        3.0  \n",
       "max              2024-06-08 00:00:00         2405.0   12.0        4.0  \n",
       "std                              NaN           94.0    3.0        1.0  "
      ]
     },
     "execution_count": 5,
     "metadata": {},
     "output_type": "execute_result"
    }
   ],
   "source": [
    "df_baloto_revancha[df_baloto_revancha['tipo_sorteo'] == 'baloto'].describe().round(0)"
   ]
  },
  {
   "cell_type": "code",
   "execution_count": 6,
   "metadata": {},
   "outputs": [
    {
     "data": {
      "application/vnd.plotly.v1+json": {
       "config": {
        "plotlyServerURL": "https://plot.ly"
       },
       "data": [
        {
         "alignmentgroup": "True",
         "bingroup": "x",
         "histfunc": "sum",
         "hovertemplate": "fecha_sorteo=%{x}<br>sum of B1=%{y}<extra></extra>",
         "legendgroup": "",
         "marker": {
          "color": "#636efa",
          "pattern": {
           "shape": ""
          }
         },
         "name": "",
         "nbinsx": 325,
         "offsetgroup": "",
         "orientation": "v",
         "showlegend": false,
         "type": "histogram",
         "x": [
          "2021-05-01T00:00:00",
          "2021-05-05T00:00:00",
          "2021-05-08T00:00:00",
          "2021-05-12T00:00:00",
          "2021-05-15T00:00:00",
          "2021-05-19T00:00:00",
          "2021-05-22T00:00:00",
          "2021-05-26T00:00:00",
          "2021-05-29T00:00:00",
          "2021-06-02T00:00:00",
          "2021-06-05T00:00:00",
          "2021-06-09T00:00:00",
          "2021-06-12T00:00:00",
          "2021-06-16T00:00:00",
          "2021-06-19T00:00:00",
          "2021-06-23T00:00:00",
          "2021-06-26T00:00:00",
          "2021-06-30T00:00:00",
          "2021-07-03T00:00:00",
          "2021-07-07T00:00:00",
          "2021-07-10T00:00:00",
          "2021-07-14T00:00:00",
          "2021-07-17T00:00:00",
          "2021-07-21T00:00:00",
          "2021-07-24T00:00:00",
          "2021-07-28T00:00:00",
          "2021-07-31T00:00:00",
          "2021-08-04T00:00:00",
          "2021-08-07T00:00:00",
          "2021-08-11T00:00:00",
          "2021-08-14T00:00:00",
          "2021-08-18T00:00:00",
          "2021-08-21T00:00:00",
          "2021-08-25T00:00:00",
          "2021-08-28T00:00:00",
          "2021-09-01T00:00:00",
          "2021-09-04T00:00:00",
          "2021-09-08T00:00:00",
          "2021-09-11T00:00:00",
          "2021-09-15T00:00:00",
          "2021-09-18T00:00:00",
          "2021-09-22T00:00:00",
          "2021-09-25T00:00:00",
          "2021-09-29T00:00:00",
          "2021-10-02T00:00:00",
          "2021-10-06T00:00:00",
          "2021-10-09T00:00:00",
          "2021-10-13T00:00:00",
          "2021-10-16T00:00:00",
          "2021-10-20T00:00:00",
          "2021-10-23T00:00:00",
          "2021-10-27T00:00:00",
          "2021-10-30T00:00:00",
          "2021-11-03T00:00:00",
          "2021-11-06T00:00:00",
          "2021-11-10T00:00:00",
          "2021-11-13T00:00:00",
          "2021-11-17T00:00:00",
          "2021-11-20T00:00:00",
          "2021-11-24T00:00:00",
          "2021-11-27T00:00:00",
          "2021-12-01T00:00:00",
          "2021-12-04T00:00:00",
          "2021-12-08T00:00:00",
          "2021-12-11T00:00:00",
          "2021-12-15T00:00:00",
          "2021-12-18T00:00:00",
          "2021-12-22T00:00:00",
          "2021-12-25T00:00:00",
          "2021-12-29T00:00:00",
          "2022-01-01T00:00:00",
          "2022-01-05T00:00:00",
          "2022-01-08T00:00:00",
          "2022-01-12T00:00:00",
          "2022-01-15T00:00:00",
          "2022-01-19T00:00:00",
          "2022-01-22T00:00:00",
          "2022-01-26T00:00:00",
          "2022-01-29T00:00:00",
          "2022-02-02T00:00:00",
          "2022-02-05T00:00:00",
          "2022-02-09T00:00:00",
          "2022-02-12T00:00:00",
          "2022-02-16T00:00:00",
          "2022-02-19T00:00:00",
          "2022-02-23T00:00:00",
          "2022-02-26T00:00:00",
          "2022-03-02T00:00:00",
          "2022-03-05T00:00:00",
          "2022-03-09T00:00:00",
          "2022-03-12T00:00:00",
          "2022-03-16T00:00:00",
          "2022-03-19T00:00:00",
          "2022-03-23T00:00:00",
          "2022-03-26T00:00:00",
          "2022-03-30T00:00:00",
          "2022-04-02T00:00:00",
          "2022-04-06T00:00:00",
          "2022-04-09T00:00:00",
          "2022-04-13T00:00:00",
          "2022-04-16T00:00:00",
          "2022-04-20T00:00:00",
          "2022-04-23T00:00:00",
          "2022-04-27T00:00:00",
          "2022-04-30T00:00:00",
          "2022-05-04T00:00:00",
          "2022-05-07T00:00:00",
          "2022-05-11T00:00:00",
          "2022-05-14T00:00:00",
          "2022-05-18T00:00:00",
          "2022-05-21T00:00:00",
          "2022-05-25T00:00:00",
          "2022-05-28T00:00:00",
          "2022-06-01T00:00:00",
          "2022-06-04T00:00:00",
          "2022-06-08T00:00:00",
          "2022-06-11T00:00:00",
          "2022-06-15T00:00:00",
          "2022-06-18T00:00:00",
          "2022-06-22T00:00:00",
          "2022-06-25T00:00:00",
          "2022-06-29T00:00:00",
          "2022-07-02T00:00:00",
          "2022-07-06T00:00:00",
          "2022-07-09T00:00:00",
          "2022-07-13T00:00:00",
          "2022-07-16T00:00:00",
          "2022-07-20T00:00:00",
          "2022-07-23T00:00:00",
          "2022-07-27T00:00:00",
          "2022-07-30T00:00:00",
          "2022-08-03T00:00:00",
          "2022-08-06T00:00:00",
          "2022-08-10T00:00:00",
          "2022-08-13T00:00:00",
          "2022-08-17T00:00:00",
          "2022-08-20T00:00:00",
          "2022-08-24T00:00:00",
          "2022-08-27T00:00:00",
          "2022-08-31T00:00:00",
          "2022-09-03T00:00:00",
          "2022-09-07T00:00:00",
          "2022-09-10T00:00:00",
          "2022-09-14T00:00:00",
          "2022-09-17T00:00:00",
          "2022-09-21T00:00:00",
          "2022-09-24T00:00:00",
          "2022-09-28T00:00:00",
          "2022-10-01T00:00:00",
          "2022-10-05T00:00:00",
          "2022-10-08T00:00:00",
          "2022-10-12T00:00:00",
          "2022-10-15T00:00:00",
          "2022-10-19T00:00:00",
          "2022-10-22T00:00:00",
          "2022-10-26T00:00:00",
          "2022-10-29T00:00:00",
          "2022-11-02T00:00:00",
          "2022-11-05T00:00:00",
          "2022-11-09T00:00:00",
          "2022-11-12T00:00:00",
          "2022-11-16T00:00:00",
          "2022-11-19T00:00:00",
          "2022-11-23T00:00:00",
          "2022-11-26T00:00:00",
          "2022-11-30T00:00:00",
          "2022-12-03T00:00:00",
          "2022-12-07T00:00:00",
          "2022-12-10T00:00:00",
          "2022-12-14T00:00:00",
          "2022-12-17T00:00:00",
          "2022-12-21T00:00:00",
          "2022-12-24T00:00:00",
          "2022-12-28T00:00:00",
          "2022-12-31T00:00:00",
          "2023-01-04T00:00:00",
          "2023-01-07T00:00:00",
          "2023-01-11T00:00:00",
          "2023-01-14T00:00:00",
          "2023-01-18T00:00:00",
          "2023-01-21T00:00:00",
          "2023-01-25T00:00:00",
          "2023-01-28T00:00:00",
          "2023-02-01T00:00:00",
          "2023-02-04T00:00:00",
          "2023-02-08T00:00:00",
          "2023-02-11T00:00:00",
          "2023-02-15T00:00:00",
          "2023-02-18T00:00:00",
          "2023-02-22T00:00:00",
          "2023-02-25T00:00:00",
          "2023-03-01T00:00:00",
          "2023-03-04T00:00:00",
          "2023-03-08T00:00:00",
          "2023-03-11T00:00:00",
          "2023-03-15T00:00:00",
          "2023-03-18T00:00:00",
          "2023-03-22T00:00:00",
          "2023-03-25T00:00:00",
          "2023-03-29T00:00:00",
          "2023-04-01T00:00:00",
          "2023-04-05T00:00:00",
          "2023-04-08T00:00:00",
          "2023-04-12T00:00:00",
          "2023-04-15T00:00:00",
          "2023-04-19T00:00:00",
          "2023-04-22T00:00:00",
          "2023-04-26T00:00:00",
          "2023-04-29T00:00:00",
          "2023-05-03T00:00:00",
          "2023-05-06T00:00:00",
          "2023-05-10T00:00:00",
          "2023-05-13T00:00:00",
          "2023-05-17T00:00:00",
          "2023-05-20T00:00:00",
          "2023-05-24T00:00:00",
          "2023-05-27T00:00:00",
          "2023-05-31T00:00:00",
          "2023-06-03T00:00:00",
          "2023-06-07T00:00:00",
          "2023-06-10T00:00:00",
          "2023-06-14T00:00:00",
          "2023-06-17T00:00:00",
          "2023-06-21T00:00:00",
          "2023-06-24T00:00:00",
          "2023-06-28T00:00:00",
          "2023-07-01T00:00:00",
          "2023-07-05T00:00:00",
          "2023-07-08T00:00:00",
          "2023-07-12T00:00:00",
          "2023-07-15T00:00:00",
          "2023-07-19T00:00:00",
          "2023-07-22T00:00:00",
          "2023-07-26T00:00:00",
          "2023-07-29T00:00:00",
          "2023-08-02T00:00:00",
          "2023-08-05T00:00:00",
          "2023-08-09T00:00:00",
          "2023-08-12T00:00:00",
          "2023-08-16T00:00:00",
          "2023-08-19T00:00:00",
          "2023-08-23T00:00:00",
          "2023-08-26T00:00:00",
          "2023-08-30T00:00:00",
          "2023-09-02T00:00:00",
          "2023-09-06T00:00:00",
          "2023-09-09T00:00:00",
          "2023-09-13T00:00:00",
          "2023-09-16T00:00:00",
          "2023-09-20T00:00:00",
          "2023-09-23T00:00:00",
          "2023-09-27T00:00:00",
          "2023-09-30T00:00:00",
          "2023-10-04T00:00:00",
          "2023-10-07T00:00:00",
          "2023-10-11T00:00:00",
          "2023-10-14T00:00:00",
          "2023-10-18T00:00:00",
          "2023-10-21T00:00:00",
          "2023-10-25T00:00:00",
          "2023-10-28T00:00:00",
          "2023-11-01T00:00:00",
          "2023-11-04T00:00:00",
          "2023-11-08T00:00:00",
          "2023-11-11T00:00:00",
          "2023-11-15T00:00:00",
          "2023-11-18T00:00:00",
          "2023-11-22T00:00:00",
          "2023-11-25T00:00:00",
          "2023-11-29T00:00:00",
          "2023-12-02T00:00:00",
          "2023-12-06T00:00:00",
          "2023-12-09T00:00:00",
          "2023-12-13T00:00:00",
          "2023-12-16T00:00:00",
          "2023-12-20T00:00:00",
          "2023-12-23T00:00:00",
          "2023-12-27T00:00:00",
          "2023-12-30T00:00:00",
          "2024-01-03T00:00:00",
          "2024-01-06T00:00:00",
          "2024-01-10T00:00:00",
          "2024-01-13T00:00:00",
          "2024-01-17T00:00:00",
          "2024-01-20T00:00:00",
          "2024-01-24T00:00:00",
          "2024-01-27T00:00:00",
          "2024-01-31T00:00:00",
          "2024-02-03T00:00:00",
          "2024-02-07T00:00:00",
          "2024-02-10T00:00:00",
          "2024-02-14T00:00:00",
          "2024-02-17T00:00:00",
          "2024-02-21T00:00:00",
          "2024-02-24T00:00:00",
          "2024-02-28T00:00:00",
          "2024-03-02T00:00:00",
          "2024-03-06T00:00:00",
          "2024-03-09T00:00:00",
          "2024-03-13T00:00:00",
          "2024-03-16T00:00:00",
          "2024-03-20T00:00:00",
          "2024-03-23T00:00:00",
          "2024-03-27T00:00:00",
          "2024-03-30T00:00:00",
          "2024-04-03T00:00:00",
          "2024-04-06T00:00:00",
          "2024-04-10T00:00:00",
          "2024-04-13T00:00:00",
          "2024-04-17T00:00:00",
          "2024-04-20T00:00:00",
          "2024-04-24T00:00:00",
          "2024-04-27T00:00:00",
          "2024-05-01T00:00:00",
          "2024-05-04T00:00:00",
          "2024-05-08T00:00:00",
          "2024-05-11T00:00:00",
          "2024-05-15T00:00:00",
          "2024-05-18T00:00:00",
          "2024-05-22T00:00:00",
          "2024-05-25T00:00:00",
          "2024-05-29T00:00:00",
          "2024-06-01T00:00:00",
          "2024-06-05T00:00:00",
          "2024-06-08T00:00:00"
         ],
         "xaxis": "x",
         "y": [
          22,
          2,
          4,
          4,
          3,
          9,
          8,
          3,
          8,
          1,
          1,
          7,
          9,
          7,
          1,
          6,
          6,
          26,
          21,
          5,
          8,
          7,
          14,
          7,
          21,
          6,
          1,
          6,
          14,
          2,
          10,
          8,
          12,
          7,
          8,
          1,
          22,
          8,
          8,
          15,
          2,
          14,
          9,
          20,
          1,
          5,
          5,
          1,
          2,
          11,
          2,
          12,
          17,
          7,
          4,
          18,
          1,
          6,
          12,
          17,
          9,
          13,
          9,
          1,
          2,
          1,
          2,
          5,
          2,
          8,
          17,
          10,
          8,
          1,
          4,
          14,
          1,
          12,
          8,
          3,
          5,
          1,
          1,
          14,
          3,
          7,
          3,
          15,
          1,
          17,
          1,
          1,
          9,
          3,
          19,
          4,
          3,
          11,
          20,
          7,
          1,
          13,
          6,
          4,
          3,
          14,
          4,
          21,
          5,
          15,
          13,
          5,
          6,
          13,
          20,
          5,
          22,
          1,
          1,
          16,
          7,
          9,
          7,
          1,
          1,
          16,
          7,
          3,
          2,
          2,
          4,
          6,
          6,
          1,
          5,
          3,
          12,
          14,
          1,
          15,
          2,
          14,
          3,
          7,
          3,
          2,
          5,
          2,
          3,
          1,
          1,
          12,
          9,
          5,
          2,
          9,
          2,
          20,
          4,
          5,
          10,
          7,
          23,
          5,
          4,
          14,
          14,
          11,
          6,
          2,
          1,
          24,
          7,
          2,
          3,
          12,
          17,
          2,
          2,
          10,
          2,
          5,
          2,
          8,
          1,
          3,
          8,
          7,
          7,
          6,
          12,
          16,
          4,
          24,
          9,
          2,
          2,
          1,
          4,
          21,
          1,
          4,
          3,
          11,
          19,
          15,
          17,
          4,
          7,
          9,
          8,
          13,
          6,
          3,
          3,
          1,
          6,
          2,
          9,
          1,
          9,
          3,
          9,
          9,
          8,
          12,
          14,
          4,
          13,
          10,
          2,
          2,
          14,
          5,
          5,
          5,
          4,
          3,
          19,
          3,
          5,
          4,
          5,
          4,
          1,
          9,
          15,
          7,
          6,
          2,
          13,
          2,
          10,
          6,
          6,
          3,
          4,
          20,
          12,
          15,
          5,
          5,
          1,
          3,
          8,
          5,
          3,
          15,
          9,
          7,
          11,
          16,
          7,
          14,
          4,
          1,
          7,
          3,
          8,
          6,
          22,
          2,
          1,
          4,
          19,
          2,
          14,
          2,
          18,
          2,
          6,
          1,
          18,
          1,
          12,
          4,
          6,
          19,
          10,
          6,
          1,
          17,
          9,
          2,
          7,
          14,
          2,
          3,
          2,
          25,
          2,
          19,
          11,
          20,
          8,
          13,
          4,
          2,
          12,
          5,
          12,
          7,
          16,
          3,
          5
         ],
         "yaxis": "y"
        }
       ],
       "layout": {
        "barmode": "relative",
        "legend": {
         "tracegroupgap": 0
        },
        "margin": {
         "t": 60
        },
        "template": {
         "data": {
          "bar": [
           {
            "error_x": {
             "color": "#2a3f5f"
            },
            "error_y": {
             "color": "#2a3f5f"
            },
            "marker": {
             "line": {
              "color": "#E5ECF6",
              "width": 0.5
             },
             "pattern": {
              "fillmode": "overlay",
              "size": 10,
              "solidity": 0.2
             }
            },
            "type": "bar"
           }
          ],
          "barpolar": [
           {
            "marker": {
             "line": {
              "color": "#E5ECF6",
              "width": 0.5
             },
             "pattern": {
              "fillmode": "overlay",
              "size": 10,
              "solidity": 0.2
             }
            },
            "type": "barpolar"
           }
          ],
          "carpet": [
           {
            "aaxis": {
             "endlinecolor": "#2a3f5f",
             "gridcolor": "white",
             "linecolor": "white",
             "minorgridcolor": "white",
             "startlinecolor": "#2a3f5f"
            },
            "baxis": {
             "endlinecolor": "#2a3f5f",
             "gridcolor": "white",
             "linecolor": "white",
             "minorgridcolor": "white",
             "startlinecolor": "#2a3f5f"
            },
            "type": "carpet"
           }
          ],
          "choropleth": [
           {
            "colorbar": {
             "outlinewidth": 0,
             "ticks": ""
            },
            "type": "choropleth"
           }
          ],
          "contour": [
           {
            "colorbar": {
             "outlinewidth": 0,
             "ticks": ""
            },
            "colorscale": [
             [
              0,
              "#0d0887"
             ],
             [
              0.1111111111111111,
              "#46039f"
             ],
             [
              0.2222222222222222,
              "#7201a8"
             ],
             [
              0.3333333333333333,
              "#9c179e"
             ],
             [
              0.4444444444444444,
              "#bd3786"
             ],
             [
              0.5555555555555556,
              "#d8576b"
             ],
             [
              0.6666666666666666,
              "#ed7953"
             ],
             [
              0.7777777777777778,
              "#fb9f3a"
             ],
             [
              0.8888888888888888,
              "#fdca26"
             ],
             [
              1,
              "#f0f921"
             ]
            ],
            "type": "contour"
           }
          ],
          "contourcarpet": [
           {
            "colorbar": {
             "outlinewidth": 0,
             "ticks": ""
            },
            "type": "contourcarpet"
           }
          ],
          "heatmap": [
           {
            "colorbar": {
             "outlinewidth": 0,
             "ticks": ""
            },
            "colorscale": [
             [
              0,
              "#0d0887"
             ],
             [
              0.1111111111111111,
              "#46039f"
             ],
             [
              0.2222222222222222,
              "#7201a8"
             ],
             [
              0.3333333333333333,
              "#9c179e"
             ],
             [
              0.4444444444444444,
              "#bd3786"
             ],
             [
              0.5555555555555556,
              "#d8576b"
             ],
             [
              0.6666666666666666,
              "#ed7953"
             ],
             [
              0.7777777777777778,
              "#fb9f3a"
             ],
             [
              0.8888888888888888,
              "#fdca26"
             ],
             [
              1,
              "#f0f921"
             ]
            ],
            "type": "heatmap"
           }
          ],
          "heatmapgl": [
           {
            "colorbar": {
             "outlinewidth": 0,
             "ticks": ""
            },
            "colorscale": [
             [
              0,
              "#0d0887"
             ],
             [
              0.1111111111111111,
              "#46039f"
             ],
             [
              0.2222222222222222,
              "#7201a8"
             ],
             [
              0.3333333333333333,
              "#9c179e"
             ],
             [
              0.4444444444444444,
              "#bd3786"
             ],
             [
              0.5555555555555556,
              "#d8576b"
             ],
             [
              0.6666666666666666,
              "#ed7953"
             ],
             [
              0.7777777777777778,
              "#fb9f3a"
             ],
             [
              0.8888888888888888,
              "#fdca26"
             ],
             [
              1,
              "#f0f921"
             ]
            ],
            "type": "heatmapgl"
           }
          ],
          "histogram": [
           {
            "marker": {
             "pattern": {
              "fillmode": "overlay",
              "size": 10,
              "solidity": 0.2
             }
            },
            "type": "histogram"
           }
          ],
          "histogram2d": [
           {
            "colorbar": {
             "outlinewidth": 0,
             "ticks": ""
            },
            "colorscale": [
             [
              0,
              "#0d0887"
             ],
             [
              0.1111111111111111,
              "#46039f"
             ],
             [
              0.2222222222222222,
              "#7201a8"
             ],
             [
              0.3333333333333333,
              "#9c179e"
             ],
             [
              0.4444444444444444,
              "#bd3786"
             ],
             [
              0.5555555555555556,
              "#d8576b"
             ],
             [
              0.6666666666666666,
              "#ed7953"
             ],
             [
              0.7777777777777778,
              "#fb9f3a"
             ],
             [
              0.8888888888888888,
              "#fdca26"
             ],
             [
              1,
              "#f0f921"
             ]
            ],
            "type": "histogram2d"
           }
          ],
          "histogram2dcontour": [
           {
            "colorbar": {
             "outlinewidth": 0,
             "ticks": ""
            },
            "colorscale": [
             [
              0,
              "#0d0887"
             ],
             [
              0.1111111111111111,
              "#46039f"
             ],
             [
              0.2222222222222222,
              "#7201a8"
             ],
             [
              0.3333333333333333,
              "#9c179e"
             ],
             [
              0.4444444444444444,
              "#bd3786"
             ],
             [
              0.5555555555555556,
              "#d8576b"
             ],
             [
              0.6666666666666666,
              "#ed7953"
             ],
             [
              0.7777777777777778,
              "#fb9f3a"
             ],
             [
              0.8888888888888888,
              "#fdca26"
             ],
             [
              1,
              "#f0f921"
             ]
            ],
            "type": "histogram2dcontour"
           }
          ],
          "mesh3d": [
           {
            "colorbar": {
             "outlinewidth": 0,
             "ticks": ""
            },
            "type": "mesh3d"
           }
          ],
          "parcoords": [
           {
            "line": {
             "colorbar": {
              "outlinewidth": 0,
              "ticks": ""
             }
            },
            "type": "parcoords"
           }
          ],
          "pie": [
           {
            "automargin": true,
            "type": "pie"
           }
          ],
          "scatter": [
           {
            "fillpattern": {
             "fillmode": "overlay",
             "size": 10,
             "solidity": 0.2
            },
            "type": "scatter"
           }
          ],
          "scatter3d": [
           {
            "line": {
             "colorbar": {
              "outlinewidth": 0,
              "ticks": ""
             }
            },
            "marker": {
             "colorbar": {
              "outlinewidth": 0,
              "ticks": ""
             }
            },
            "type": "scatter3d"
           }
          ],
          "scattercarpet": [
           {
            "marker": {
             "colorbar": {
              "outlinewidth": 0,
              "ticks": ""
             }
            },
            "type": "scattercarpet"
           }
          ],
          "scattergeo": [
           {
            "marker": {
             "colorbar": {
              "outlinewidth": 0,
              "ticks": ""
             }
            },
            "type": "scattergeo"
           }
          ],
          "scattergl": [
           {
            "marker": {
             "colorbar": {
              "outlinewidth": 0,
              "ticks": ""
             }
            },
            "type": "scattergl"
           }
          ],
          "scattermapbox": [
           {
            "marker": {
             "colorbar": {
              "outlinewidth": 0,
              "ticks": ""
             }
            },
            "type": "scattermapbox"
           }
          ],
          "scatterpolar": [
           {
            "marker": {
             "colorbar": {
              "outlinewidth": 0,
              "ticks": ""
             }
            },
            "type": "scatterpolar"
           }
          ],
          "scatterpolargl": [
           {
            "marker": {
             "colorbar": {
              "outlinewidth": 0,
              "ticks": ""
             }
            },
            "type": "scatterpolargl"
           }
          ],
          "scatterternary": [
           {
            "marker": {
             "colorbar": {
              "outlinewidth": 0,
              "ticks": ""
             }
            },
            "type": "scatterternary"
           }
          ],
          "surface": [
           {
            "colorbar": {
             "outlinewidth": 0,
             "ticks": ""
            },
            "colorscale": [
             [
              0,
              "#0d0887"
             ],
             [
              0.1111111111111111,
              "#46039f"
             ],
             [
              0.2222222222222222,
              "#7201a8"
             ],
             [
              0.3333333333333333,
              "#9c179e"
             ],
             [
              0.4444444444444444,
              "#bd3786"
             ],
             [
              0.5555555555555556,
              "#d8576b"
             ],
             [
              0.6666666666666666,
              "#ed7953"
             ],
             [
              0.7777777777777778,
              "#fb9f3a"
             ],
             [
              0.8888888888888888,
              "#fdca26"
             ],
             [
              1,
              "#f0f921"
             ]
            ],
            "type": "surface"
           }
          ],
          "table": [
           {
            "cells": {
             "fill": {
              "color": "#EBF0F8"
             },
             "line": {
              "color": "white"
             }
            },
            "header": {
             "fill": {
              "color": "#C8D4E3"
             },
             "line": {
              "color": "white"
             }
            },
            "type": "table"
           }
          ]
         },
         "layout": {
          "annotationdefaults": {
           "arrowcolor": "#2a3f5f",
           "arrowhead": 0,
           "arrowwidth": 1
          },
          "autotypenumbers": "strict",
          "coloraxis": {
           "colorbar": {
            "outlinewidth": 0,
            "ticks": ""
           }
          },
          "colorscale": {
           "diverging": [
            [
             0,
             "#8e0152"
            ],
            [
             0.1,
             "#c51b7d"
            ],
            [
             0.2,
             "#de77ae"
            ],
            [
             0.3,
             "#f1b6da"
            ],
            [
             0.4,
             "#fde0ef"
            ],
            [
             0.5,
             "#f7f7f7"
            ],
            [
             0.6,
             "#e6f5d0"
            ],
            [
             0.7,
             "#b8e186"
            ],
            [
             0.8,
             "#7fbc41"
            ],
            [
             0.9,
             "#4d9221"
            ],
            [
             1,
             "#276419"
            ]
           ],
           "sequential": [
            [
             0,
             "#0d0887"
            ],
            [
             0.1111111111111111,
             "#46039f"
            ],
            [
             0.2222222222222222,
             "#7201a8"
            ],
            [
             0.3333333333333333,
             "#9c179e"
            ],
            [
             0.4444444444444444,
             "#bd3786"
            ],
            [
             0.5555555555555556,
             "#d8576b"
            ],
            [
             0.6666666666666666,
             "#ed7953"
            ],
            [
             0.7777777777777778,
             "#fb9f3a"
            ],
            [
             0.8888888888888888,
             "#fdca26"
            ],
            [
             1,
             "#f0f921"
            ]
           ],
           "sequentialminus": [
            [
             0,
             "#0d0887"
            ],
            [
             0.1111111111111111,
             "#46039f"
            ],
            [
             0.2222222222222222,
             "#7201a8"
            ],
            [
             0.3333333333333333,
             "#9c179e"
            ],
            [
             0.4444444444444444,
             "#bd3786"
            ],
            [
             0.5555555555555556,
             "#d8576b"
            ],
            [
             0.6666666666666666,
             "#ed7953"
            ],
            [
             0.7777777777777778,
             "#fb9f3a"
            ],
            [
             0.8888888888888888,
             "#fdca26"
            ],
            [
             1,
             "#f0f921"
            ]
           ]
          },
          "colorway": [
           "#636efa",
           "#EF553B",
           "#00cc96",
           "#ab63fa",
           "#FFA15A",
           "#19d3f3",
           "#FF6692",
           "#B6E880",
           "#FF97FF",
           "#FECB52"
          ],
          "font": {
           "color": "#2a3f5f"
          },
          "geo": {
           "bgcolor": "white",
           "lakecolor": "white",
           "landcolor": "#E5ECF6",
           "showlakes": true,
           "showland": true,
           "subunitcolor": "white"
          },
          "hoverlabel": {
           "align": "left"
          },
          "hovermode": "closest",
          "mapbox": {
           "style": "light"
          },
          "paper_bgcolor": "white",
          "plot_bgcolor": "#E5ECF6",
          "polar": {
           "angularaxis": {
            "gridcolor": "white",
            "linecolor": "white",
            "ticks": ""
           },
           "bgcolor": "#E5ECF6",
           "radialaxis": {
            "gridcolor": "white",
            "linecolor": "white",
            "ticks": ""
           }
          },
          "scene": {
           "xaxis": {
            "backgroundcolor": "#E5ECF6",
            "gridcolor": "white",
            "gridwidth": 2,
            "linecolor": "white",
            "showbackground": true,
            "ticks": "",
            "zerolinecolor": "white"
           },
           "yaxis": {
            "backgroundcolor": "#E5ECF6",
            "gridcolor": "white",
            "gridwidth": 2,
            "linecolor": "white",
            "showbackground": true,
            "ticks": "",
            "zerolinecolor": "white"
           },
           "zaxis": {
            "backgroundcolor": "#E5ECF6",
            "gridcolor": "white",
            "gridwidth": 2,
            "linecolor": "white",
            "showbackground": true,
            "ticks": "",
            "zerolinecolor": "white"
           }
          },
          "shapedefaults": {
           "line": {
            "color": "#2a3f5f"
           }
          },
          "ternary": {
           "aaxis": {
            "gridcolor": "white",
            "linecolor": "white",
            "ticks": ""
           },
           "baxis": {
            "gridcolor": "white",
            "linecolor": "white",
            "ticks": ""
           },
           "bgcolor": "#E5ECF6",
           "caxis": {
            "gridcolor": "white",
            "linecolor": "white",
            "ticks": ""
           }
          },
          "title": {
           "x": 0.05
          },
          "xaxis": {
           "automargin": true,
           "gridcolor": "white",
           "linecolor": "white",
           "ticks": "",
           "title": {
            "standoff": 15
           },
           "zerolinecolor": "white",
           "zerolinewidth": 2
          },
          "yaxis": {
           "automargin": true,
           "gridcolor": "white",
           "linecolor": "white",
           "ticks": "",
           "title": {
            "standoff": 15
           },
           "zerolinecolor": "white",
           "zerolinewidth": 2
          }
         }
        },
        "xaxis": {
         "anchor": "y",
         "domain": [
          0,
          1
         ],
         "title": {
          "text": "fecha_sorteo"
         }
        },
        "yaxis": {
         "anchor": "x",
         "domain": [
          0,
          1
         ],
         "title": {
          "text": "sum of B1"
         }
        }
       }
      }
     },
     "metadata": {},
     "output_type": "display_data"
    }
   ],
   "source": [
    "#['B1','B2','B3','B4','B5','SB']\n",
    "fig = px.histogram(df_baloto_revancha[df_baloto_revancha['tipo_sorteo'] == 'baloto'], x='fecha_sorteo', y='B1', nbins=325)\n",
    "fig.show()"
   ]
  },
  {
   "cell_type": "code",
   "execution_count": 7,
   "metadata": {},
   "outputs": [
    {
     "data": {
      "application/vnd.plotly.v1+json": {
       "config": {
        "plotlyServerURL": "https://plot.ly"
       },
       "data": [
        {
         "alignmentgroup": "True",
         "bingroup": "x",
         "histfunc": "sum",
         "hovertemplate": "fecha_sorteo=%{x}<br>sum of B2=%{y}<extra></extra>",
         "legendgroup": "",
         "marker": {
          "color": "#636efa",
          "pattern": {
           "shape": ""
          }
         },
         "name": "",
         "nbinsx": 325,
         "offsetgroup": "",
         "orientation": "v",
         "showlegend": false,
         "type": "histogram",
         "x": [
          "2021-05-01T00:00:00",
          "2021-05-05T00:00:00",
          "2021-05-08T00:00:00",
          "2021-05-12T00:00:00",
          "2021-05-15T00:00:00",
          "2021-05-19T00:00:00",
          "2021-05-22T00:00:00",
          "2021-05-26T00:00:00",
          "2021-05-29T00:00:00",
          "2021-06-02T00:00:00",
          "2021-06-05T00:00:00",
          "2021-06-09T00:00:00",
          "2021-06-12T00:00:00",
          "2021-06-16T00:00:00",
          "2021-06-19T00:00:00",
          "2021-06-23T00:00:00",
          "2021-06-26T00:00:00",
          "2021-06-30T00:00:00",
          "2021-07-03T00:00:00",
          "2021-07-07T00:00:00",
          "2021-07-10T00:00:00",
          "2021-07-14T00:00:00",
          "2021-07-17T00:00:00",
          "2021-07-21T00:00:00",
          "2021-07-24T00:00:00",
          "2021-07-28T00:00:00",
          "2021-07-31T00:00:00",
          "2021-08-04T00:00:00",
          "2021-08-07T00:00:00",
          "2021-08-11T00:00:00",
          "2021-08-14T00:00:00",
          "2021-08-18T00:00:00",
          "2021-08-21T00:00:00",
          "2021-08-25T00:00:00",
          "2021-08-28T00:00:00",
          "2021-09-01T00:00:00",
          "2021-09-04T00:00:00",
          "2021-09-08T00:00:00",
          "2021-09-11T00:00:00",
          "2021-09-15T00:00:00",
          "2021-09-18T00:00:00",
          "2021-09-22T00:00:00",
          "2021-09-25T00:00:00",
          "2021-09-29T00:00:00",
          "2021-10-02T00:00:00",
          "2021-10-06T00:00:00",
          "2021-10-09T00:00:00",
          "2021-10-13T00:00:00",
          "2021-10-16T00:00:00",
          "2021-10-20T00:00:00",
          "2021-10-23T00:00:00",
          "2021-10-27T00:00:00",
          "2021-10-30T00:00:00",
          "2021-11-03T00:00:00",
          "2021-11-06T00:00:00",
          "2021-11-10T00:00:00",
          "2021-11-13T00:00:00",
          "2021-11-17T00:00:00",
          "2021-11-20T00:00:00",
          "2021-11-24T00:00:00",
          "2021-11-27T00:00:00",
          "2021-12-01T00:00:00",
          "2021-12-04T00:00:00",
          "2021-12-08T00:00:00",
          "2021-12-11T00:00:00",
          "2021-12-15T00:00:00",
          "2021-12-18T00:00:00",
          "2021-12-22T00:00:00",
          "2021-12-25T00:00:00",
          "2021-12-29T00:00:00",
          "2022-01-01T00:00:00",
          "2022-01-05T00:00:00",
          "2022-01-08T00:00:00",
          "2022-01-12T00:00:00",
          "2022-01-15T00:00:00",
          "2022-01-19T00:00:00",
          "2022-01-22T00:00:00",
          "2022-01-26T00:00:00",
          "2022-01-29T00:00:00",
          "2022-02-02T00:00:00",
          "2022-02-05T00:00:00",
          "2022-02-09T00:00:00",
          "2022-02-12T00:00:00",
          "2022-02-16T00:00:00",
          "2022-02-19T00:00:00",
          "2022-02-23T00:00:00",
          "2022-02-26T00:00:00",
          "2022-03-02T00:00:00",
          "2022-03-05T00:00:00",
          "2022-03-09T00:00:00",
          "2022-03-12T00:00:00",
          "2022-03-16T00:00:00",
          "2022-03-19T00:00:00",
          "2022-03-23T00:00:00",
          "2022-03-26T00:00:00",
          "2022-03-30T00:00:00",
          "2022-04-02T00:00:00",
          "2022-04-06T00:00:00",
          "2022-04-09T00:00:00",
          "2022-04-13T00:00:00",
          "2022-04-16T00:00:00",
          "2022-04-20T00:00:00",
          "2022-04-23T00:00:00",
          "2022-04-27T00:00:00",
          "2022-04-30T00:00:00",
          "2022-05-04T00:00:00",
          "2022-05-07T00:00:00",
          "2022-05-11T00:00:00",
          "2022-05-14T00:00:00",
          "2022-05-18T00:00:00",
          "2022-05-21T00:00:00",
          "2022-05-25T00:00:00",
          "2022-05-28T00:00:00",
          "2022-06-01T00:00:00",
          "2022-06-04T00:00:00",
          "2022-06-08T00:00:00",
          "2022-06-11T00:00:00",
          "2022-06-15T00:00:00",
          "2022-06-18T00:00:00",
          "2022-06-22T00:00:00",
          "2022-06-25T00:00:00",
          "2022-06-29T00:00:00",
          "2022-07-02T00:00:00",
          "2022-07-06T00:00:00",
          "2022-07-09T00:00:00",
          "2022-07-13T00:00:00",
          "2022-07-16T00:00:00",
          "2022-07-20T00:00:00",
          "2022-07-23T00:00:00",
          "2022-07-27T00:00:00",
          "2022-07-30T00:00:00",
          "2022-08-03T00:00:00",
          "2022-08-06T00:00:00",
          "2022-08-10T00:00:00",
          "2022-08-13T00:00:00",
          "2022-08-17T00:00:00",
          "2022-08-20T00:00:00",
          "2022-08-24T00:00:00",
          "2022-08-27T00:00:00",
          "2022-08-31T00:00:00",
          "2022-09-03T00:00:00",
          "2022-09-07T00:00:00",
          "2022-09-10T00:00:00",
          "2022-09-14T00:00:00",
          "2022-09-17T00:00:00",
          "2022-09-21T00:00:00",
          "2022-09-24T00:00:00",
          "2022-09-28T00:00:00",
          "2022-10-01T00:00:00",
          "2022-10-05T00:00:00",
          "2022-10-08T00:00:00",
          "2022-10-12T00:00:00",
          "2022-10-15T00:00:00",
          "2022-10-19T00:00:00",
          "2022-10-22T00:00:00",
          "2022-10-26T00:00:00",
          "2022-10-29T00:00:00",
          "2022-11-02T00:00:00",
          "2022-11-05T00:00:00",
          "2022-11-09T00:00:00",
          "2022-11-12T00:00:00",
          "2022-11-16T00:00:00",
          "2022-11-19T00:00:00",
          "2022-11-23T00:00:00",
          "2022-11-26T00:00:00",
          "2022-11-30T00:00:00",
          "2022-12-03T00:00:00",
          "2022-12-07T00:00:00",
          "2022-12-10T00:00:00",
          "2022-12-14T00:00:00",
          "2022-12-17T00:00:00",
          "2022-12-21T00:00:00",
          "2022-12-24T00:00:00",
          "2022-12-28T00:00:00",
          "2022-12-31T00:00:00",
          "2023-01-04T00:00:00",
          "2023-01-07T00:00:00",
          "2023-01-11T00:00:00",
          "2023-01-14T00:00:00",
          "2023-01-18T00:00:00",
          "2023-01-21T00:00:00",
          "2023-01-25T00:00:00",
          "2023-01-28T00:00:00",
          "2023-02-01T00:00:00",
          "2023-02-04T00:00:00",
          "2023-02-08T00:00:00",
          "2023-02-11T00:00:00",
          "2023-02-15T00:00:00",
          "2023-02-18T00:00:00",
          "2023-02-22T00:00:00",
          "2023-02-25T00:00:00",
          "2023-03-01T00:00:00",
          "2023-03-04T00:00:00",
          "2023-03-08T00:00:00",
          "2023-03-11T00:00:00",
          "2023-03-15T00:00:00",
          "2023-03-18T00:00:00",
          "2023-03-22T00:00:00",
          "2023-03-25T00:00:00",
          "2023-03-29T00:00:00",
          "2023-04-01T00:00:00",
          "2023-04-05T00:00:00",
          "2023-04-08T00:00:00",
          "2023-04-12T00:00:00",
          "2023-04-15T00:00:00",
          "2023-04-19T00:00:00",
          "2023-04-22T00:00:00",
          "2023-04-26T00:00:00",
          "2023-04-29T00:00:00",
          "2023-05-03T00:00:00",
          "2023-05-06T00:00:00",
          "2023-05-10T00:00:00",
          "2023-05-13T00:00:00",
          "2023-05-17T00:00:00",
          "2023-05-20T00:00:00",
          "2023-05-24T00:00:00",
          "2023-05-27T00:00:00",
          "2023-05-31T00:00:00",
          "2023-06-03T00:00:00",
          "2023-06-07T00:00:00",
          "2023-06-10T00:00:00",
          "2023-06-14T00:00:00",
          "2023-06-17T00:00:00",
          "2023-06-21T00:00:00",
          "2023-06-24T00:00:00",
          "2023-06-28T00:00:00",
          "2023-07-01T00:00:00",
          "2023-07-05T00:00:00",
          "2023-07-08T00:00:00",
          "2023-07-12T00:00:00",
          "2023-07-15T00:00:00",
          "2023-07-19T00:00:00",
          "2023-07-22T00:00:00",
          "2023-07-26T00:00:00",
          "2023-07-29T00:00:00",
          "2023-08-02T00:00:00",
          "2023-08-05T00:00:00",
          "2023-08-09T00:00:00",
          "2023-08-12T00:00:00",
          "2023-08-16T00:00:00",
          "2023-08-19T00:00:00",
          "2023-08-23T00:00:00",
          "2023-08-26T00:00:00",
          "2023-08-30T00:00:00",
          "2023-09-02T00:00:00",
          "2023-09-06T00:00:00",
          "2023-09-09T00:00:00",
          "2023-09-13T00:00:00",
          "2023-09-16T00:00:00",
          "2023-09-20T00:00:00",
          "2023-09-23T00:00:00",
          "2023-09-27T00:00:00",
          "2023-09-30T00:00:00",
          "2023-10-04T00:00:00",
          "2023-10-07T00:00:00",
          "2023-10-11T00:00:00",
          "2023-10-14T00:00:00",
          "2023-10-18T00:00:00",
          "2023-10-21T00:00:00",
          "2023-10-25T00:00:00",
          "2023-10-28T00:00:00",
          "2023-11-01T00:00:00",
          "2023-11-04T00:00:00",
          "2023-11-08T00:00:00",
          "2023-11-11T00:00:00",
          "2023-11-15T00:00:00",
          "2023-11-18T00:00:00",
          "2023-11-22T00:00:00",
          "2023-11-25T00:00:00",
          "2023-11-29T00:00:00",
          "2023-12-02T00:00:00",
          "2023-12-06T00:00:00",
          "2023-12-09T00:00:00",
          "2023-12-13T00:00:00",
          "2023-12-16T00:00:00",
          "2023-12-20T00:00:00",
          "2023-12-23T00:00:00",
          "2023-12-27T00:00:00",
          "2023-12-30T00:00:00",
          "2024-01-03T00:00:00",
          "2024-01-06T00:00:00",
          "2024-01-10T00:00:00",
          "2024-01-13T00:00:00",
          "2024-01-17T00:00:00",
          "2024-01-20T00:00:00",
          "2024-01-24T00:00:00",
          "2024-01-27T00:00:00",
          "2024-01-31T00:00:00",
          "2024-02-03T00:00:00",
          "2024-02-07T00:00:00",
          "2024-02-10T00:00:00",
          "2024-02-14T00:00:00",
          "2024-02-17T00:00:00",
          "2024-02-21T00:00:00",
          "2024-02-24T00:00:00",
          "2024-02-28T00:00:00",
          "2024-03-02T00:00:00",
          "2024-03-06T00:00:00",
          "2024-03-09T00:00:00",
          "2024-03-13T00:00:00",
          "2024-03-16T00:00:00",
          "2024-03-20T00:00:00",
          "2024-03-23T00:00:00",
          "2024-03-27T00:00:00",
          "2024-03-30T00:00:00",
          "2024-04-03T00:00:00",
          "2024-04-06T00:00:00",
          "2024-04-10T00:00:00",
          "2024-04-13T00:00:00",
          "2024-04-17T00:00:00",
          "2024-04-20T00:00:00",
          "2024-04-24T00:00:00",
          "2024-04-27T00:00:00",
          "2024-05-01T00:00:00",
          "2024-05-04T00:00:00",
          "2024-05-08T00:00:00",
          "2024-05-11T00:00:00",
          "2024-05-15T00:00:00",
          "2024-05-18T00:00:00",
          "2024-05-22T00:00:00",
          "2024-05-25T00:00:00",
          "2024-05-29T00:00:00",
          "2024-06-01T00:00:00",
          "2024-06-05T00:00:00",
          "2024-06-08T00:00:00"
         ],
         "xaxis": "x",
         "y": [
          23,
          5,
          8,
          23,
          5,
          12,
          29,
          9,
          12,
          15,
          4,
          14,
          15,
          8,
          5,
          19,
          21,
          29,
          22,
          9,
          15,
          8,
          18,
          9,
          22,
          22,
          27,
          10,
          18,
          9,
          14,
          12,
          14,
          18,
          18,
          7,
          30,
          14,
          9,
          20,
          10,
          19,
          17,
          28,
          16,
          20,
          15,
          2,
          8,
          14,
          5,
          14,
          19,
          13,
          5,
          35,
          6,
          7,
          15,
          25,
          13,
          15,
          11,
          4,
          8,
          15,
          18,
          11,
          5,
          24,
          19,
          33,
          11,
          2,
          13,
          17,
          5,
          15,
          18,
          9,
          9,
          6,
          7,
          18,
          22,
          13,
          8,
          20,
          4,
          18,
          4,
          11,
          27,
          9,
          23,
          6,
          7,
          24,
          27,
          9,
          5,
          16,
          16,
          9,
          5,
          27,
          18,
          26,
          7,
          20,
          19,
          10,
          20,
          17,
          24,
          6,
          24,
          7,
          14,
          28,
          9,
          24,
          8,
          8,
          8,
          23,
          9,
          11,
          8,
          20,
          14,
          8,
          13,
          14,
          6,
          8,
          14,
          18,
          13,
          16,
          5,
          15,
          9,
          13,
          25,
          4,
          8,
          4,
          5,
          3,
          3,
          21,
          21,
          8,
          4,
          12,
          10,
          28,
          19,
          14,
          11,
          9,
          26,
          9,
          9,
          16,
          19,
          14,
          9,
          15,
          10,
          27,
          9,
          8,
          11,
          32,
          25,
          17,
          23,
          29,
          7,
          7,
          14,
          12,
          10,
          8,
          11,
          15,
          20,
          8,
          14,
          23,
          5,
          26,
          13,
          4,
          15,
          16,
          17,
          22,
          4,
          5,
          5,
          20,
          21,
          18,
          18,
          10,
          20,
          13,
          26,
          14,
          14,
          5,
          4,
          6,
          10,
          5,
          27,
          9,
          13,
          11,
          11,
          25,
          15,
          16,
          26,
          16,
          15,
          27,
          15,
          13,
          15,
          6,
          9,
          19,
          7,
          12,
          20,
          10,
          10,
          15,
          14,
          8,
          3,
          33,
          18,
          11,
          29,
          3,
          20,
          20,
          15,
          22,
          23,
          5,
          15,
          21,
          18,
          22,
          20,
          9,
          2,
          11,
          11,
          16,
          19,
          18,
          11,
          11,
          14,
          25,
          10,
          25,
          5,
          6,
          11,
          9,
          13,
          20,
          27,
          11,
          3,
          25,
          23,
          20,
          24,
          14,
          20,
          11,
          14,
          8,
          21,
          7,
          22,
          14,
          17,
          25,
          14,
          20,
          12,
          22,
          23,
          3,
          21,
          20,
          24,
          5,
          16,
          26,
          12,
          20,
          13,
          23,
          10,
          16,
          11,
          4,
          19,
          11,
          18,
          8,
          22,
          19,
          16
         ],
         "yaxis": "y"
        }
       ],
       "layout": {
        "barmode": "relative",
        "legend": {
         "tracegroupgap": 0
        },
        "margin": {
         "t": 60
        },
        "template": {
         "data": {
          "bar": [
           {
            "error_x": {
             "color": "#2a3f5f"
            },
            "error_y": {
             "color": "#2a3f5f"
            },
            "marker": {
             "line": {
              "color": "#E5ECF6",
              "width": 0.5
             },
             "pattern": {
              "fillmode": "overlay",
              "size": 10,
              "solidity": 0.2
             }
            },
            "type": "bar"
           }
          ],
          "barpolar": [
           {
            "marker": {
             "line": {
              "color": "#E5ECF6",
              "width": 0.5
             },
             "pattern": {
              "fillmode": "overlay",
              "size": 10,
              "solidity": 0.2
             }
            },
            "type": "barpolar"
           }
          ],
          "carpet": [
           {
            "aaxis": {
             "endlinecolor": "#2a3f5f",
             "gridcolor": "white",
             "linecolor": "white",
             "minorgridcolor": "white",
             "startlinecolor": "#2a3f5f"
            },
            "baxis": {
             "endlinecolor": "#2a3f5f",
             "gridcolor": "white",
             "linecolor": "white",
             "minorgridcolor": "white",
             "startlinecolor": "#2a3f5f"
            },
            "type": "carpet"
           }
          ],
          "choropleth": [
           {
            "colorbar": {
             "outlinewidth": 0,
             "ticks": ""
            },
            "type": "choropleth"
           }
          ],
          "contour": [
           {
            "colorbar": {
             "outlinewidth": 0,
             "ticks": ""
            },
            "colorscale": [
             [
              0,
              "#0d0887"
             ],
             [
              0.1111111111111111,
              "#46039f"
             ],
             [
              0.2222222222222222,
              "#7201a8"
             ],
             [
              0.3333333333333333,
              "#9c179e"
             ],
             [
              0.4444444444444444,
              "#bd3786"
             ],
             [
              0.5555555555555556,
              "#d8576b"
             ],
             [
              0.6666666666666666,
              "#ed7953"
             ],
             [
              0.7777777777777778,
              "#fb9f3a"
             ],
             [
              0.8888888888888888,
              "#fdca26"
             ],
             [
              1,
              "#f0f921"
             ]
            ],
            "type": "contour"
           }
          ],
          "contourcarpet": [
           {
            "colorbar": {
             "outlinewidth": 0,
             "ticks": ""
            },
            "type": "contourcarpet"
           }
          ],
          "heatmap": [
           {
            "colorbar": {
             "outlinewidth": 0,
             "ticks": ""
            },
            "colorscale": [
             [
              0,
              "#0d0887"
             ],
             [
              0.1111111111111111,
              "#46039f"
             ],
             [
              0.2222222222222222,
              "#7201a8"
             ],
             [
              0.3333333333333333,
              "#9c179e"
             ],
             [
              0.4444444444444444,
              "#bd3786"
             ],
             [
              0.5555555555555556,
              "#d8576b"
             ],
             [
              0.6666666666666666,
              "#ed7953"
             ],
             [
              0.7777777777777778,
              "#fb9f3a"
             ],
             [
              0.8888888888888888,
              "#fdca26"
             ],
             [
              1,
              "#f0f921"
             ]
            ],
            "type": "heatmap"
           }
          ],
          "heatmapgl": [
           {
            "colorbar": {
             "outlinewidth": 0,
             "ticks": ""
            },
            "colorscale": [
             [
              0,
              "#0d0887"
             ],
             [
              0.1111111111111111,
              "#46039f"
             ],
             [
              0.2222222222222222,
              "#7201a8"
             ],
             [
              0.3333333333333333,
              "#9c179e"
             ],
             [
              0.4444444444444444,
              "#bd3786"
             ],
             [
              0.5555555555555556,
              "#d8576b"
             ],
             [
              0.6666666666666666,
              "#ed7953"
             ],
             [
              0.7777777777777778,
              "#fb9f3a"
             ],
             [
              0.8888888888888888,
              "#fdca26"
             ],
             [
              1,
              "#f0f921"
             ]
            ],
            "type": "heatmapgl"
           }
          ],
          "histogram": [
           {
            "marker": {
             "pattern": {
              "fillmode": "overlay",
              "size": 10,
              "solidity": 0.2
             }
            },
            "type": "histogram"
           }
          ],
          "histogram2d": [
           {
            "colorbar": {
             "outlinewidth": 0,
             "ticks": ""
            },
            "colorscale": [
             [
              0,
              "#0d0887"
             ],
             [
              0.1111111111111111,
              "#46039f"
             ],
             [
              0.2222222222222222,
              "#7201a8"
             ],
             [
              0.3333333333333333,
              "#9c179e"
             ],
             [
              0.4444444444444444,
              "#bd3786"
             ],
             [
              0.5555555555555556,
              "#d8576b"
             ],
             [
              0.6666666666666666,
              "#ed7953"
             ],
             [
              0.7777777777777778,
              "#fb9f3a"
             ],
             [
              0.8888888888888888,
              "#fdca26"
             ],
             [
              1,
              "#f0f921"
             ]
            ],
            "type": "histogram2d"
           }
          ],
          "histogram2dcontour": [
           {
            "colorbar": {
             "outlinewidth": 0,
             "ticks": ""
            },
            "colorscale": [
             [
              0,
              "#0d0887"
             ],
             [
              0.1111111111111111,
              "#46039f"
             ],
             [
              0.2222222222222222,
              "#7201a8"
             ],
             [
              0.3333333333333333,
              "#9c179e"
             ],
             [
              0.4444444444444444,
              "#bd3786"
             ],
             [
              0.5555555555555556,
              "#d8576b"
             ],
             [
              0.6666666666666666,
              "#ed7953"
             ],
             [
              0.7777777777777778,
              "#fb9f3a"
             ],
             [
              0.8888888888888888,
              "#fdca26"
             ],
             [
              1,
              "#f0f921"
             ]
            ],
            "type": "histogram2dcontour"
           }
          ],
          "mesh3d": [
           {
            "colorbar": {
             "outlinewidth": 0,
             "ticks": ""
            },
            "type": "mesh3d"
           }
          ],
          "parcoords": [
           {
            "line": {
             "colorbar": {
              "outlinewidth": 0,
              "ticks": ""
             }
            },
            "type": "parcoords"
           }
          ],
          "pie": [
           {
            "automargin": true,
            "type": "pie"
           }
          ],
          "scatter": [
           {
            "fillpattern": {
             "fillmode": "overlay",
             "size": 10,
             "solidity": 0.2
            },
            "type": "scatter"
           }
          ],
          "scatter3d": [
           {
            "line": {
             "colorbar": {
              "outlinewidth": 0,
              "ticks": ""
             }
            },
            "marker": {
             "colorbar": {
              "outlinewidth": 0,
              "ticks": ""
             }
            },
            "type": "scatter3d"
           }
          ],
          "scattercarpet": [
           {
            "marker": {
             "colorbar": {
              "outlinewidth": 0,
              "ticks": ""
             }
            },
            "type": "scattercarpet"
           }
          ],
          "scattergeo": [
           {
            "marker": {
             "colorbar": {
              "outlinewidth": 0,
              "ticks": ""
             }
            },
            "type": "scattergeo"
           }
          ],
          "scattergl": [
           {
            "marker": {
             "colorbar": {
              "outlinewidth": 0,
              "ticks": ""
             }
            },
            "type": "scattergl"
           }
          ],
          "scattermapbox": [
           {
            "marker": {
             "colorbar": {
              "outlinewidth": 0,
              "ticks": ""
             }
            },
            "type": "scattermapbox"
           }
          ],
          "scatterpolar": [
           {
            "marker": {
             "colorbar": {
              "outlinewidth": 0,
              "ticks": ""
             }
            },
            "type": "scatterpolar"
           }
          ],
          "scatterpolargl": [
           {
            "marker": {
             "colorbar": {
              "outlinewidth": 0,
              "ticks": ""
             }
            },
            "type": "scatterpolargl"
           }
          ],
          "scatterternary": [
           {
            "marker": {
             "colorbar": {
              "outlinewidth": 0,
              "ticks": ""
             }
            },
            "type": "scatterternary"
           }
          ],
          "surface": [
           {
            "colorbar": {
             "outlinewidth": 0,
             "ticks": ""
            },
            "colorscale": [
             [
              0,
              "#0d0887"
             ],
             [
              0.1111111111111111,
              "#46039f"
             ],
             [
              0.2222222222222222,
              "#7201a8"
             ],
             [
              0.3333333333333333,
              "#9c179e"
             ],
             [
              0.4444444444444444,
              "#bd3786"
             ],
             [
              0.5555555555555556,
              "#d8576b"
             ],
             [
              0.6666666666666666,
              "#ed7953"
             ],
             [
              0.7777777777777778,
              "#fb9f3a"
             ],
             [
              0.8888888888888888,
              "#fdca26"
             ],
             [
              1,
              "#f0f921"
             ]
            ],
            "type": "surface"
           }
          ],
          "table": [
           {
            "cells": {
             "fill": {
              "color": "#EBF0F8"
             },
             "line": {
              "color": "white"
             }
            },
            "header": {
             "fill": {
              "color": "#C8D4E3"
             },
             "line": {
              "color": "white"
             }
            },
            "type": "table"
           }
          ]
         },
         "layout": {
          "annotationdefaults": {
           "arrowcolor": "#2a3f5f",
           "arrowhead": 0,
           "arrowwidth": 1
          },
          "autotypenumbers": "strict",
          "coloraxis": {
           "colorbar": {
            "outlinewidth": 0,
            "ticks": ""
           }
          },
          "colorscale": {
           "diverging": [
            [
             0,
             "#8e0152"
            ],
            [
             0.1,
             "#c51b7d"
            ],
            [
             0.2,
             "#de77ae"
            ],
            [
             0.3,
             "#f1b6da"
            ],
            [
             0.4,
             "#fde0ef"
            ],
            [
             0.5,
             "#f7f7f7"
            ],
            [
             0.6,
             "#e6f5d0"
            ],
            [
             0.7,
             "#b8e186"
            ],
            [
             0.8,
             "#7fbc41"
            ],
            [
             0.9,
             "#4d9221"
            ],
            [
             1,
             "#276419"
            ]
           ],
           "sequential": [
            [
             0,
             "#0d0887"
            ],
            [
             0.1111111111111111,
             "#46039f"
            ],
            [
             0.2222222222222222,
             "#7201a8"
            ],
            [
             0.3333333333333333,
             "#9c179e"
            ],
            [
             0.4444444444444444,
             "#bd3786"
            ],
            [
             0.5555555555555556,
             "#d8576b"
            ],
            [
             0.6666666666666666,
             "#ed7953"
            ],
            [
             0.7777777777777778,
             "#fb9f3a"
            ],
            [
             0.8888888888888888,
             "#fdca26"
            ],
            [
             1,
             "#f0f921"
            ]
           ],
           "sequentialminus": [
            [
             0,
             "#0d0887"
            ],
            [
             0.1111111111111111,
             "#46039f"
            ],
            [
             0.2222222222222222,
             "#7201a8"
            ],
            [
             0.3333333333333333,
             "#9c179e"
            ],
            [
             0.4444444444444444,
             "#bd3786"
            ],
            [
             0.5555555555555556,
             "#d8576b"
            ],
            [
             0.6666666666666666,
             "#ed7953"
            ],
            [
             0.7777777777777778,
             "#fb9f3a"
            ],
            [
             0.8888888888888888,
             "#fdca26"
            ],
            [
             1,
             "#f0f921"
            ]
           ]
          },
          "colorway": [
           "#636efa",
           "#EF553B",
           "#00cc96",
           "#ab63fa",
           "#FFA15A",
           "#19d3f3",
           "#FF6692",
           "#B6E880",
           "#FF97FF",
           "#FECB52"
          ],
          "font": {
           "color": "#2a3f5f"
          },
          "geo": {
           "bgcolor": "white",
           "lakecolor": "white",
           "landcolor": "#E5ECF6",
           "showlakes": true,
           "showland": true,
           "subunitcolor": "white"
          },
          "hoverlabel": {
           "align": "left"
          },
          "hovermode": "closest",
          "mapbox": {
           "style": "light"
          },
          "paper_bgcolor": "white",
          "plot_bgcolor": "#E5ECF6",
          "polar": {
           "angularaxis": {
            "gridcolor": "white",
            "linecolor": "white",
            "ticks": ""
           },
           "bgcolor": "#E5ECF6",
           "radialaxis": {
            "gridcolor": "white",
            "linecolor": "white",
            "ticks": ""
           }
          },
          "scene": {
           "xaxis": {
            "backgroundcolor": "#E5ECF6",
            "gridcolor": "white",
            "gridwidth": 2,
            "linecolor": "white",
            "showbackground": true,
            "ticks": "",
            "zerolinecolor": "white"
           },
           "yaxis": {
            "backgroundcolor": "#E5ECF6",
            "gridcolor": "white",
            "gridwidth": 2,
            "linecolor": "white",
            "showbackground": true,
            "ticks": "",
            "zerolinecolor": "white"
           },
           "zaxis": {
            "backgroundcolor": "#E5ECF6",
            "gridcolor": "white",
            "gridwidth": 2,
            "linecolor": "white",
            "showbackground": true,
            "ticks": "",
            "zerolinecolor": "white"
           }
          },
          "shapedefaults": {
           "line": {
            "color": "#2a3f5f"
           }
          },
          "ternary": {
           "aaxis": {
            "gridcolor": "white",
            "linecolor": "white",
            "ticks": ""
           },
           "baxis": {
            "gridcolor": "white",
            "linecolor": "white",
            "ticks": ""
           },
           "bgcolor": "#E5ECF6",
           "caxis": {
            "gridcolor": "white",
            "linecolor": "white",
            "ticks": ""
           }
          },
          "title": {
           "x": 0.05
          },
          "xaxis": {
           "automargin": true,
           "gridcolor": "white",
           "linecolor": "white",
           "ticks": "",
           "title": {
            "standoff": 15
           },
           "zerolinecolor": "white",
           "zerolinewidth": 2
          },
          "yaxis": {
           "automargin": true,
           "gridcolor": "white",
           "linecolor": "white",
           "ticks": "",
           "title": {
            "standoff": 15
           },
           "zerolinecolor": "white",
           "zerolinewidth": 2
          }
         }
        },
        "xaxis": {
         "anchor": "y",
         "domain": [
          0,
          1
         ],
         "title": {
          "text": "fecha_sorteo"
         }
        },
        "yaxis": {
         "anchor": "x",
         "domain": [
          0,
          1
         ],
         "title": {
          "text": "sum of B2"
         }
        }
       }
      }
     },
     "metadata": {},
     "output_type": "display_data"
    }
   ],
   "source": [
    "fig = px.histogram(df_baloto_revancha[df_baloto_revancha['tipo_sorteo'] == 'baloto'], x='fecha_sorteo', y='B2', nbins=325)\n",
    "fig.show()"
   ]
  },
  {
   "cell_type": "code",
   "execution_count": 8,
   "metadata": {},
   "outputs": [
    {
     "data": {
      "text/html": [
       "<div>\n",
       "<style scoped>\n",
       "    .dataframe tbody tr th:only-of-type {\n",
       "        vertical-align: middle;\n",
       "    }\n",
       "\n",
       "    .dataframe tbody tr th {\n",
       "        vertical-align: top;\n",
       "    }\n",
       "\n",
       "    .dataframe thead th {\n",
       "        text-align: right;\n",
       "    }\n",
       "</style>\n",
       "<table border=\"1\" class=\"dataframe\">\n",
       "  <thead>\n",
       "    <tr style=\"text-align: right;\">\n",
       "      <th></th>\n",
       "      <th>B1</th>\n",
       "      <th>B2</th>\n",
       "      <th>B3</th>\n",
       "      <th>B4</th>\n",
       "      <th>B5</th>\n",
       "      <th>SB</th>\n",
       "      <th>numero_sorteo</th>\n",
       "      <th>mes</th>\n",
       "      <th>trimestre</th>\n",
       "    </tr>\n",
       "  </thead>\n",
       "  <tbody>\n",
       "    <tr>\n",
       "      <th>B1</th>\n",
       "      <td>1.000000</td>\n",
       "      <td>0.671141</td>\n",
       "      <td>0.513054</td>\n",
       "      <td>0.353378</td>\n",
       "      <td>0.242549</td>\n",
       "      <td>-0.010050</td>\n",
       "      <td>0.009471</td>\n",
       "      <td>-0.026138</td>\n",
       "      <td>0.022301</td>\n",
       "    </tr>\n",
       "    <tr>\n",
       "      <th>B2</th>\n",
       "      <td>0.671141</td>\n",
       "      <td>1.000000</td>\n",
       "      <td>0.711634</td>\n",
       "      <td>0.502518</td>\n",
       "      <td>0.280995</td>\n",
       "      <td>0.040826</td>\n",
       "      <td>0.058402</td>\n",
       "      <td>-0.091889</td>\n",
       "      <td>-0.011859</td>\n",
       "    </tr>\n",
       "    <tr>\n",
       "      <th>B3</th>\n",
       "      <td>0.513054</td>\n",
       "      <td>0.711634</td>\n",
       "      <td>1.000000</td>\n",
       "      <td>0.682247</td>\n",
       "      <td>0.416339</td>\n",
       "      <td>-0.011836</td>\n",
       "      <td>0.068201</td>\n",
       "      <td>-0.102911</td>\n",
       "      <td>-0.060649</td>\n",
       "    </tr>\n",
       "    <tr>\n",
       "      <th>B4</th>\n",
       "      <td>0.353378</td>\n",
       "      <td>0.502518</td>\n",
       "      <td>0.682247</td>\n",
       "      <td>1.000000</td>\n",
       "      <td>0.634785</td>\n",
       "      <td>-0.025783</td>\n",
       "      <td>-0.003279</td>\n",
       "      <td>-0.085468</td>\n",
       "      <td>-0.037373</td>\n",
       "    </tr>\n",
       "    <tr>\n",
       "      <th>B5</th>\n",
       "      <td>0.242549</td>\n",
       "      <td>0.280995</td>\n",
       "      <td>0.416339</td>\n",
       "      <td>0.634785</td>\n",
       "      <td>1.000000</td>\n",
       "      <td>-0.078167</td>\n",
       "      <td>-0.023752</td>\n",
       "      <td>-0.112962</td>\n",
       "      <td>-0.020865</td>\n",
       "    </tr>\n",
       "    <tr>\n",
       "      <th>SB</th>\n",
       "      <td>-0.010050</td>\n",
       "      <td>0.040826</td>\n",
       "      <td>-0.011836</td>\n",
       "      <td>-0.025783</td>\n",
       "      <td>-0.078167</td>\n",
       "      <td>1.000000</td>\n",
       "      <td>-0.051704</td>\n",
       "      <td>0.056226</td>\n",
       "      <td>0.006336</td>\n",
       "    </tr>\n",
       "    <tr>\n",
       "      <th>numero_sorteo</th>\n",
       "      <td>0.009471</td>\n",
       "      <td>0.058402</td>\n",
       "      <td>0.068201</td>\n",
       "      <td>-0.003279</td>\n",
       "      <td>-0.023752</td>\n",
       "      <td>-0.051704</td>\n",
       "      <td>1.000000</td>\n",
       "      <td>-0.122414</td>\n",
       "      <td>-0.153253</td>\n",
       "    </tr>\n",
       "    <tr>\n",
       "      <th>mes</th>\n",
       "      <td>-0.026138</td>\n",
       "      <td>-0.091889</td>\n",
       "      <td>-0.102911</td>\n",
       "      <td>-0.085468</td>\n",
       "      <td>-0.112962</td>\n",
       "      <td>0.056226</td>\n",
       "      <td>-0.122414</td>\n",
       "      <td>1.000000</td>\n",
       "      <td>0.568861</td>\n",
       "    </tr>\n",
       "    <tr>\n",
       "      <th>trimestre</th>\n",
       "      <td>0.022301</td>\n",
       "      <td>-0.011859</td>\n",
       "      <td>-0.060649</td>\n",
       "      <td>-0.037373</td>\n",
       "      <td>-0.020865</td>\n",
       "      <td>0.006336</td>\n",
       "      <td>-0.153253</td>\n",
       "      <td>0.568861</td>\n",
       "      <td>1.000000</td>\n",
       "    </tr>\n",
       "  </tbody>\n",
       "</table>\n",
       "</div>"
      ],
      "text/plain": [
       "                     B1        B2        B3        B4        B5        SB  \\\n",
       "B1             1.000000  0.671141  0.513054  0.353378  0.242549 -0.010050   \n",
       "B2             0.671141  1.000000  0.711634  0.502518  0.280995  0.040826   \n",
       "B3             0.513054  0.711634  1.000000  0.682247  0.416339 -0.011836   \n",
       "B4             0.353378  0.502518  0.682247  1.000000  0.634785 -0.025783   \n",
       "B5             0.242549  0.280995  0.416339  0.634785  1.000000 -0.078167   \n",
       "SB            -0.010050  0.040826 -0.011836 -0.025783 -0.078167  1.000000   \n",
       "numero_sorteo  0.009471  0.058402  0.068201 -0.003279 -0.023752 -0.051704   \n",
       "mes           -0.026138 -0.091889 -0.102911 -0.085468 -0.112962  0.056226   \n",
       "trimestre      0.022301 -0.011859 -0.060649 -0.037373 -0.020865  0.006336   \n",
       "\n",
       "               numero_sorteo       mes  trimestre  \n",
       "B1                  0.009471 -0.026138   0.022301  \n",
       "B2                  0.058402 -0.091889  -0.011859  \n",
       "B3                  0.068201 -0.102911  -0.060649  \n",
       "B4                 -0.003279 -0.085468  -0.037373  \n",
       "B5                 -0.023752 -0.112962  -0.020865  \n",
       "SB                 -0.051704  0.056226   0.006336  \n",
       "numero_sorteo       1.000000 -0.122414  -0.153253  \n",
       "mes                -0.122414  1.000000   0.568861  \n",
       "trimestre          -0.153253  0.568861   1.000000  "
      ]
     },
     "execution_count": 8,
     "metadata": {},
     "output_type": "execute_result"
    }
   ],
   "source": [
    "df_baloto_revancha[df_baloto_revancha['tipo_sorteo'] == 'baloto'].corr(numeric_only=True)"
   ]
  },
  {
   "cell_type": "code",
   "execution_count": 9,
   "metadata": {},
   "outputs": [
    {
     "data": {
      "image/png": "[encoded data removed]",
      "text/plain": [
       "<Figure size 640x480 with 2 Axes>"
      ]
     },
     "metadata": {},
     "output_type": "display_data"
    }
   ],
   "source": [
    "sns.heatmap(df_baloto_revancha[df_baloto_revancha['tipo_sorteo'] == 'baloto'].corr(numeric_only=True), annot=True);"
   ]
  },
  {
   "cell_type": "code",
   "execution_count": 12,
   "metadata": {},
   "outputs": [],
   "source": [
    "# Inicializar los contadores de frecuencia\n",
    "frecuencia_balotas = defaultdict(int)\n",
    "frecuencia_adicional = defaultdict(int)\n",
    "\n",
    "# Contar la frecuencia de aparición de las balotas principales y la balota adicional\n",
    "for _, row in df_baloto_revancha[df_baloto_revancha['tipo_sorteo'] == 'baloto'].iterrows():\n",
    "    for i in range(1, 6):\n",
    "        balota = row[f'B{i}']\n",
    "        frecuencia_balotas[balota] += 1\n",
    "\n",
    "    balota_adicional = row['SB']\n",
    "    frecuencia_adicional[balota_adicional] += 1"
   ]
  },
  {
   "cell_type": "code",
   "execution_count": 13,
   "metadata": {},
   "outputs": [
    {
     "name": "stdout",
     "output_type": "stream",
     "text": [
      "Frecuencia de balotas principales del 1 al 43:\n",
      "Balota 1: 39 veces\n",
      "Balota 2: 40 veces\n",
      "Balota 3: 33 veces\n",
      "Balota 4: 34 veces\n",
      "Balota 5: 45 veces\n",
      "Balota 6: 30 veces\n",
      "Balota 7: 36 veces\n",
      "Balota 8: 42 veces\n",
      "Balota 9: 44 veces\n",
      "Balota 10: 26 veces\n",
      "Balota 11: 39 veces\n",
      "Balota 12: 36 veces\n",
      "Balota 13: 32 veces\n",
      "Balota 14: 46 veces\n",
      "Balota 15: 41 veces\n",
      "Balota 16: 36 veces\n",
      "Balota 17: 27 veces\n",
      "Balota 18: 34 veces\n",
      "Balota 19: 38 veces\n",
      "Balota 20: 46 veces\n",
      "Balota 21: 38 veces\n",
      "Balota 22: 43 veces\n",
      "Balota 23: 35 veces\n",
      "Balota 24: 37 veces\n",
      "Balota 25: 47 veces\n",
      "Balota 26: 37 veces\n",
      "Balota 27: 45 veces\n",
      "Balota 28: 34 veces\n",
      "Balota 29: 35 veces\n",
      "Balota 30: 42 veces\n",
      "Balota 31: 38 veces\n",
      "Balota 32: 38 veces\n",
      "Balota 33: 38 veces\n",
      "Balota 34: 34 veces\n",
      "Balota 35: 41 veces\n",
      "Balota 36: 35 veces\n",
      "Balota 37: 36 veces\n",
      "Balota 38: 34 veces\n",
      "Balota 39: 40 veces\n",
      "Balota 40: 34 veces\n",
      "Balota 41: 34 veces\n",
      "Balota 42: 45 veces\n",
      "Balota 43: 41 veces\n"
     ]
    }
   ],
   "source": [
    "# Mostrar los resultados\n",
    "print(\"Frecuencia de balotas principales del 1 al 43:\")\n",
    "for num in range(1, 44):\n",
    "    print(f\"Balota {num}: {frecuencia_balotas[num]} veces\")"
   ]
  },
  {
   "cell_type": "code",
   "execution_count": 53,
   "metadata": {},
   "outputs": [
    {
     "name": "stderr",
     "output_type": "stream",
     "text": [
      "C:\\Users\\sebas\\AppData\\Local\\Temp\\ipykernel_16248\\2178174066.py:2: DeprecationWarning:\n",
      "\n",
      "DataFrameGroupBy.apply operated on the grouping columns. This behavior is deprecated, and in a future version of pandas the grouping columns will be excluded from the operation. Either pass `include_groups=False` to exclude the groupings or explicitly select the grouping columns after groupby to silence this warning.\n",
      "\n",
      "C:\\Users\\sebas\\AppData\\Local\\Temp\\ipykernel_16248\\2178174066.py:5: DeprecationWarning:\n",
      "\n",
      "DataFrameGroupBy.apply operated on the grouping columns. This behavior is deprecated, and in a future version of pandas the grouping columns will be excluded from the operation. Either pass `include_groups=False` to exclude the groupings or explicitly select the grouping columns after groupby to silence this warning.\n",
      "\n",
      "C:\\Users\\sebas\\AppData\\Local\\Temp\\ipykernel_16248\\2178174066.py:8: DeprecationWarning:\n",
      "\n",
      "DataFrameGroupBy.apply operated on the grouping columns. This behavior is deprecated, and in a future version of pandas the grouping columns will be excluded from the operation. Either pass `include_groups=False` to exclude the groupings or explicitly select the grouping columns after groupby to silence this warning.\n",
      "\n"
     ]
    }
   ],
   "source": [
    "# Frecuencia de balotas por día de la semana\n",
    "frecuencia_dia_semana = df_baloto_revancha[df_baloto_revancha['tipo_sorteo'] == 'baloto'].groupby('dia_semana').apply(lambda x: x[['B1', 'B2', 'B3', 'B4', 'B5']].stack().value_counts()).unstack().fillna(0)\n",
    "\n",
    "# Frecuencia de balotas por mes\n",
    "frecuencia_mes = df_baloto_revancha[df_baloto_revancha['tipo_sorteo'] == 'baloto'].groupby('mes').apply(lambda x: x[['B1', 'B2', 'B3', 'B4', 'B5']].stack().value_counts()).unstack().fillna(0)\n",
    "\n",
    "# Frecuencia de balotas por estación del año\n",
    "frecuencia_epoca = df_baloto_revancha[df_baloto_revancha['tipo_sorteo'] == 'baloto'].groupby('trimestre').apply(lambda x: x[['B1', 'B2', 'B3', 'B4', 'B5']].stack().value_counts()).unstack().fillna(0)\n"
   ]
  },
  {
   "cell_type": "code",
   "execution_count": 81,
   "metadata": {},
   "outputs": [
    {
     "data": {
      "text/html": [
       "<div>\n",
       "<style scoped>\n",
       "    .dataframe tbody tr th:only-of-type {\n",
       "        vertical-align: middle;\n",
       "    }\n",
       "\n",
       "    .dataframe tbody tr th {\n",
       "        vertical-align: top;\n",
       "    }\n",
       "\n",
       "    .dataframe thead th {\n",
       "        text-align: right;\n",
       "    }\n",
       "</style>\n",
       "<table border=\"1\" class=\"dataframe\">\n",
       "  <thead>\n",
       "    <tr style=\"text-align: right;\">\n",
       "      <th>dia_semana</th>\n",
       "      <th>Wednesday</th>\n",
       "    </tr>\n",
       "  </thead>\n",
       "  <tbody>\n",
       "    <tr>\n",
       "      <th>20</th>\n",
       "      <td>26</td>\n",
       "    </tr>\n",
       "    <tr>\n",
       "      <th>15</th>\n",
       "      <td>25</td>\n",
       "    </tr>\n",
       "    <tr>\n",
       "      <th>14</th>\n",
       "      <td>24</td>\n",
       "    </tr>\n",
       "    <tr>\n",
       "      <th>31</th>\n",
       "      <td>24</td>\n",
       "    </tr>\n",
       "    <tr>\n",
       "      <th>43</th>\n",
       "      <td>23</td>\n",
       "    </tr>\n",
       "    <tr>\n",
       "      <th>42</th>\n",
       "      <td>23</td>\n",
       "    </tr>\n",
       "    <tr>\n",
       "      <th>25</th>\n",
       "      <td>23</td>\n",
       "    </tr>\n",
       "    <tr>\n",
       "      <th>16</th>\n",
       "      <td>23</td>\n",
       "    </tr>\n",
       "    <tr>\n",
       "      <th>36</th>\n",
       "      <td>22</td>\n",
       "    </tr>\n",
       "    <tr>\n",
       "      <th>26</th>\n",
       "      <td>22</td>\n",
       "    </tr>\n",
       "    <tr>\n",
       "      <th>39</th>\n",
       "      <td>21</td>\n",
       "    </tr>\n",
       "    <tr>\n",
       "      <th>35</th>\n",
       "      <td>21</td>\n",
       "    </tr>\n",
       "    <tr>\n",
       "      <th>2</th>\n",
       "      <td>21</td>\n",
       "    </tr>\n",
       "    <tr>\n",
       "      <th>22</th>\n",
       "      <td>21</td>\n",
       "    </tr>\n",
       "    <tr>\n",
       "      <th>7</th>\n",
       "      <td>21</td>\n",
       "    </tr>\n",
       "    <tr>\n",
       "      <th>9</th>\n",
       "      <td>21</td>\n",
       "    </tr>\n",
       "    <tr>\n",
       "      <th>5</th>\n",
       "      <td>20</td>\n",
       "    </tr>\n",
       "    <tr>\n",
       "      <th>11</th>\n",
       "      <td>19</td>\n",
       "    </tr>\n",
       "    <tr>\n",
       "      <th>37</th>\n",
       "      <td>19</td>\n",
       "    </tr>\n",
       "    <tr>\n",
       "      <th>24</th>\n",
       "      <td>19</td>\n",
       "    </tr>\n",
       "    <tr>\n",
       "      <th>27</th>\n",
       "      <td>19</td>\n",
       "    </tr>\n",
       "    <tr>\n",
       "      <th>1</th>\n",
       "      <td>18</td>\n",
       "    </tr>\n",
       "    <tr>\n",
       "      <th>3</th>\n",
       "      <td>18</td>\n",
       "    </tr>\n",
       "    <tr>\n",
       "      <th>23</th>\n",
       "      <td>18</td>\n",
       "    </tr>\n",
       "    <tr>\n",
       "      <th>8</th>\n",
       "      <td>18</td>\n",
       "    </tr>\n",
       "    <tr>\n",
       "      <th>12</th>\n",
       "      <td>18</td>\n",
       "    </tr>\n",
       "    <tr>\n",
       "      <th>41</th>\n",
       "      <td>17</td>\n",
       "    </tr>\n",
       "    <tr>\n",
       "      <th>38</th>\n",
       "      <td>17</td>\n",
       "    </tr>\n",
       "    <tr>\n",
       "      <th>34</th>\n",
       "      <td>17</td>\n",
       "    </tr>\n",
       "    <tr>\n",
       "      <th>29</th>\n",
       "      <td>17</td>\n",
       "    </tr>\n",
       "    <tr>\n",
       "      <th>21</th>\n",
       "      <td>17</td>\n",
       "    </tr>\n",
       "    <tr>\n",
       "      <th>30</th>\n",
       "      <td>16</td>\n",
       "    </tr>\n",
       "    <tr>\n",
       "      <th>32</th>\n",
       "      <td>16</td>\n",
       "    </tr>\n",
       "    <tr>\n",
       "      <th>6</th>\n",
       "      <td>16</td>\n",
       "    </tr>\n",
       "    <tr>\n",
       "      <th>17</th>\n",
       "      <td>16</td>\n",
       "    </tr>\n",
       "    <tr>\n",
       "      <th>13</th>\n",
       "      <td>16</td>\n",
       "    </tr>\n",
       "    <tr>\n",
       "      <th>33</th>\n",
       "      <td>15</td>\n",
       "    </tr>\n",
       "    <tr>\n",
       "      <th>28</th>\n",
       "      <td>15</td>\n",
       "    </tr>\n",
       "    <tr>\n",
       "      <th>4</th>\n",
       "      <td>15</td>\n",
       "    </tr>\n",
       "    <tr>\n",
       "      <th>19</th>\n",
       "      <td>14</td>\n",
       "    </tr>\n",
       "    <tr>\n",
       "      <th>40</th>\n",
       "      <td>14</td>\n",
       "    </tr>\n",
       "    <tr>\n",
       "      <th>18</th>\n",
       "      <td>14</td>\n",
       "    </tr>\n",
       "    <tr>\n",
       "      <th>10</th>\n",
       "      <td>11</td>\n",
       "    </tr>\n",
       "  </tbody>\n",
       "</table>\n",
       "</div>"
      ],
      "text/plain": [
       "dia_semana  Wednesday\n",
       "20                 26\n",
       "15                 25\n",
       "14                 24\n",
       "31                 24\n",
       "43                 23\n",
       "42                 23\n",
       "25                 23\n",
       "16                 23\n",
       "36                 22\n",
       "26                 22\n",
       "39                 21\n",
       "35                 21\n",
       "2                  21\n",
       "22                 21\n",
       "7                  21\n",
       "9                  21\n",
       "5                  20\n",
       "11                 19\n",
       "37                 19\n",
       "24                 19\n",
       "27                 19\n",
       "1                  18\n",
       "3                  18\n",
       "23                 18\n",
       "8                  18\n",
       "12                 18\n",
       "41                 17\n",
       "38                 17\n",
       "34                 17\n",
       "29                 17\n",
       "21                 17\n",
       "30                 16\n",
       "32                 16\n",
       "6                  16\n",
       "17                 16\n",
       "13                 16\n",
       "33                 15\n",
       "28                 15\n",
       "4                  15\n",
       "19                 14\n",
       "40                 14\n",
       "18                 14\n",
       "10                 11"
      ]
     },
     "execution_count": 81,
     "metadata": {},
     "output_type": "execute_result"
    }
   ],
   "source": [
    "frecuencia_dia_semana.T[['Wednesday']].sort_values(by=['Wednesday'], ascending=False)\n",
    "#frecuencia_dia_semana.T[['Saturday']].sort_values(by=['Saturday'], ascending=False)"
   ]
  },
  {
   "cell_type": "code",
   "execution_count": 55,
   "metadata": {},
   "outputs": [
    {
     "data": {
      "text/html": [
       "<div>\n",
       "<style scoped>\n",
       "    .dataframe tbody tr th:only-of-type {\n",
       "        vertical-align: middle;\n",
       "    }\n",
       "\n",
       "    .dataframe tbody tr th {\n",
       "        vertical-align: top;\n",
       "    }\n",
       "\n",
       "    .dataframe thead th {\n",
       "        text-align: right;\n",
       "    }\n",
       "</style>\n",
       "<table border=\"1\" class=\"dataframe\">\n",
       "  <thead>\n",
       "    <tr style=\"text-align: right;\">\n",
       "      <th>mes</th>\n",
       "      <th>6</th>\n",
       "    </tr>\n",
       "  </thead>\n",
       "  <tbody>\n",
       "    <tr>\n",
       "      <th>9</th>\n",
       "      <td>8.0</td>\n",
       "    </tr>\n",
       "    <tr>\n",
       "      <th>1</th>\n",
       "      <td>6.0</td>\n",
       "    </tr>\n",
       "    <tr>\n",
       "      <th>39</th>\n",
       "      <td>6.0</td>\n",
       "    </tr>\n",
       "    <tr>\n",
       "      <th>16</th>\n",
       "      <td>6.0</td>\n",
       "    </tr>\n",
       "    <tr>\n",
       "      <th>43</th>\n",
       "      <td>6.0</td>\n",
       "    </tr>\n",
       "    <tr>\n",
       "      <th>22</th>\n",
       "      <td>5.0</td>\n",
       "    </tr>\n",
       "    <tr>\n",
       "      <th>32</th>\n",
       "      <td>5.0</td>\n",
       "    </tr>\n",
       "    <tr>\n",
       "      <th>30</th>\n",
       "      <td>5.0</td>\n",
       "    </tr>\n",
       "    <tr>\n",
       "      <th>24</th>\n",
       "      <td>5.0</td>\n",
       "    </tr>\n",
       "    <tr>\n",
       "      <th>14</th>\n",
       "      <td>5.0</td>\n",
       "    </tr>\n",
       "    <tr>\n",
       "      <th>38</th>\n",
       "      <td>5.0</td>\n",
       "    </tr>\n",
       "    <tr>\n",
       "      <th>37</th>\n",
       "      <td>4.0</td>\n",
       "    </tr>\n",
       "    <tr>\n",
       "      <th>5</th>\n",
       "      <td>4.0</td>\n",
       "    </tr>\n",
       "    <tr>\n",
       "      <th>31</th>\n",
       "      <td>4.0</td>\n",
       "    </tr>\n",
       "    <tr>\n",
       "      <th>42</th>\n",
       "      <td>4.0</td>\n",
       "    </tr>\n",
       "    <tr>\n",
       "      <th>19</th>\n",
       "      <td>4.0</td>\n",
       "    </tr>\n",
       "    <tr>\n",
       "      <th>27</th>\n",
       "      <td>4.0</td>\n",
       "    </tr>\n",
       "    <tr>\n",
       "      <th>26</th>\n",
       "      <td>4.0</td>\n",
       "    </tr>\n",
       "    <tr>\n",
       "      <th>7</th>\n",
       "      <td>4.0</td>\n",
       "    </tr>\n",
       "    <tr>\n",
       "      <th>35</th>\n",
       "      <td>3.0</td>\n",
       "    </tr>\n",
       "    <tr>\n",
       "      <th>29</th>\n",
       "      <td>3.0</td>\n",
       "    </tr>\n",
       "    <tr>\n",
       "      <th>28</th>\n",
       "      <td>3.0</td>\n",
       "    </tr>\n",
       "    <tr>\n",
       "      <th>6</th>\n",
       "      <td>3.0</td>\n",
       "    </tr>\n",
       "    <tr>\n",
       "      <th>25</th>\n",
       "      <td>3.0</td>\n",
       "    </tr>\n",
       "    <tr>\n",
       "      <th>21</th>\n",
       "      <td>3.0</td>\n",
       "    </tr>\n",
       "    <tr>\n",
       "      <th>20</th>\n",
       "      <td>3.0</td>\n",
       "    </tr>\n",
       "    <tr>\n",
       "      <th>8</th>\n",
       "      <td>3.0</td>\n",
       "    </tr>\n",
       "    <tr>\n",
       "      <th>17</th>\n",
       "      <td>3.0</td>\n",
       "    </tr>\n",
       "    <tr>\n",
       "      <th>15</th>\n",
       "      <td>3.0</td>\n",
       "    </tr>\n",
       "    <tr>\n",
       "      <th>13</th>\n",
       "      <td>3.0</td>\n",
       "    </tr>\n",
       "    <tr>\n",
       "      <th>36</th>\n",
       "      <td>2.0</td>\n",
       "    </tr>\n",
       "    <tr>\n",
       "      <th>41</th>\n",
       "      <td>2.0</td>\n",
       "    </tr>\n",
       "    <tr>\n",
       "      <th>40</th>\n",
       "      <td>2.0</td>\n",
       "    </tr>\n",
       "    <tr>\n",
       "      <th>3</th>\n",
       "      <td>2.0</td>\n",
       "    </tr>\n",
       "    <tr>\n",
       "      <th>11</th>\n",
       "      <td>2.0</td>\n",
       "    </tr>\n",
       "    <tr>\n",
       "      <th>34</th>\n",
       "      <td>2.0</td>\n",
       "    </tr>\n",
       "    <tr>\n",
       "      <th>12</th>\n",
       "      <td>2.0</td>\n",
       "    </tr>\n",
       "    <tr>\n",
       "      <th>33</th>\n",
       "      <td>1.0</td>\n",
       "    </tr>\n",
       "    <tr>\n",
       "      <th>4</th>\n",
       "      <td>1.0</td>\n",
       "    </tr>\n",
       "    <tr>\n",
       "      <th>18</th>\n",
       "      <td>1.0</td>\n",
       "    </tr>\n",
       "    <tr>\n",
       "      <th>23</th>\n",
       "      <td>1.0</td>\n",
       "    </tr>\n",
       "    <tr>\n",
       "      <th>10</th>\n",
       "      <td>0.0</td>\n",
       "    </tr>\n",
       "    <tr>\n",
       "      <th>2</th>\n",
       "      <td>0.0</td>\n",
       "    </tr>\n",
       "  </tbody>\n",
       "</table>\n",
       "</div>"
      ],
      "text/plain": [
       "mes    6\n",
       "9    8.0\n",
       "1    6.0\n",
       "39   6.0\n",
       "16   6.0\n",
       "43   6.0\n",
       "22   5.0\n",
       "32   5.0\n",
       "30   5.0\n",
       "24   5.0\n",
       "14   5.0\n",
       "38   5.0\n",
       "37   4.0\n",
       "5    4.0\n",
       "31   4.0\n",
       "42   4.0\n",
       "19   4.0\n",
       "27   4.0\n",
       "26   4.0\n",
       "7    4.0\n",
       "35   3.0\n",
       "29   3.0\n",
       "28   3.0\n",
       "6    3.0\n",
       "25   3.0\n",
       "21   3.0\n",
       "20   3.0\n",
       "8    3.0\n",
       "17   3.0\n",
       "15   3.0\n",
       "13   3.0\n",
       "36   2.0\n",
       "41   2.0\n",
       "40   2.0\n",
       "3    2.0\n",
       "11   2.0\n",
       "34   2.0\n",
       "12   2.0\n",
       "33   1.0\n",
       "4    1.0\n",
       "18   1.0\n",
       "23   1.0\n",
       "10   0.0\n",
       "2    0.0"
      ]
     },
     "execution_count": 55,
     "metadata": {},
     "output_type": "execute_result"
    }
   ],
   "source": [
    "frecuencia_mes.T[[6]].sort_values(by=[6], ascending=False)"
   ]
  },
  {
   "cell_type": "code",
   "execution_count": 58,
   "metadata": {},
   "outputs": [
    {
     "data": {
      "text/html": [
       "<div>\n",
       "<style scoped>\n",
       "    .dataframe tbody tr th:only-of-type {\n",
       "        vertical-align: middle;\n",
       "    }\n",
       "\n",
       "    .dataframe tbody tr th {\n",
       "        vertical-align: top;\n",
       "    }\n",
       "\n",
       "    .dataframe thead th {\n",
       "        text-align: right;\n",
       "    }\n",
       "</style>\n",
       "<table border=\"1\" class=\"dataframe\">\n",
       "  <thead>\n",
       "    <tr style=\"text-align: right;\">\n",
       "      <th>trimestre</th>\n",
       "      <th>2</th>\n",
       "    </tr>\n",
       "  </thead>\n",
       "  <tbody>\n",
       "    <tr>\n",
       "      <th>4</th>\n",
       "      <td>16</td>\n",
       "    </tr>\n",
       "    <tr>\n",
       "      <th>23</th>\n",
       "      <td>15</td>\n",
       "    </tr>\n",
       "    <tr>\n",
       "      <th>27</th>\n",
       "      <td>15</td>\n",
       "    </tr>\n",
       "    <tr>\n",
       "      <th>5</th>\n",
       "      <td>14</td>\n",
       "    </tr>\n",
       "    <tr>\n",
       "      <th>25</th>\n",
       "      <td>14</td>\n",
       "    </tr>\n",
       "    <tr>\n",
       "      <th>40</th>\n",
       "      <td>14</td>\n",
       "    </tr>\n",
       "    <tr>\n",
       "      <th>30</th>\n",
       "      <td>13</td>\n",
       "    </tr>\n",
       "    <tr>\n",
       "      <th>20</th>\n",
       "      <td>13</td>\n",
       "    </tr>\n",
       "    <tr>\n",
       "      <th>26</th>\n",
       "      <td>12</td>\n",
       "    </tr>\n",
       "    <tr>\n",
       "      <th>37</th>\n",
       "      <td>12</td>\n",
       "    </tr>\n",
       "    <tr>\n",
       "      <th>42</th>\n",
       "      <td>12</td>\n",
       "    </tr>\n",
       "    <tr>\n",
       "      <th>16</th>\n",
       "      <td>12</td>\n",
       "    </tr>\n",
       "    <tr>\n",
       "      <th>39</th>\n",
       "      <td>12</td>\n",
       "    </tr>\n",
       "    <tr>\n",
       "      <th>35</th>\n",
       "      <td>11</td>\n",
       "    </tr>\n",
       "    <tr>\n",
       "      <th>21</th>\n",
       "      <td>11</td>\n",
       "    </tr>\n",
       "    <tr>\n",
       "      <th>29</th>\n",
       "      <td>11</td>\n",
       "    </tr>\n",
       "    <tr>\n",
       "      <th>24</th>\n",
       "      <td>10</td>\n",
       "    </tr>\n",
       "    <tr>\n",
       "      <th>31</th>\n",
       "      <td>10</td>\n",
       "    </tr>\n",
       "    <tr>\n",
       "      <th>43</th>\n",
       "      <td>10</td>\n",
       "    </tr>\n",
       "    <tr>\n",
       "      <th>36</th>\n",
       "      <td>10</td>\n",
       "    </tr>\n",
       "    <tr>\n",
       "      <th>19</th>\n",
       "      <td>10</td>\n",
       "    </tr>\n",
       "    <tr>\n",
       "      <th>33</th>\n",
       "      <td>10</td>\n",
       "    </tr>\n",
       "    <tr>\n",
       "      <th>12</th>\n",
       "      <td>10</td>\n",
       "    </tr>\n",
       "    <tr>\n",
       "      <th>9</th>\n",
       "      <td>10</td>\n",
       "    </tr>\n",
       "    <tr>\n",
       "      <th>3</th>\n",
       "      <td>10</td>\n",
       "    </tr>\n",
       "    <tr>\n",
       "      <th>2</th>\n",
       "      <td>9</td>\n",
       "    </tr>\n",
       "    <tr>\n",
       "      <th>11</th>\n",
       "      <td>9</td>\n",
       "    </tr>\n",
       "    <tr>\n",
       "      <th>10</th>\n",
       "      <td>9</td>\n",
       "    </tr>\n",
       "    <tr>\n",
       "      <th>28</th>\n",
       "      <td>9</td>\n",
       "    </tr>\n",
       "    <tr>\n",
       "      <th>8</th>\n",
       "      <td>9</td>\n",
       "    </tr>\n",
       "    <tr>\n",
       "      <th>41</th>\n",
       "      <td>9</td>\n",
       "    </tr>\n",
       "    <tr>\n",
       "      <th>34</th>\n",
       "      <td>8</td>\n",
       "    </tr>\n",
       "    <tr>\n",
       "      <th>1</th>\n",
       "      <td>8</td>\n",
       "    </tr>\n",
       "    <tr>\n",
       "      <th>32</th>\n",
       "      <td>8</td>\n",
       "    </tr>\n",
       "    <tr>\n",
       "      <th>18</th>\n",
       "      <td>8</td>\n",
       "    </tr>\n",
       "    <tr>\n",
       "      <th>15</th>\n",
       "      <td>8</td>\n",
       "    </tr>\n",
       "    <tr>\n",
       "      <th>14</th>\n",
       "      <td>8</td>\n",
       "    </tr>\n",
       "    <tr>\n",
       "      <th>13</th>\n",
       "      <td>8</td>\n",
       "    </tr>\n",
       "    <tr>\n",
       "      <th>6</th>\n",
       "      <td>8</td>\n",
       "    </tr>\n",
       "    <tr>\n",
       "      <th>38</th>\n",
       "      <td>7</td>\n",
       "    </tr>\n",
       "    <tr>\n",
       "      <th>7</th>\n",
       "      <td>7</td>\n",
       "    </tr>\n",
       "    <tr>\n",
       "      <th>17</th>\n",
       "      <td>6</td>\n",
       "    </tr>\n",
       "    <tr>\n",
       "      <th>22</th>\n",
       "      <td>5</td>\n",
       "    </tr>\n",
       "  </tbody>\n",
       "</table>\n",
       "</div>"
      ],
      "text/plain": [
       "trimestre   2\n",
       "4          16\n",
       "23         15\n",
       "27         15\n",
       "5          14\n",
       "25         14\n",
       "40         14\n",
       "30         13\n",
       "20         13\n",
       "26         12\n",
       "37         12\n",
       "42         12\n",
       "16         12\n",
       "39         12\n",
       "35         11\n",
       "21         11\n",
       "29         11\n",
       "24         10\n",
       "31         10\n",
       "43         10\n",
       "36         10\n",
       "19         10\n",
       "33         10\n",
       "12         10\n",
       "9          10\n",
       "3          10\n",
       "2           9\n",
       "11          9\n",
       "10          9\n",
       "28          9\n",
       "8           9\n",
       "41          9\n",
       "34          8\n",
       "1           8\n",
       "32          8\n",
       "18          8\n",
       "15          8\n",
       "14          8\n",
       "13          8\n",
       "6           8\n",
       "38          7\n",
       "7           7\n",
       "17          6\n",
       "22          5"
      ]
     },
     "execution_count": 58,
     "metadata": {},
     "output_type": "execute_result"
    }
   ],
   "source": [
    "frecuencia_epoca.T[[2]].sort_values(by=[2], ascending=False)"
   ]
  },
  {
   "cell_type": "code",
   "execution_count": 86,
   "metadata": {},
   "outputs": [
    {
     "data": {
      "text/plain": [
       "┌───────┬───────────┬────────────┐\n",
       "│  SB   │ count(SB) │ dia_semana │\n",
       "│ int64 │   int64   │  varchar   │\n",
       "├───────┼───────────┼────────────┤\n",
       "│    11 │        16 │ Wednesday  │\n",
       "│    13 │        14 │ Wednesday  │\n",
       "│    14 │        13 │ Wednesday  │\n",
       "│     2 │        12 │ Wednesday  │\n",
       "│     7 │        12 │ Wednesday  │\n",
       "│     6 │        12 │ Wednesday  │\n",
       "│    16 │        11 │ Wednesday  │\n",
       "│     1 │        10 │ Wednesday  │\n",
       "│     3 │        10 │ Wednesday  │\n",
       "│    12 │        10 │ Wednesday  │\n",
       "│     8 │         9 │ Wednesday  │\n",
       "│     4 │         9 │ Wednesday  │\n",
       "│     9 │         7 │ Wednesday  │\n",
       "│     5 │         6 │ Wednesday  │\n",
       "│    10 │         6 │ Wednesday  │\n",
       "│    15 │         5 │ Wednesday  │\n",
       "├───────┴───────────┴────────────┤\n",
       "│ 16 rows              3 columns │\n",
       "└────────────────────────────────┘"
      ]
     },
     "execution_count": 86,
     "metadata": {},
     "output_type": "execute_result"
    }
   ],
   "source": [
    "db.sql('''select SB, count(SB), dia_semana\n",
    "       from df_baloto_revancha\n",
    "       where tipo_sorteo = 'baloto'\n",
    "       group by SB, dia_semana\n",
    "       having dia_semana = 'Wednesday'\n",
    "       order by count(SB) DESC;''')"
   ]
  },
  {
   "cell_type": "code",
   "execution_count": 85,
   "metadata": {},
   "outputs": [
    {
     "data": {
      "text/plain": [
       "┌───────┬───────────┬───────┐\n",
       "│  SB   │ count(SB) │  mes  │\n",
       "│ int64 │   int64   │ int32 │\n",
       "├───────┼───────────┼───────┤\n",
       "│    10 │         5 │     6 │\n",
       "│     4 │         5 │     6 │\n",
       "│     7 │         3 │     6 │\n",
       "│    11 │         3 │     6 │\n",
       "│     1 │         2 │     6 │\n",
       "│    13 │         2 │     6 │\n",
       "│    14 │         2 │     6 │\n",
       "│     5 │         2 │     6 │\n",
       "│     9 │         2 │     6 │\n",
       "│     8 │         1 │     6 │\n",
       "│     2 │         1 │     6 │\n",
       "│    16 │         1 │     6 │\n",
       "├───────┴───────────┴───────┤\n",
       "│ 12 rows         3 columns │\n",
       "└───────────────────────────┘"
      ]
     },
     "execution_count": 85,
     "metadata": {},
     "output_type": "execute_result"
    }
   ],
   "source": [
    "db.sql('''select SB, count(SB), mes\n",
    "       from df_baloto_revancha\n",
    "       where tipo_sorteo = 'baloto'\n",
    "       group by SB, mes\n",
    "       having mes = 6\n",
    "       order by count(SB) DESC;''')"
   ]
  },
  {
   "cell_type": "code",
   "execution_count": 84,
   "metadata": {},
   "outputs": [
    {
     "data": {
      "text/plain": [
       "┌───────┬───────────┬───────────┐\n",
       "│  SB   │ count(SB) │ trimestre │\n",
       "│ int64 │   int64   │   int64   │\n",
       "├───────┼───────────┼───────────┤\n",
       "│    14 │         9 │         2 │\n",
       "│     7 │         9 │         2 │\n",
       "│     8 │         8 │         2 │\n",
       "│    11 │         7 │         2 │\n",
       "│     6 │         7 │         2 │\n",
       "│     3 │         7 │         2 │\n",
       "│     2 │         7 │         2 │\n",
       "│     4 │         6 │         2 │\n",
       "│    15 │         5 │         2 │\n",
       "│    12 │         5 │         2 │\n",
       "│     5 │         5 │         2 │\n",
       "│    16 │         5 │         2 │\n",
       "│     9 │         3 │         2 │\n",
       "│    13 │         2 │         2 │\n",
       "│     1 │         2 │         2 │\n",
       "│    10 │         1 │         2 │\n",
       "├───────┴───────────┴───────────┤\n",
       "│ 16 rows             3 columns │\n",
       "└───────────────────────────────┘"
      ]
     },
     "execution_count": 84,
     "metadata": {},
     "output_type": "execute_result"
    }
   ],
   "source": [
    "db.sql('''select SB, count(SB), trimestre\n",
    "       from df_baloto_revancha\n",
    "       where tipo_sorteo = 'baloto'\n",
    "       group by SB, trimestre\n",
    "       having trimestre = 2\n",
    "       order by count(SB) DESC;''')"
   ]
  },
  {
   "cell_type": "code",
   "execution_count": 92,
   "metadata": {},
   "outputs": [
    {
     "data": {
      "text/plain": [
       "┌───────┬───────┬───────┬───────┬───────┬───────┐\n",
       "│  B1   │  B2   │  B3   │  B4   │  B5   │  SB   │\n",
       "│ int64 │ int64 │ int64 │ int64 │ int64 │ int64 │\n",
       "├───────────────────────────────────────────────┤\n",
       "│                    0 rows                     │\n",
       "└───────────────────────────────────────────────┘"
      ]
     },
     "execution_count": 92,
     "metadata": {},
     "output_type": "execute_result"
    }
   ],
   "source": [
    "#8.0\t14.0\t22.0\t30.0\t37.0\t8.0\n",
    "db.sql('''select B1, B2, B3, B4, B5, SB from \n",
    "       df_baloto_revancha \n",
    "       where B1=8 and B2=14 and B3=22 and B4=30 and B5=37 and SB=8;''')"
   ]
  },
  {
   "cell_type": "code",
   "execution_count": 90,
   "metadata": {},
   "outputs": [
    {
     "data": {
      "text/plain": [
       "┌───────┬───────┬───────┬───────┬───────┬───────┐\n",
       "│  B1   │  B2   │  B3   │  B4   │  B5   │  SB   │\n",
       "│ int64 │ int64 │ int64 │ int64 │ int64 │ int64 │\n",
       "├───────┼───────┼───────┼───────┼───────┼───────┤\n",
       "│     5 │    10 │    24 │    29 │    41 │    11 │\n",
       "│     5 │    16 │    31 │    32 │    33 │    14 │\n",
       "│     5 │     8 │    14 │    26 │    33 │     3 │\n",
       "│     5 │    17 │    21 │    26 │    31 │     7 │\n",
       "│     5 │     9 │    16 │    29 │    42 │    11 │\n",
       "│     5 │    20 │    22 │    32 │    35 │    16 │\n",
       "│     5 │    15 │    27 │    34 │    35 │     4 │\n",
       "│     5 │     7 │    23 │    34 │    43 │    11 │\n",
       "│     5 │    20 │    35 │    38 │    43 │     2 │\n",
       "│     5 │    11 │    29 │    30 │    43 │    14 │\n",
       "│     · │     · │     · │     · │     · │     · │\n",
       "│     · │     · │     · │     · │     · │     · │\n",
       "│     · │     · │     · │     · │     · │     · │\n",
       "│     3 │    13 │    20 │    30 │    35 │    14 │\n",
       "│     2 │    27 │    30 │    34 │    37 │    14 │\n",
       "│    16 │    25 │    26 │    35 │    39 │    14 │\n",
       "│    22 │    27 │    37 │    40 │    42 │    14 │\n",
       "│    18 │    20 │    39 │    40 │    43 │    14 │\n",
       "│    18 │    21 │    34 │    38 │    43 │    14 │\n",
       "│    14 │    20 │    29 │    37 │    41 │    14 │\n",
       "│     6 │    30 │    34 │    36 │    39 │    14 │\n",
       "│    24 │    29 │    34 │    35 │    36 │    14 │\n",
       "│    18 │    19 │    23 │    25 │    38 │    14 │\n",
       "├───────┴───────┴───────┴───────┴───────┴───────┤\n",
       "│ 195 rows (20 shown)                 6 columns │\n",
       "└───────────────────────────────────────────────┘"
      ]
     },
     "execution_count": 90,
     "metadata": {},
     "output_type": "execute_result"
    }
   ],
   "source": [
    "db.sql('''select B1, B2, B3, B4, B5, SB from \n",
    "       df_baloto_revancha \n",
    "       where B1=5 or B2=14 or B3=16 or B4=27 or B5=31 or SB=14;''')"
   ]
  }
 ],
 "metadata": {
  "kernelspec": {
   "display_name": "Python 3",
   "language": "python",
   "name": "python3"
  },
  "language_info": {
   "codemirror_mode": {
    "name": "ipython",
    "version": 3
   },
   "file_extension": ".py",
   "mimetype": "text/x-python",
   "name": "python",
   "nbconvert_exporter": "python",
   "pygments_lexer": "ipython3",
   "version": "3.12.2"
  }
 },
 "nbformat": 4,
 "nbformat_minor": 2
}
